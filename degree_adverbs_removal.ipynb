{
  "cells": [
    {
      "cell_type": "markdown",
      "metadata": {
        "id": "3BA0gdkykIf3"
      },
      "source": [
        "# Preliminaries\n",
        "\n",
        "The program was run using Google Colab with GPU, Tesla T4. For finetuning the pretrained models to the desired datasets, the Hugging Face Trainer API was used. Datasets include a local fake news dataset (Filipino) and the Kaggle fake news dataset from UTK Machine Learning Club 2017.\n",
        "\n",
        "This experiment will mainly cover creating an adversarial attack by removing degree adverbs.\n",
        "\n"
      ]
    },
    {
      "cell_type": "code",
      "execution_count": null,
      "metadata": {
        "id": "HHok42x4Xdeo"
      },
      "outputs": [],
      "source": [
        "from google.colab import drive\n",
        "drive.mount('/content/drive')"
      ]
    },
    {
      "cell_type": "code",
      "execution_count": null,
      "metadata": {
        "id": "qFtiMWJOLJTU"
      },
      "outputs": [],
      "source": [
        "!cp \"/content/drive/My Drive/198-adversarial-ml/Kaggle-Fake-News/train.csv\" \"train.csv\"\n",
        "!cp \"/content/drive/My Drive/198-adversarial-ml/Fake-News-Filipino/full.csv\" \"full.csv\""
      ]
    },
    {
      "cell_type": "code",
      "execution_count": null,
      "metadata": {
        "id": "ArdmD9aZ79SV"
      },
      "outputs": [],
      "source": [
        "!pip install datasets\n",
        "!pip install transformers"
      ]
    },
    {
      "cell_type": "code",
      "execution_count": 3,
      "metadata": {
        "id": "tlpy-RUpZYG1"
      },
      "outputs": [],
      "source": [
        "import torch\n",
        "import numpy as np\n",
        "import pandas as pd\n",
        "import itertools\n",
        "import string\n",
        "import re\n",
        "from datasets import load_dataset\n",
        "from sklearn.model_selection import train_test_split\n",
        "from sklearn.metrics import accuracy_score, precision_score, recall_score, f1_score\n",
        "from transformers import AutoTokenizer, AutoModelForSequenceClassification\n",
        "from transformers import TrainingArguments, Trainer\n",
        "from transformers import EarlyStoppingCallback"
      ]
    },
    {
      "cell_type": "markdown",
      "source": [
        "The following code will be used for training the models used in this experiment."
      ],
      "metadata": {
        "id": "0la4tgRcJ2vZ"
      }
    },
    {
      "cell_type": "code",
      "execution_count": 58,
      "metadata": {
        "id": "cDb_FwUSnakj"
      },
      "outputs": [],
      "source": [
        "class Dataset(torch.utils.data.Dataset):\n",
        "    def __init__(self, encodings, labels=None):\n",
        "        self.encodings = encodings\n",
        "        self.labels = labels\n",
        "\n",
        "    def __getitem__(self, idx):\n",
        "        item = {key: torch.tensor(val[idx]) for key, val in self.encodings.items()}\n",
        "        if self.labels:\n",
        "            item[\"labels\"] = torch.tensor(self.labels[idx])\n",
        "        return item\n",
        "\n",
        "    def __len__(self):\n",
        "        return len(self.encodings[\"input_ids\"])"
      ]
    },
    {
      "cell_type": "code",
      "execution_count": 59,
      "metadata": {
        "id": "iItkR8WHndr4"
      },
      "outputs": [],
      "source": [
        "def compute_metrics(p):\n",
        "    pred, labels = p\n",
        "    pred = np.argmax(pred, axis=1)\n",
        "\n",
        "    accuracy = accuracy_score(y_true=labels, y_pred=pred)\n",
        "    recall = recall_score(y_true=labels, y_pred=pred)\n",
        "    precision = precision_score(y_true=labels, y_pred=pred)\n",
        "    f1 = f1_score(y_true=labels, y_pred=pred)\n",
        "\n",
        "    return {\"accuracy\": accuracy, \"precision\": precision, \"recall\": recall, \"f1\": f1}"
      ]
    },
    {
      "cell_type": "code",
      "source": [
        "results = []"
      ],
      "metadata": {
        "id": "PEcx65VmLJXH"
      },
      "execution_count": 60,
      "outputs": []
    },
    {
      "cell_type": "markdown",
      "source": [
        "Preload pre-processed and raw datasets and models if needed."
      ],
      "metadata": {
        "id": "W5CAZ1NyS8hE"
      }
    },
    {
      "cell_type": "code",
      "source": [
        "!cp \"/content/drive/My Drive/198-adversarial-ml/Kaggle-Fake-News/train_orig.csv\" \"train_kaggle.csv\"\n",
        "!cp \"/content/drive/My Drive/198-adversarial-ml/Kaggle-Fake-News/test_orig.csv\" \"test_orig_kaggle.csv\"\n",
        "!cp \"/content/drive/My Drive/198-adversarial-ml/Kaggle-Fake-News/test_adv.csv\" \"test_adv_kaggle.csv\"\n",
        "\n",
        "!cp \"/content/drive/My Drive/198-adversarial-ml/Fake-News-Filipino/train_orig.csv\" \"train_fil.csv\"\n",
        "!cp \"/content/drive/My Drive/198-adversarial-ml/Fake-News-Filipino/test_orig.csv\" \"test_orig_fil.csv\"\n",
        "!cp \"/content/drive/My Drive/198-adversarial-ml/Fake-News-Filipino/test_adv.csv\" \"test_adv_fil.csv\""
      ],
      "metadata": {
        "id": "5ItQiZFIS8Ei"
      },
      "execution_count": 26,
      "outputs": []
    },
    {
      "cell_type": "markdown",
      "metadata": {
        "id": "R-ZQbdhW7Xak"
      },
      "source": [
        "# Kaggle Fake News Dataset"
      ]
    },
    {
      "cell_type": "markdown",
      "metadata": {
        "id": "gdfm-vvhiH1d"
      },
      "source": [
        "Use the train.csv file from [Kaggle Fake News Dataset](https://www.kaggle.com/competitions/fake-news/data) containing over 20000 news articles labeled as 0 when reliable, and 1 when unreliable. We split the training dataset to 70-30 wherein the new training dataset forms 70% while the test dataset forms the 30%."
      ]
    },
    {
      "cell_type": "code",
      "execution_count": null,
      "metadata": {
        "id": "ZD9h8Dk_7SL-"
      },
      "outputs": [],
      "source": [
        "df = pd.read_csv('train.csv')"
      ]
    },
    {
      "cell_type": "code",
      "execution_count": null,
      "metadata": {
        "id": "DMt3110p75_-"
      },
      "outputs": [],
      "source": [
        "df = df[df['text'].notnull()]"
      ]
    },
    {
      "cell_type": "code",
      "execution_count": null,
      "metadata": {
        "id": "nrluMxm0nYzd"
      },
      "outputs": [],
      "source": [
        "train, test_orig = train_test_split(df, test_size=0.3)\n",
        "train.to_csv('/content/drive/My Drive/198-adversarial-ml/Kaggle-Fake-News/train_orig.csv', index=False)\n",
        "test_orig.to_csv('/content/drive/My Drive/198-adversarial-ml/Kaggle-Fake-News/test_orig.csv', index=False)\n",
        "\n",
        "!cp \"/content/drive/My Drive/198-adversarial-ml/Kaggle-Fake-News/train_orig.csv\" \"train_kaggle.csv\"\n",
        "!cp \"/content/drive/My Drive/198-adversarial-ml/Kaggle-Fake-News/test_orig.csv\" \"test_orig_kaggle.csv\""
      ]
    },
    {
      "cell_type": "code",
      "execution_count": null,
      "metadata": {
        "colab": {
          "base_uri": "https://localhost:8080/"
        },
        "id": "ebPp0Xrm53eW",
        "outputId": "18e1e2a7-95af-426f-d57c-5f15136a3673"
      },
      "outputs": [
        {
          "output_type": "stream",
          "name": "stdout",
          "text": [
            "Train size: 14532\n",
            "Test size: 6229\n"
          ]
        }
      ],
      "source": [
        "print(\"Train size:\", len(train))\n",
        "print(\"Test size:\", len(test_orig))"
      ]
    },
    {
      "cell_type": "code",
      "execution_count": null,
      "metadata": {
        "id": "9nQeY2yB1fxK"
      },
      "outputs": [],
      "source": [
        "df_test = pd.read_csv('test_orig_kaggle.csv')"
      ]
    },
    {
      "cell_type": "markdown",
      "metadata": {
        "id": "OKqmcb09nKh_"
      },
      "source": [
        "## Pre-processing"
      ]
    },
    {
      "cell_type": "markdown",
      "metadata": {
        "id": "7yPQWmT-2Mxb"
      },
      "source": [
        "The pre-processing step includes modifying the test dataset to create an adversarial one."
      ]
    },
    {
      "cell_type": "markdown",
      "metadata": {
        "id": "8iKAcB_8kEUU"
      },
      "source": [
        "For the **first experiement**, the *adv_list*  will contain the list of degree adverbs from (Flores et al., 2022)\n",
        "\n",
        "\n"
      ]
    },
    {
      "cell_type": "code",
      "execution_count": null,
      "metadata": {
        "id": "v1KxgRGg7Z6K"
      },
      "outputs": [],
      "source": [
        "adv_list = ['absolutely', 'amazingly', 'awfully', 'barely',\n",
        "                'completely', 'considerably', 'decidedly', 'deeply', \n",
        "                'enormously', 'entirely', 'especially', 'exceptionally',\n",
        "                'exclusively', 'extremely', 'fully', 'greatly', 'hardly',\n",
        "                'hella', 'highly', 'hugely', 'incredibly', 'intensely',\n",
        "                'majorly', 'overwhelmingly', 'really', 'remarkably',\n",
        "                'substantially', 'thoroughly', 'totally', 'tremendously',\n",
        "                'unbelievably', 'unusually', 'utterly', 'very']"
      ]
    },
    {
      "cell_type": "markdown",
      "metadata": {
        "id": "K5m3hXUymbqZ"
      },
      "source": [
        "In the following lines of code, a new dataframe is created which does not contain the adverbs in the *adv_list*"
      ]
    },
    {
      "cell_type": "code",
      "execution_count": null,
      "metadata": {
        "id": "HxM23RZ57mOw"
      },
      "outputs": [],
      "source": [
        "df_test['text_new'] = df_test['text'].apply(lambda s: ' '.join([w for w in s.split() if w.lower() not in adv_list]))\n",
        "\n",
        "df_test_orig = df_test[['id','title','author','text','label']]\n",
        "df_test_adv  = df_test[['id','title','author','text_new','label']].rename(columns={'text_new':'text'})"
      ]
    },
    {
      "cell_type": "markdown",
      "metadata": {
        "id": "q24rdTBRm6QV"
      },
      "source": [
        "Copy the old and modified dataset to local storage and drive."
      ]
    },
    {
      "cell_type": "code",
      "execution_count": null,
      "metadata": {
        "id": "P1fEQozE7m3d"
      },
      "outputs": [],
      "source": [
        "df_test_orig.to_csv('/content/drive/My Drive/198-adversarial-ml/Kaggle-Fake-News/test_orig.csv', index=False)\n",
        "df_test_adv.to_csv('/content/drive/My Drive/198-adversarial-ml/Kaggle-Fake-News/test_adv.csv', index=False)"
      ]
    },
    {
      "cell_type": "code",
      "execution_count": null,
      "metadata": {
        "id": "3ZCPZLzG7ply"
      },
      "outputs": [],
      "source": [
        "!cp \"/content/drive/My Drive/198-adversarial-ml/Kaggle-Fake-News/test_orig.csv\" \"test_orig_kaggle.csv\"\n",
        "!cp \"/content/drive/My Drive/198-adversarial-ml/Kaggle-Fake-News/test_adv.csv\" \"test_adv_kaggle.csv\""
      ]
    },
    {
      "cell_type": "code",
      "execution_count": null,
      "metadata": {
        "id": "BpKUAAoZ7q5z"
      },
      "outputs": [],
      "source": [
        "ids_old = df_test_orig.text.str.contains('really$|really-|really ', flags = re.IGNORECASE, regex = True, na = False)\n",
        "ids_new = df_test_adv.text.str.contains('really$|really-|really ', flags = re.IGNORECASE, regex = True, na = False)"
      ]
    },
    {
      "cell_type": "markdown",
      "metadata": {
        "id": "E3sRs6tO7uo9"
      },
      "source": [
        "1204 rows with adverb \"really\"."
      ]
    },
    {
      "cell_type": "code",
      "execution_count": null,
      "metadata": {
        "colab": {
          "base_uri": "https://localhost:8080/",
          "height": 424
        },
        "id": "Wbj1ZGnn7w50",
        "outputId": "efd0c0dc-ab79-4ab8-fb91-d1a64d4a0f9b"
      },
      "outputs": [
        {
          "data": {
            "text/html": [
              "\n",
              "  <div id=\"df-0031a2e8-b158-4124-a6e2-93ffe1da09bf\">\n",
              "    <div class=\"colab-df-container\">\n",
              "      <div>\n",
              "<style scoped>\n",
              "    .dataframe tbody tr th:only-of-type {\n",
              "        vertical-align: middle;\n",
              "    }\n",
              "\n",
              "    .dataframe tbody tr th {\n",
              "        vertical-align: top;\n",
              "    }\n",
              "\n",
              "    .dataframe thead th {\n",
              "        text-align: right;\n",
              "    }\n",
              "</style>\n",
              "<table border=\"1\" class=\"dataframe\">\n",
              "  <thead>\n",
              "    <tr style=\"text-align: right;\">\n",
              "      <th></th>\n",
              "      <th>id</th>\n",
              "      <th>title</th>\n",
              "      <th>author</th>\n",
              "      <th>text</th>\n",
              "      <th>label</th>\n",
              "    </tr>\n",
              "  </thead>\n",
              "  <tbody>\n",
              "    <tr>\n",
              "      <th>1</th>\n",
              "      <td>1230</td>\n",
              "      <td>FBI Director Comey Asks President Putin: “Is A...</td>\n",
              "      <td>The European Union Times</td>\n",
              "      <td>\\nAn absolutely astonishing Security Council (...</td>\n",
              "      <td>1</td>\n",
              "    </tr>\n",
              "    <tr>\n",
              "      <th>4</th>\n",
              "      <td>17365</td>\n",
              "      <td>With Donald Trump in Charge, Republicans Have ...</td>\n",
              "      <td>Patrick Healy, Jonathan Martin and Maggie Habe...</td>\n",
              "      <td>Republican elected officials, donors and strat...</td>\n",
              "      <td>0</td>\n",
              "    </tr>\n",
              "    <tr>\n",
              "      <th>6</th>\n",
              "      <td>1294</td>\n",
              "      <td>One Season Ends and Another Begins: Baseball P...</td>\n",
              "      <td>Tyler Kepner</td>\n",
              "      <td>The baseball gods spend six months twisting th...</td>\n",
              "      <td>0</td>\n",
              "    </tr>\n",
              "    <tr>\n",
              "      <th>9</th>\n",
              "      <td>11806</td>\n",
              "      <td>Why ‘This Is Fine’ Is the Meme This Year Deser...</td>\n",
              "      <td>Katie Rogers</td>\n",
              "      <td>During the Democratic National Convention, the...</td>\n",
              "      <td>0</td>\n",
              "    </tr>\n",
              "    <tr>\n",
              "      <th>21</th>\n",
              "      <td>5197</td>\n",
              "      <td>Jesus Comes Out of the Closet … Or Does He?</td>\n",
              "      <td>NaN</td>\n",
              "      <td>Wednesday, 16 November 2016 \\nWhat a week it h...</td>\n",
              "      <td>1</td>\n",
              "    </tr>\n",
              "    <tr>\n",
              "      <th>...</th>\n",
              "      <td>...</td>\n",
              "      <td>...</td>\n",
              "      <td>...</td>\n",
              "      <td>...</td>\n",
              "      <td>...</td>\n",
              "    </tr>\n",
              "    <tr>\n",
              "      <th>6201</th>\n",
              "      <td>19029</td>\n",
              "      <td>Border Patrol Agent Tells Speaker Ryan the Wal...</td>\n",
              "      <td>Bob Price</td>\n",
              "      <td>Border Patrol Agent Brandon Judd, speaking in ...</td>\n",
              "      <td>0</td>\n",
              "    </tr>\n",
              "    <tr>\n",
              "      <th>6208</th>\n",
              "      <td>3151</td>\n",
              "      <td>Maine Gets High Marks for Supporting Veterans</td>\n",
              "      <td>Arnaldo Rodgers</td>\n",
              "      <td>Maine Gets High Marks for Supporting   \\nBy ...</td>\n",
              "      <td>1</td>\n",
              "    </tr>\n",
              "    <tr>\n",
              "      <th>6216</th>\n",
              "      <td>8780</td>\n",
              "      <td>The Biggest Record-Breaking Supermoon In Nearl...</td>\n",
              "      <td>Dikran Arakelian (noreply@blogger.com)</td>\n",
              "      <td>Share on Facebook If you only see one astronom...</td>\n",
              "      <td>1</td>\n",
              "    </tr>\n",
              "    <tr>\n",
              "      <th>6218</th>\n",
              "      <td>3749</td>\n",
              "      <td>Anti-Travel Ban Lawyer Leans on Argument that ...</td>\n",
              "      <td>Raheem Kassam</td>\n",
              "      <td>The lawyer representing the State of Hawaii in...</td>\n",
              "      <td>0</td>\n",
              "    </tr>\n",
              "    <tr>\n",
              "      <th>6226</th>\n",
              "      <td>11301</td>\n",
              "      <td>Putin and Xi in Western propaganda – why does ...</td>\n",
              "      <td>shorty</td>\n",
              "      <td>Nuclear weapons In fact, Russia is not about t...</td>\n",
              "      <td>1</td>\n",
              "    </tr>\n",
              "  </tbody>\n",
              "</table>\n",
              "<p>1204 rows × 5 columns</p>\n",
              "</div>\n",
              "      <button class=\"colab-df-convert\" onclick=\"convertToInteractive('df-0031a2e8-b158-4124-a6e2-93ffe1da09bf')\"\n",
              "              title=\"Convert this dataframe to an interactive table.\"\n",
              "              style=\"display:none;\">\n",
              "        \n",
              "  <svg xmlns=\"http://www.w3.org/2000/svg\" height=\"24px\"viewBox=\"0 0 24 24\"\n",
              "       width=\"24px\">\n",
              "    <path d=\"M0 0h24v24H0V0z\" fill=\"none\"/>\n",
              "    <path d=\"M18.56 5.44l.94 2.06.94-2.06 2.06-.94-2.06-.94-.94-2.06-.94 2.06-2.06.94zm-11 1L8.5 8.5l.94-2.06 2.06-.94-2.06-.94L8.5 2.5l-.94 2.06-2.06.94zm10 10l.94 2.06.94-2.06 2.06-.94-2.06-.94-.94-2.06-.94 2.06-2.06.94z\"/><path d=\"M17.41 7.96l-1.37-1.37c-.4-.4-.92-.59-1.43-.59-.52 0-1.04.2-1.43.59L10.3 9.45l-7.72 7.72c-.78.78-.78 2.05 0 2.83L4 21.41c.39.39.9.59 1.41.59.51 0 1.02-.2 1.41-.59l7.78-7.78 2.81-2.81c.8-.78.8-2.07 0-2.86zM5.41 20L4 18.59l7.72-7.72 1.47 1.35L5.41 20z\"/>\n",
              "  </svg>\n",
              "      </button>\n",
              "      \n",
              "  <style>\n",
              "    .colab-df-container {\n",
              "      display:flex;\n",
              "      flex-wrap:wrap;\n",
              "      gap: 12px;\n",
              "    }\n",
              "\n",
              "    .colab-df-convert {\n",
              "      background-color: #E8F0FE;\n",
              "      border: none;\n",
              "      border-radius: 50%;\n",
              "      cursor: pointer;\n",
              "      display: none;\n",
              "      fill: #1967D2;\n",
              "      height: 32px;\n",
              "      padding: 0 0 0 0;\n",
              "      width: 32px;\n",
              "    }\n",
              "\n",
              "    .colab-df-convert:hover {\n",
              "      background-color: #E2EBFA;\n",
              "      box-shadow: 0px 1px 2px rgba(60, 64, 67, 0.3), 0px 1px 3px 1px rgba(60, 64, 67, 0.15);\n",
              "      fill: #174EA6;\n",
              "    }\n",
              "\n",
              "    [theme=dark] .colab-df-convert {\n",
              "      background-color: #3B4455;\n",
              "      fill: #D2E3FC;\n",
              "    }\n",
              "\n",
              "    [theme=dark] .colab-df-convert:hover {\n",
              "      background-color: #434B5C;\n",
              "      box-shadow: 0px 1px 3px 1px rgba(0, 0, 0, 0.15);\n",
              "      filter: drop-shadow(0px 1px 2px rgba(0, 0, 0, 0.3));\n",
              "      fill: #FFFFFF;\n",
              "    }\n",
              "  </style>\n",
              "\n",
              "      <script>\n",
              "        const buttonEl =\n",
              "          document.querySelector('#df-0031a2e8-b158-4124-a6e2-93ffe1da09bf button.colab-df-convert');\n",
              "        buttonEl.style.display =\n",
              "          google.colab.kernel.accessAllowed ? 'block' : 'none';\n",
              "\n",
              "        async function convertToInteractive(key) {\n",
              "          const element = document.querySelector('#df-0031a2e8-b158-4124-a6e2-93ffe1da09bf');\n",
              "          const dataTable =\n",
              "            await google.colab.kernel.invokeFunction('convertToInteractive',\n",
              "                                                     [key], {});\n",
              "          if (!dataTable) return;\n",
              "\n",
              "          const docLinkHtml = 'Like what you see? Visit the ' +\n",
              "            '<a target=\"_blank\" href=https://colab.research.google.com/notebooks/data_table.ipynb>data table notebook</a>'\n",
              "            + ' to learn more about interactive tables.';\n",
              "          element.innerHTML = '';\n",
              "          dataTable['output_type'] = 'display_data';\n",
              "          await google.colab.output.renderOutput(dataTable, element);\n",
              "          const docLink = document.createElement('div');\n",
              "          docLink.innerHTML = docLinkHtml;\n",
              "          element.appendChild(docLink);\n",
              "        }\n",
              "      </script>\n",
              "    </div>\n",
              "  </div>\n",
              "  "
            ],
            "text/plain": [
              "         id                                              title  \\\n",
              "1      1230  FBI Director Comey Asks President Putin: “Is A...   \n",
              "4     17365  With Donald Trump in Charge, Republicans Have ...   \n",
              "6      1294  One Season Ends and Another Begins: Baseball P...   \n",
              "9     11806  Why ‘This Is Fine’ Is the Meme This Year Deser...   \n",
              "21     5197        Jesus Comes Out of the Closet … Or Does He?   \n",
              "...     ...                                                ...   \n",
              "6201  19029  Border Patrol Agent Tells Speaker Ryan the Wal...   \n",
              "6208   3151      Maine Gets High Marks for Supporting Veterans   \n",
              "6216   8780  The Biggest Record-Breaking Supermoon In Nearl...   \n",
              "6218   3749  Anti-Travel Ban Lawyer Leans on Argument that ...   \n",
              "6226  11301  Putin and Xi in Western propaganda – why does ...   \n",
              "\n",
              "                                                 author  \\\n",
              "1                              The European Union Times   \n",
              "4     Patrick Healy, Jonathan Martin and Maggie Habe...   \n",
              "6                                          Tyler Kepner   \n",
              "9                                          Katie Rogers   \n",
              "21                                                  NaN   \n",
              "...                                                 ...   \n",
              "6201                                          Bob Price   \n",
              "6208                                    Arnaldo Rodgers   \n",
              "6216             Dikran Arakelian (noreply@blogger.com)   \n",
              "6218                                      Raheem Kassam   \n",
              "6226                                             shorty   \n",
              "\n",
              "                                                   text  label  \n",
              "1     \\nAn absolutely astonishing Security Council (...      1  \n",
              "4     Republican elected officials, donors and strat...      0  \n",
              "6     The baseball gods spend six months twisting th...      0  \n",
              "9     During the Democratic National Convention, the...      0  \n",
              "21    Wednesday, 16 November 2016 \\nWhat a week it h...      1  \n",
              "...                                                 ...    ...  \n",
              "6201  Border Patrol Agent Brandon Judd, speaking in ...      0  \n",
              "6208    Maine Gets High Marks for Supporting   \\nBy ...      1  \n",
              "6216  Share on Facebook If you only see one astronom...      1  \n",
              "6218  The lawyer representing the State of Hawaii in...      0  \n",
              "6226  Nuclear weapons In fact, Russia is not about t...      1  \n",
              "\n",
              "[1204 rows x 5 columns]"
            ]
          },
          "execution_count": 49,
          "metadata": {},
          "output_type": "execute_result"
        }
      ],
      "source": [
        "df_test_orig[ids_old]"
      ]
    },
    {
      "cell_type": "markdown",
      "metadata": {
        "id": "1c6pasPL7zLo"
      },
      "source": [
        "30 rows with the adverb \"really\" are left in the modified dataframe.Instances of punctuations and other special characters in the adverb string were not removed."
      ]
    },
    {
      "cell_type": "code",
      "execution_count": null,
      "metadata": {
        "colab": {
          "base_uri": "https://localhost:8080/",
          "height": 896
        },
        "id": "GFiupZhL70sh",
        "outputId": "18edd0b7-ad7a-474a-f03c-0941057c2bca"
      },
      "outputs": [
        {
          "data": {
            "text/html": [
              "\n",
              "  <div id=\"df-9380d54a-79aa-40e5-8254-96ffa4053d30\">\n",
              "    <div class=\"colab-df-container\">\n",
              "      <div>\n",
              "<style scoped>\n",
              "    .dataframe tbody tr th:only-of-type {\n",
              "        vertical-align: middle;\n",
              "    }\n",
              "\n",
              "    .dataframe tbody tr th {\n",
              "        vertical-align: top;\n",
              "    }\n",
              "\n",
              "    .dataframe thead th {\n",
              "        text-align: right;\n",
              "    }\n",
              "</style>\n",
              "<table border=\"1\" class=\"dataframe\">\n",
              "  <thead>\n",
              "    <tr style=\"text-align: right;\">\n",
              "      <th></th>\n",
              "      <th>id</th>\n",
              "      <th>title</th>\n",
              "      <th>author</th>\n",
              "      <th>text</th>\n",
              "      <th>label</th>\n",
              "    </tr>\n",
              "  </thead>\n",
              "  <tbody>\n",
              "    <tr>\n",
              "      <th>1</th>\n",
              "      <td>1230</td>\n",
              "      <td>FBI Director Comey Asks President Putin: “Is A...</td>\n",
              "      <td>The European Union Times</td>\n",
              "      <td>An astonishing Security Council (SC) report ci...</td>\n",
              "      <td>1</td>\n",
              "    </tr>\n",
              "    <tr>\n",
              "      <th>470</th>\n",
              "      <td>4861</td>\n",
              "      <td>Whoopi: Are the Trump Administration Values ’R...</td>\n",
              "      <td>Pam Key</td>\n",
              "      <td>Tuesday on ABC’s “The View,” Whoopi Goldberg w...</td>\n",
              "      <td>0</td>\n",
              "    </tr>\n",
              "    <tr>\n",
              "      <th>817</th>\n",
              "      <td>12951</td>\n",
              "      <td>Evan McMullin, Anti-Trump Republican, Mounts I...</td>\n",
              "      <td>Maggie Haberman</td>\n",
              "      <td>Evan McMullin, a former C. I. A. official and ...</td>\n",
              "      <td>0</td>\n",
              "    </tr>\n",
              "    <tr>\n",
              "      <th>890</th>\n",
              "      <td>6873</td>\n",
              "      <td>Putin and Obama: the Trust Evaporates</td>\n",
              "      <td>Ray McGovern</td>\n",
              "      <td>How did the “growing trust” that Russian Presi...</td>\n",
              "      <td>1</td>\n",
              "    </tr>\n",
              "    <tr>\n",
              "      <th>922</th>\n",
              "      <td>8610</td>\n",
              "      <td>A Personal Trainer for Heartbreak - The New Yo...</td>\n",
              "      <td>Sophia Kercher</td>\n",
              "      <td>After a traumatic breakup, Julia Scinto, a fas...</td>\n",
              "      <td>0</td>\n",
              "    </tr>\n",
              "    <tr>\n",
              "      <th>1193</th>\n",
              "      <td>20278</td>\n",
              "      <td>And Then There Was Trump - The New York Times</td>\n",
              "      <td>Thomas B. Edsall</td>\n",
              "      <td>How do you deal with an opponent immune to the...</td>\n",
              "      <td>0</td>\n",
              "    </tr>\n",
              "    <tr>\n",
              "      <th>1318</th>\n",
              "      <td>19895</td>\n",
              "      <td>SpaceX Says It’s Ready to Launch Rockets Again...</td>\n",
              "      <td>Kenneth Chang</td>\n",
              "      <td>After the explosion in September of one of its...</td>\n",
              "      <td>0</td>\n",
              "    </tr>\n",
              "    <tr>\n",
              "      <th>1526</th>\n",
              "      <td>6209</td>\n",
              "      <td>Thought-Control Technology Enables Quadriplegi...</td>\n",
              "      <td>Nate Church</td>\n",
              "      <td>At Case Western Reserve University in Clevelan...</td>\n",
              "      <td>0</td>\n",
              "    </tr>\n",
              "    <tr>\n",
              "      <th>1909</th>\n",
              "      <td>6749</td>\n",
              "      <td>Now That Obamacare's Imploding, Trump Says He ...</td>\n",
              "      <td>Kyle Becker</td>\n",
              "      <td>Getty - Chip Somodevilla The Wildfire is an op...</td>\n",
              "      <td>1</td>\n",
              "    </tr>\n",
              "    <tr>\n",
              "      <th>1918</th>\n",
              "      <td>16819</td>\n",
              "      <td>Meet the Obama Holdovers Who Survived Trump’s ...</td>\n",
              "      <td>Mark Landler</td>\n",
              "      <td>WASHINGTON — When President Trump’s new Middle...</td>\n",
              "      <td>0</td>\n",
              "    </tr>\n",
              "    <tr>\n",
              "      <th>3145</th>\n",
              "      <td>1148</td>\n",
              "      <td>Gay man finds it in himself to tolerate religi...</td>\n",
              "      <td>NaN</td>\n",
              "      <td>Gay man finds it in himself to tolerate religi...</td>\n",
              "      <td>1</td>\n",
              "    </tr>\n",
              "    <tr>\n",
              "      <th>3275</th>\n",
              "      <td>7877</td>\n",
              "      <td>Fight - The New York Times</td>\n",
              "      <td>Dan Barry</td>\n",
              "      <td>PART 1 YOUNGSTOWN, Ohio — Numbered balls of ch...</td>\n",
              "      <td>0</td>\n",
              "    </tr>\n",
              "    <tr>\n",
              "      <th>3404</th>\n",
              "      <td>15731</td>\n",
              "      <td>Where’s the Love for Donkeys? - The New York T...</td>\n",
              "      <td>James Gorman</td>\n",
              "      <td>About 5, 000 years ago, 10 donkeys were laid t...</td>\n",
              "      <td>0</td>\n",
              "    </tr>\n",
              "    <tr>\n",
              "      <th>4162</th>\n",
              "      <td>9682</td>\n",
              "      <td>Dying CIA Agent Confirms the White House’s Upc...</td>\n",
              "      <td>Editor</td>\n",
              "      <td>The deathbed confession of a former CIA operat...</td>\n",
              "      <td>1</td>\n",
              "    </tr>\n",
              "    <tr>\n",
              "      <th>4316</th>\n",
              "      <td>13125</td>\n",
              "      <td>The Clinton Syndrome, Part 2: Can Hillary Esca...</td>\n",
              "      <td>admin</td>\n",
              "      <td>Financial Markets , Market Manipulation , U.S....</td>\n",
              "      <td>1</td>\n",
              "    </tr>\n",
              "    <tr>\n",
              "      <th>4326</th>\n",
              "      <td>9493</td>\n",
              "      <td>Steve Bannon Cited Italian Thinker Who Inspire...</td>\n",
              "      <td>Jason Horowitz</td>\n",
              "      <td>ROME — Those trying to divine the roots of Ste...</td>\n",
              "      <td>0</td>\n",
              "    </tr>\n",
              "    <tr>\n",
              "      <th>4543</th>\n",
              "      <td>9066</td>\n",
              "      <td>An open letter to Fareed Zakaria from The Peop...</td>\n",
              "      <td>Pamalinsky</td>\n",
              "      <td>1/18/2016, 12:59 am Fareed Zakaria can dish it...</td>\n",
              "      <td>1</td>\n",
              "    </tr>\n",
              "    <tr>\n",
              "      <th>4999</th>\n",
              "      <td>6810</td>\n",
              "      <td>Prerequisite for Key White House Posts: Loyalt...</td>\n",
              "      <td>Sharon LaFraniere, Nicholas Confessore and Jes...</td>\n",
              "      <td>WASHINGTON — President Trump’s point man on ne...</td>\n",
              "      <td>0</td>\n",
              "    </tr>\n",
              "    <tr>\n",
              "      <th>5109</th>\n",
              "      <td>17545</td>\n",
              "      <td>Donald Trump, Shifting Immigration Tone, Stres...</td>\n",
              "      <td>Alan Rappeport and Maggie Haberman</td>\n",
              "      <td>Donald J. Trump, tempering the tone of his app...</td>\n",
              "      <td>0</td>\n",
              "    </tr>\n",
              "    <tr>\n",
              "      <th>5238</th>\n",
              "      <td>12847</td>\n",
              "      <td>Tesla Upgrades Autopilot in Cars on the Road -...</td>\n",
              "      <td>Neal E. Boudette</td>\n",
              "      <td>Tesla Motors, always ahead of the automotive c...</td>\n",
              "      <td>0</td>\n",
              "    </tr>\n",
              "    <tr>\n",
              "      <th>5287</th>\n",
              "      <td>9826</td>\n",
              "      <td>Judge Approves Consent Decree to Overhaul Balt...</td>\n",
              "      <td>Daniel Victor</td>\n",
              "      <td>A federal judge approved a consent decree on F...</td>\n",
              "      <td>0</td>\n",
              "    </tr>\n",
              "    <tr>\n",
              "      <th>5364</th>\n",
              "      <td>15378</td>\n",
              "      <td>The ‘P’ in PBS Should Stand for ‘Plutocratic’ ...</td>\n",
              "      <td>NaN</td>\n",
              "      <td>The ‘P’ in PBS Should Stand for ‘Plutocratic’ ...</td>\n",
              "      <td>1</td>\n",
              "    </tr>\n",
              "    <tr>\n",
              "      <th>5448</th>\n",
              "      <td>5762</td>\n",
              "      <td>Steelers Crush Dolphins to Set Up a Clash With...</td>\n",
              "      <td>Ben Shpigel</td>\n",
              "      <td>PITTSBURGH — The Miami Dolphins won the coin t...</td>\n",
              "      <td>0</td>\n",
              "    </tr>\n",
              "    <tr>\n",
              "      <th>5456</th>\n",
              "      <td>6090</td>\n",
              "      <td>One Killed and at Least 2 Wounded in Shooting ...</td>\n",
              "      <td>Christopher Mele and Rebecca Fairley Raney</td>\n",
              "      <td>AZUSA, Calif. — A gunman with a rifle was foun...</td>\n",
              "      <td>0</td>\n",
              "    </tr>\n",
              "    <tr>\n",
              "      <th>5485</th>\n",
              "      <td>10193</td>\n",
              "      <td>Donald Trump, After Fits and Starts, Focuses o...</td>\n",
              "      <td>Mark Landler and Michael D. Shear</td>\n",
              "      <td>WASHINGTON — Donald J. Trump embarked on one o...</td>\n",
              "      <td>0</td>\n",
              "    </tr>\n",
              "    <tr>\n",
              "      <th>5894</th>\n",
              "      <td>17712</td>\n",
              "      <td>A Plan to Flood San Francisco With News on Hom...</td>\n",
              "      <td>Thomas Fuller</td>\n",
              "      <td>SAN FRANCISCO — As the editor in chief of The ...</td>\n",
              "      <td>0</td>\n",
              "    </tr>\n",
              "    <tr>\n",
              "      <th>6135</th>\n",
              "      <td>14598</td>\n",
              "      <td>Trump Tweets His Reaction To Meeting Obama – A...</td>\n",
              "      <td>Jameson Parker</td>\n",
              "      <td>Trump spent five years spreading racist lies m...</td>\n",
              "      <td>1</td>\n",
              "    </tr>\n",
              "  </tbody>\n",
              "</table>\n",
              "</div>\n",
              "      <button class=\"colab-df-convert\" onclick=\"convertToInteractive('df-9380d54a-79aa-40e5-8254-96ffa4053d30')\"\n",
              "              title=\"Convert this dataframe to an interactive table.\"\n",
              "              style=\"display:none;\">\n",
              "        \n",
              "  <svg xmlns=\"http://www.w3.org/2000/svg\" height=\"24px\"viewBox=\"0 0 24 24\"\n",
              "       width=\"24px\">\n",
              "    <path d=\"M0 0h24v24H0V0z\" fill=\"none\"/>\n",
              "    <path d=\"M18.56 5.44l.94 2.06.94-2.06 2.06-.94-2.06-.94-.94-2.06-.94 2.06-2.06.94zm-11 1L8.5 8.5l.94-2.06 2.06-.94-2.06-.94L8.5 2.5l-.94 2.06-2.06.94zm10 10l.94 2.06.94-2.06 2.06-.94-2.06-.94-.94-2.06-.94 2.06-2.06.94z\"/><path d=\"M17.41 7.96l-1.37-1.37c-.4-.4-.92-.59-1.43-.59-.52 0-1.04.2-1.43.59L10.3 9.45l-7.72 7.72c-.78.78-.78 2.05 0 2.83L4 21.41c.39.39.9.59 1.41.59.51 0 1.02-.2 1.41-.59l7.78-7.78 2.81-2.81c.8-.78.8-2.07 0-2.86zM5.41 20L4 18.59l7.72-7.72 1.47 1.35L5.41 20z\"/>\n",
              "  </svg>\n",
              "      </button>\n",
              "      \n",
              "  <style>\n",
              "    .colab-df-container {\n",
              "      display:flex;\n",
              "      flex-wrap:wrap;\n",
              "      gap: 12px;\n",
              "    }\n",
              "\n",
              "    .colab-df-convert {\n",
              "      background-color: #E8F0FE;\n",
              "      border: none;\n",
              "      border-radius: 50%;\n",
              "      cursor: pointer;\n",
              "      display: none;\n",
              "      fill: #1967D2;\n",
              "      height: 32px;\n",
              "      padding: 0 0 0 0;\n",
              "      width: 32px;\n",
              "    }\n",
              "\n",
              "    .colab-df-convert:hover {\n",
              "      background-color: #E2EBFA;\n",
              "      box-shadow: 0px 1px 2px rgba(60, 64, 67, 0.3), 0px 1px 3px 1px rgba(60, 64, 67, 0.15);\n",
              "      fill: #174EA6;\n",
              "    }\n",
              "\n",
              "    [theme=dark] .colab-df-convert {\n",
              "      background-color: #3B4455;\n",
              "      fill: #D2E3FC;\n",
              "    }\n",
              "\n",
              "    [theme=dark] .colab-df-convert:hover {\n",
              "      background-color: #434B5C;\n",
              "      box-shadow: 0px 1px 3px 1px rgba(0, 0, 0, 0.15);\n",
              "      filter: drop-shadow(0px 1px 2px rgba(0, 0, 0, 0.3));\n",
              "      fill: #FFFFFF;\n",
              "    }\n",
              "  </style>\n",
              "\n",
              "      <script>\n",
              "        const buttonEl =\n",
              "          document.querySelector('#df-9380d54a-79aa-40e5-8254-96ffa4053d30 button.colab-df-convert');\n",
              "        buttonEl.style.display =\n",
              "          google.colab.kernel.accessAllowed ? 'block' : 'none';\n",
              "\n",
              "        async function convertToInteractive(key) {\n",
              "          const element = document.querySelector('#df-9380d54a-79aa-40e5-8254-96ffa4053d30');\n",
              "          const dataTable =\n",
              "            await google.colab.kernel.invokeFunction('convertToInteractive',\n",
              "                                                     [key], {});\n",
              "          if (!dataTable) return;\n",
              "\n",
              "          const docLinkHtml = 'Like what you see? Visit the ' +\n",
              "            '<a target=\"_blank\" href=https://colab.research.google.com/notebooks/data_table.ipynb>data table notebook</a>'\n",
              "            + ' to learn more about interactive tables.';\n",
              "          element.innerHTML = '';\n",
              "          dataTable['output_type'] = 'display_data';\n",
              "          await google.colab.output.renderOutput(dataTable, element);\n",
              "          const docLink = document.createElement('div');\n",
              "          docLink.innerHTML = docLinkHtml;\n",
              "          element.appendChild(docLink);\n",
              "        }\n",
              "      </script>\n",
              "    </div>\n",
              "  </div>\n",
              "  "
            ],
            "text/plain": [
              "         id                                              title  \\\n",
              "1      1230  FBI Director Comey Asks President Putin: “Is A...   \n",
              "470    4861  Whoopi: Are the Trump Administration Values ’R...   \n",
              "817   12951  Evan McMullin, Anti-Trump Republican, Mounts I...   \n",
              "890    6873              Putin and Obama: the Trust Evaporates   \n",
              "922    8610  A Personal Trainer for Heartbreak - The New Yo...   \n",
              "1193  20278      And Then There Was Trump - The New York Times   \n",
              "1318  19895  SpaceX Says It’s Ready to Launch Rockets Again...   \n",
              "1526   6209  Thought-Control Technology Enables Quadriplegi...   \n",
              "1909   6749  Now That Obamacare's Imploding, Trump Says He ...   \n",
              "1918  16819  Meet the Obama Holdovers Who Survived Trump’s ...   \n",
              "3145   1148  Gay man finds it in himself to tolerate religi...   \n",
              "3275   7877                         Fight - The New York Times   \n",
              "3404  15731  Where’s the Love for Donkeys? - The New York T...   \n",
              "4162   9682  Dying CIA Agent Confirms the White House’s Upc...   \n",
              "4316  13125  The Clinton Syndrome, Part 2: Can Hillary Esca...   \n",
              "4326   9493  Steve Bannon Cited Italian Thinker Who Inspire...   \n",
              "4543   9066  An open letter to Fareed Zakaria from The Peop...   \n",
              "4999   6810  Prerequisite for Key White House Posts: Loyalt...   \n",
              "5109  17545  Donald Trump, Shifting Immigration Tone, Stres...   \n",
              "5238  12847  Tesla Upgrades Autopilot in Cars on the Road -...   \n",
              "5287   9826  Judge Approves Consent Decree to Overhaul Balt...   \n",
              "5364  15378  The ‘P’ in PBS Should Stand for ‘Plutocratic’ ...   \n",
              "5448   5762  Steelers Crush Dolphins to Set Up a Clash With...   \n",
              "5456   6090  One Killed and at Least 2 Wounded in Shooting ...   \n",
              "5485  10193  Donald Trump, After Fits and Starts, Focuses o...   \n",
              "5894  17712  A Plan to Flood San Francisco With News on Hom...   \n",
              "6135  14598  Trump Tweets His Reaction To Meeting Obama – A...   \n",
              "\n",
              "                                                 author  \\\n",
              "1                              The European Union Times   \n",
              "470                                             Pam Key   \n",
              "817                                     Maggie Haberman   \n",
              "890                                        Ray McGovern   \n",
              "922                                      Sophia Kercher   \n",
              "1193                                   Thomas B. Edsall   \n",
              "1318                                      Kenneth Chang   \n",
              "1526                                        Nate Church   \n",
              "1909                                        Kyle Becker   \n",
              "1918                                       Mark Landler   \n",
              "3145                                                NaN   \n",
              "3275                                          Dan Barry   \n",
              "3404                                       James Gorman   \n",
              "4162                                             Editor   \n",
              "4316                                              admin   \n",
              "4326                                     Jason Horowitz   \n",
              "4543                                         Pamalinsky   \n",
              "4999  Sharon LaFraniere, Nicholas Confessore and Jes...   \n",
              "5109                 Alan Rappeport and Maggie Haberman   \n",
              "5238                                   Neal E. Boudette   \n",
              "5287                                      Daniel Victor   \n",
              "5364                                                NaN   \n",
              "5448                                        Ben Shpigel   \n",
              "5456         Christopher Mele and Rebecca Fairley Raney   \n",
              "5485                  Mark Landler and Michael D. Shear   \n",
              "5894                                      Thomas Fuller   \n",
              "6135                                     Jameson Parker   \n",
              "\n",
              "                                                   text  label  \n",
              "1     An astonishing Security Council (SC) report ci...      1  \n",
              "470   Tuesday on ABC’s “The View,” Whoopi Goldberg w...      0  \n",
              "817   Evan McMullin, a former C. I. A. official and ...      0  \n",
              "890   How did the “growing trust” that Russian Presi...      1  \n",
              "922   After a traumatic breakup, Julia Scinto, a fas...      0  \n",
              "1193  How do you deal with an opponent immune to the...      0  \n",
              "1318  After the explosion in September of one of its...      0  \n",
              "1526  At Case Western Reserve University in Clevelan...      0  \n",
              "1909  Getty - Chip Somodevilla The Wildfire is an op...      1  \n",
              "1918  WASHINGTON — When President Trump’s new Middle...      0  \n",
              "3145  Gay man finds it in himself to tolerate religi...      1  \n",
              "3275  PART 1 YOUNGSTOWN, Ohio — Numbered balls of ch...      0  \n",
              "3404  About 5, 000 years ago, 10 donkeys were laid t...      0  \n",
              "4162  The deathbed confession of a former CIA operat...      1  \n",
              "4316  Financial Markets , Market Manipulation , U.S....      1  \n",
              "4326  ROME — Those trying to divine the roots of Ste...      0  \n",
              "4543  1/18/2016, 12:59 am Fareed Zakaria can dish it...      1  \n",
              "4999  WASHINGTON — President Trump’s point man on ne...      0  \n",
              "5109  Donald J. Trump, tempering the tone of his app...      0  \n",
              "5238  Tesla Motors, always ahead of the automotive c...      0  \n",
              "5287  A federal judge approved a consent decree on F...      0  \n",
              "5364  The ‘P’ in PBS Should Stand for ‘Plutocratic’ ...      1  \n",
              "5448  PITTSBURGH — The Miami Dolphins won the coin t...      0  \n",
              "5456  AZUSA, Calif. — A gunman with a rifle was foun...      0  \n",
              "5485  WASHINGTON — Donald J. Trump embarked on one o...      0  \n",
              "5894  SAN FRANCISCO — As the editor in chief of The ...      0  \n",
              "6135  Trump spent five years spreading racist lies m...      1  "
            ]
          },
          "execution_count": 50,
          "metadata": {},
          "output_type": "execute_result"
        }
      ],
      "source": [
        "df_test_adv[ids_new]"
      ]
    },
    {
      "cell_type": "markdown",
      "metadata": {
        "id": "XeM3mJ2W76_t"
      },
      "source": [
        "## Finetuning"
      ]
    },
    {
      "cell_type": "code",
      "source": [
        "# Load the finetuned model\n",
        "pretrained = 'bert-base-cased'\n",
        "tokenizer = AutoTokenizer.from_pretrained(pretrained)\n",
        "model = AutoModelForSequenceClassification.from_pretrained(pretrained)"
      ],
      "metadata": {
        "id": "JuItmGbOMy63"
      },
      "execution_count": null,
      "outputs": []
    },
    {
      "cell_type": "code",
      "execution_count": 62,
      "metadata": {
        "id": "2VwXv_wf8C7a"
      },
      "outputs": [],
      "source": [
        "data = pd.read_csv('train_kaggle.csv')\n",
        "\n",
        "X = list(data[\"text\"])\n",
        "y = list(data[\"label\"])\n",
        "X_train, X_val, y_train, y_val = train_test_split(X, y, test_size=0.3)\n",
        "X_train_tokenized = tokenizer(X_train, padding=True, truncation=True, max_length=512)\n",
        "X_val_tokenized = tokenizer(X_val, padding=True, truncation=True, max_length=512)\n",
        "\n",
        "train_dataset = Dataset(X_train_tokenized, y_train)\n",
        "val_dataset = Dataset(X_val_tokenized, y_val)"
      ]
    },
    {
      "cell_type": "code",
      "source": [
        "args = TrainingArguments(\n",
        "    output_dir=\"output\",\n",
        "    evaluation_strategy=\"steps\",\n",
        "    eval_steps=500,\n",
        "    per_device_train_batch_size=8,\n",
        "    per_device_eval_batch_size=8,\n",
        "    num_train_epochs=3,\n",
        "    seed=0,\n",
        "    load_best_model_at_end=True,\n",
        ")\n",
        "trainer = Trainer(\n",
        "    model=model,\n",
        "    args=args,\n",
        "    train_dataset=train_dataset,\n",
        "    eval_dataset=val_dataset,\n",
        "    compute_metrics=compute_metrics,\n",
        "    callbacks=[EarlyStoppingCallback(early_stopping_patience=3)],\n",
        ")"
      ],
      "metadata": {
        "id": "gmnAC6LcSdLW",
        "outputId": "1578cbe7-aa5f-4cf8-f0d5-e60ce2f20e6f",
        "colab": {
          "base_uri": "https://localhost:8080/"
        }
      },
      "execution_count": 63,
      "outputs": [
        {
          "output_type": "stream",
          "name": "stderr",
          "text": [
            "PyTorch: setting up devices\n",
            "The default value for the training argument `--report_to` will change in v5 (from all installed integrations to none). In v5, you will need to use `--report_to all` to get the same behavior as now. You should start updating your code and make this info disappear :-).\n"
          ]
        }
      ]
    },
    {
      "cell_type": "code",
      "execution_count": null,
      "metadata": {
        "colab": {
          "base_uri": "https://localhost:8080/",
          "height": 949
        },
        "id": "jDFYBXwh8Ed3",
        "outputId": "ca531b1b-1281-4826-8064-f7ed29d08215"
      },
      "outputs": [
        {
          "name": "stderr",
          "output_type": "stream",
          "text": [
            "/usr/local/lib/python3.8/dist-packages/transformers/optimization.py:306: FutureWarning: This implementation of AdamW is deprecated and will be removed in a future version. Use the PyTorch implementation torch.optim.AdamW instead, or set `no_deprecation_warning=True` to disable this warning\n",
            "  warnings.warn(\n",
            "***** Running training *****\n",
            "  Num examples = 10172\n",
            "  Num Epochs = 3\n",
            "  Instantaneous batch size per device = 8\n",
            "  Total train batch size (w. parallel, distributed & accumulation) = 8\n",
            "  Gradient Accumulation steps = 1\n",
            "  Total optimization steps = 3816\n",
            "  Number of trainable parameters = 108311810\n"
          ]
        },
        {
          "data": {
            "text/html": [
              "\n",
              "    <div>\n",
              "      \n",
              "      <progress value='2000' max='3816' style='width:300px; height:20px; vertical-align: middle;'></progress>\n",
              "      [2000/3816 38:11 < 34:42, 0.87 it/s, Epoch 1/3]\n",
              "    </div>\n",
              "    <table border=\"1\" class=\"dataframe\">\n",
              "  <thead>\n",
              " <tr style=\"text-align: left;\">\n",
              "      <th>Step</th>\n",
              "      <th>Training Loss</th>\n",
              "      <th>Validation Loss</th>\n",
              "      <th>Accuracy</th>\n",
              "      <th>Precision</th>\n",
              "      <th>Recall</th>\n",
              "      <th>F1</th>\n",
              "    </tr>\n",
              "  </thead>\n",
              "  <tbody>\n",
              "    <tr>\n",
              "      <td>500</td>\n",
              "      <td>0.158700</td>\n",
              "      <td>0.022183</td>\n",
              "      <td>0.993807</td>\n",
              "      <td>0.995854</td>\n",
              "      <td>0.991743</td>\n",
              "      <td>0.993795</td>\n",
              "    </tr>\n",
              "    <tr>\n",
              "      <td>1000</td>\n",
              "      <td>0.046800</td>\n",
              "      <td>0.046961</td>\n",
              "      <td>0.985092</td>\n",
              "      <td>0.972731</td>\n",
              "      <td>0.998165</td>\n",
              "      <td>0.985284</td>\n",
              "    </tr>\n",
              "    <tr>\n",
              "      <td>1500</td>\n",
              "      <td>0.023900</td>\n",
              "      <td>0.033689</td>\n",
              "      <td>0.994954</td>\n",
              "      <td>0.993144</td>\n",
              "      <td>0.996789</td>\n",
              "      <td>0.994963</td>\n",
              "    </tr>\n",
              "    <tr>\n",
              "      <td>2000</td>\n",
              "      <td>0.021600</td>\n",
              "      <td>0.029949</td>\n",
              "      <td>0.995183</td>\n",
              "      <td>0.994050</td>\n",
              "      <td>0.996330</td>\n",
              "      <td>0.995189</td>\n",
              "    </tr>\n",
              "  </tbody>\n",
              "</table><p>"
            ],
            "text/plain": [
              "<IPython.core.display.HTML object>"
            ]
          },
          "metadata": {},
          "output_type": "display_data"
        },
        {
          "name": "stderr",
          "output_type": "stream",
          "text": [
            "***** Running Evaluation *****\n",
            "  Num examples = 4360\n",
            "  Batch size = 8\n",
            "Saving model checkpoint to output/checkpoint-500\n",
            "Configuration saved in output/checkpoint-500/config.json\n",
            "Model weights saved in output/checkpoint-500/pytorch_model.bin\n",
            "***** Running Evaluation *****\n",
            "  Num examples = 4360\n",
            "  Batch size = 8\n",
            "Saving model checkpoint to output/checkpoint-1000\n",
            "Configuration saved in output/checkpoint-1000/config.json\n",
            "Model weights saved in output/checkpoint-1000/pytorch_model.bin\n",
            "***** Running Evaluation *****\n",
            "  Num examples = 4360\n",
            "  Batch size = 8\n",
            "Saving model checkpoint to output/checkpoint-1500\n",
            "Configuration saved in output/checkpoint-1500/config.json\n",
            "Model weights saved in output/checkpoint-1500/pytorch_model.bin\n",
            "***** Running Evaluation *****\n",
            "  Num examples = 4360\n",
            "  Batch size = 8\n",
            "Saving model checkpoint to output/checkpoint-2000\n",
            "Configuration saved in output/checkpoint-2000/config.json\n",
            "Model weights saved in output/checkpoint-2000/pytorch_model.bin\n",
            "\n",
            "\n",
            "Training completed. Do not forget to share your model on huggingface.co/models =)\n",
            "\n",
            "\n",
            "Loading best model from output/checkpoint-500 (score: 0.02218320220708847).\n"
          ]
        },
        {
          "data": {
            "text/plain": [
              "TrainOutput(global_step=2000, training_loss=0.06274038648605347, metrics={'train_runtime': 2291.8226, 'train_samples_per_second': 13.315, 'train_steps_per_second': 1.665, 'total_flos': 4208724441538560.0, 'train_loss': 0.06274038648605347, 'epoch': 1.57})"
            ]
          },
          "execution_count": 64,
          "metadata": {},
          "output_type": "execute_result"
        }
      ],
      "source": [
        "trainer.train()"
      ]
    },
    {
      "cell_type": "markdown",
      "metadata": {
        "id": "tmyEGtDN-K9j"
      },
      "source": [
        "Copy finetuned model to local storage"
      ]
    },
    {
      "cell_type": "code",
      "execution_count": null,
      "metadata": {
        "id": "1747gNF5-M6e"
      },
      "outputs": [],
      "source": [
        "!cp -r \"output\" \"/content/drive/My Drive/198-adversarial-ml/Kaggle-Fake-News/output\""
      ]
    },
    {
      "cell_type": "markdown",
      "metadata": {
        "id": "qYmzgM2O8HUD"
      },
      "source": [
        "## Evaluation"
      ]
    },
    {
      "cell_type": "markdown",
      "source": [
        "Load existing finetuned models if needed"
      ],
      "metadata": {
        "id": "l3gNha0SUD22"
      }
    },
    {
      "cell_type": "code",
      "source": [
        "!rm -r \"output\" #delete previously loaded model\n",
        "!cp -r \"/content/drive/My Drive/198-adversarial-ml/Kaggle-Fake-News/output\" \"output\""
      ],
      "metadata": {
        "id": "LToPgvkNT3tx"
      },
      "execution_count": 64,
      "outputs": []
    },
    {
      "cell_type": "markdown",
      "metadata": {
        "id": "Rb0OU_rsrjZ8"
      },
      "source": [
        "Use the best model, step = 500."
      ]
    },
    {
      "cell_type": "code",
      "execution_count": 65,
      "metadata": {
        "colab": {
          "base_uri": "https://localhost:8080/",
          "height": 748
        },
        "id": "ow0M-_4U8GSG",
        "outputId": "ced38ac8-33ad-434c-f290-9754f01abaea"
      },
      "outputs": [
        {
          "output_type": "stream",
          "name": "stderr",
          "text": [
            "loading configuration file output/checkpoint-500/config.json\n",
            "Model config BertConfig {\n",
            "  \"_name_or_path\": \"output/checkpoint-500\",\n",
            "  \"architectures\": [\n",
            "    \"BertForSequenceClassification\"\n",
            "  ],\n",
            "  \"attention_probs_dropout_prob\": 0.1,\n",
            "  \"classifier_dropout\": null,\n",
            "  \"gradient_checkpointing\": false,\n",
            "  \"hidden_act\": \"gelu\",\n",
            "  \"hidden_dropout_prob\": 0.1,\n",
            "  \"hidden_size\": 768,\n",
            "  \"initializer_range\": 0.02,\n",
            "  \"intermediate_size\": 3072,\n",
            "  \"layer_norm_eps\": 1e-12,\n",
            "  \"max_position_embeddings\": 512,\n",
            "  \"model_type\": \"bert\",\n",
            "  \"num_attention_heads\": 12,\n",
            "  \"num_hidden_layers\": 12,\n",
            "  \"pad_token_id\": 0,\n",
            "  \"position_embedding_type\": \"absolute\",\n",
            "  \"problem_type\": \"single_label_classification\",\n",
            "  \"torch_dtype\": \"float32\",\n",
            "  \"transformers_version\": \"4.25.1\",\n",
            "  \"type_vocab_size\": 2,\n",
            "  \"use_cache\": true,\n",
            "  \"vocab_size\": 28996\n",
            "}\n",
            "\n",
            "loading weights file output/checkpoint-500/pytorch_model.bin\n",
            "All model checkpoint weights were used when initializing BertForSequenceClassification.\n",
            "\n",
            "All the weights of BertForSequenceClassification were initialized from the model checkpoint at output/checkpoint-500.\n",
            "If your task is similar to the task the model of the checkpoint was trained on, you can already use BertForSequenceClassification for predictions without further training.\n",
            "No `TrainingArguments` passed, using `output_dir=tmp_trainer`.\n",
            "PyTorch: setting up devices\n",
            "The default value for the training argument `--report_to` will change in v5 (from all installed integrations to none). In v5, you will need to use `--report_to all` to get the same behavior as now. You should start updating your code and make this info disappear :-).\n",
            "***** Running Prediction *****\n",
            "  Num examples = 6229\n",
            "  Batch size = 8\n"
          ]
        },
        {
          "output_type": "display_data",
          "data": {
            "text/plain": [
              "<IPython.core.display.HTML object>"
            ],
            "text/html": []
          },
          "metadata": {}
        },
        {
          "output_type": "stream",
          "name": "stdout",
          "text": [
            "0.9940600417402472 0.9951659684176604 0.9929260450160772 0.9940447448897473\n"
          ]
        }
      ],
      "source": [
        "test_data = pd.read_csv(\"test_orig_kaggle.csv\")\n",
        "X_test = list(test_data[\"text\"])\n",
        "X_test_tokenized = tokenizer(X_test, padding=True, truncation=True, max_length=512)\n",
        "y_test = list(test_data[\"label\"])\n",
        "\n",
        "test_dataset = Dataset(X_test_tokenized)\n",
        "\n",
        "model_path = \"output/checkpoint-500\"\n",
        "model = AutoModelForSequenceClassification.from_pretrained(model_path, num_labels=2)\n",
        "\n",
        "test_trainer = Trainer(model)\n",
        "\n",
        "raw_pred, _, _ = test_trainer.predict(test_dataset)\n",
        "y_pred = np.argmax(raw_pred, axis=1)\n",
        "\n",
        "accuracy = accuracy_score(y_test, y_pred)\n",
        "recall = recall_score(y_test, y_pred)\n",
        "precision = precision_score(y_test, y_pred)\n",
        "f1 = f1_score(y_test, y_pred)\n",
        "\n",
        "temp_results = []\n",
        "temp_results.append(accuracy)\n",
        "temp_results.append(recall)\n",
        "temp_results.append(precision)\n",
        "temp_results.append(f1)\n",
        "results.append(temp_results)\n",
        "print(accuracy, recall, precision, f1)"
      ]
    },
    {
      "cell_type": "code",
      "execution_count": 67,
      "metadata": {
        "colab": {
          "base_uri": "https://localhost:8080/",
          "height": 748
        },
        "id": "SyihtMao8K_G",
        "outputId": "7b9f8074-6e5b-4548-808a-9d9f217a2115"
      },
      "outputs": [
        {
          "output_type": "stream",
          "name": "stderr",
          "text": [
            "loading configuration file output/checkpoint-500/config.json\n",
            "Model config BertConfig {\n",
            "  \"_name_or_path\": \"output/checkpoint-500\",\n",
            "  \"architectures\": [\n",
            "    \"BertForSequenceClassification\"\n",
            "  ],\n",
            "  \"attention_probs_dropout_prob\": 0.1,\n",
            "  \"classifier_dropout\": null,\n",
            "  \"gradient_checkpointing\": false,\n",
            "  \"hidden_act\": \"gelu\",\n",
            "  \"hidden_dropout_prob\": 0.1,\n",
            "  \"hidden_size\": 768,\n",
            "  \"initializer_range\": 0.02,\n",
            "  \"intermediate_size\": 3072,\n",
            "  \"layer_norm_eps\": 1e-12,\n",
            "  \"max_position_embeddings\": 512,\n",
            "  \"model_type\": \"bert\",\n",
            "  \"num_attention_heads\": 12,\n",
            "  \"num_hidden_layers\": 12,\n",
            "  \"pad_token_id\": 0,\n",
            "  \"position_embedding_type\": \"absolute\",\n",
            "  \"problem_type\": \"single_label_classification\",\n",
            "  \"torch_dtype\": \"float32\",\n",
            "  \"transformers_version\": \"4.25.1\",\n",
            "  \"type_vocab_size\": 2,\n",
            "  \"use_cache\": true,\n",
            "  \"vocab_size\": 28996\n",
            "}\n",
            "\n",
            "loading weights file output/checkpoint-500/pytorch_model.bin\n",
            "All model checkpoint weights were used when initializing BertForSequenceClassification.\n",
            "\n",
            "All the weights of BertForSequenceClassification were initialized from the model checkpoint at output/checkpoint-500.\n",
            "If your task is similar to the task the model of the checkpoint was trained on, you can already use BertForSequenceClassification for predictions without further training.\n",
            "No `TrainingArguments` passed, using `output_dir=tmp_trainer`.\n",
            "PyTorch: setting up devices\n",
            "The default value for the training argument `--report_to` will change in v5 (from all installed integrations to none). In v5, you will need to use `--report_to all` to get the same behavior as now. You should start updating your code and make this info disappear :-).\n",
            "***** Running Prediction *****\n",
            "  Num examples = 6200\n",
            "  Batch size = 8\n"
          ]
        },
        {
          "output_type": "display_data",
          "data": {
            "text/plain": [
              "<IPython.core.display.HTML object>"
            ],
            "text/html": []
          },
          "metadata": {}
        },
        {
          "output_type": "stream",
          "name": "stdout",
          "text": [
            "0.9917741935483871 0.9928034020281321 0.9905352480417755 0.9916680280999838\n"
          ]
        }
      ],
      "source": [
        "test_data = pd.read_csv(\"test_adv_kaggle.csv\")\n",
        "test_data = test_data[test_data['text'].notnull()]\n",
        "\n",
        "X_test = list(test_data[\"text\"])\n",
        "X_test_tokenized = tokenizer(X_test, padding=True, truncation=True, max_length=512)\n",
        "y_test = list(test_data[\"label\"])\n",
        "\n",
        "test_dataset = Dataset(X_test_tokenized)\n",
        "\n",
        "model_path = \"output/checkpoint-500\"\n",
        "model = AutoModelForSequenceClassification.from_pretrained(model_path, num_labels=2)\n",
        "\n",
        "test_trainer = Trainer(model)\n",
        "\n",
        "raw_pred, _, _ = test_trainer.predict(test_dataset)\n",
        "y_pred = np.argmax(raw_pred, axis=1)\n",
        "\n",
        "accuracy = accuracy_score(y_test, y_pred)\n",
        "recall = recall_score(y_test, y_pred)\n",
        "precision = precision_score(y_test, y_pred)\n",
        "f1 = f1_score(y_test, y_pred)\n",
        "\n",
        "temp_results = []\n",
        "temp_results.append(accuracy)\n",
        "temp_results.append(recall)\n",
        "temp_results.append(precision)\n",
        "temp_results.append(f1)\n",
        "results.append(temp_results)\n",
        "\n",
        "print(accuracy, recall, precision, f1)"
      ]
    },
    {
      "cell_type": "markdown",
      "metadata": {
        "id": "X-URKehNo3qW"
      },
      "source": [
        "# Fake News Filipino Dataset"
      ]
    },
    {
      "cell_type": "markdown",
      "metadata": {
        "id": "yDPRKpWxplxb"
      },
      "source": [
        "The provided dataset contains around 3000 news articles in Filipino that is perfectly split of real and fake news."
      ]
    },
    {
      "cell_type": "code",
      "execution_count": null,
      "metadata": {
        "id": "8VsROMpStoBa"
      },
      "outputs": [],
      "source": [
        "df = pd.read_csv('full.csv')"
      ]
    },
    {
      "cell_type": "code",
      "execution_count": null,
      "metadata": {
        "id": "cRwkskYNNieo"
      },
      "outputs": [],
      "source": [
        "df = df[df['article'].notnull()]"
      ]
    },
    {
      "cell_type": "code",
      "execution_count": null,
      "metadata": {
        "id": "5Nq3hn-kNaaf"
      },
      "outputs": [],
      "source": [
        "train, test_orig = train_test_split(df, test_size=0.3)\n",
        "train.to_csv('/content/drive/My Drive/198-adversarial-ml/Fake-News-Filipino/train_orig.csv', index=False)\n",
        "test_orig.to_csv('/content/drive/My Drive/198-adversarial-ml/Fake-News-Filipino/test_orig.csv', index=False)\n",
        "\n",
        "!cp \"/content/drive/My Drive/198-adversarial-ml/Fake-News-Filipino/train_orig.csv\" \"train_fil.csv\"\n",
        "!cp \"/content/drive/My Drive/198-adversarial-ml/Fake-News-Filipino/test_orig.csv\" \"test_orig_fil.csv\""
      ]
    },
    {
      "cell_type": "code",
      "execution_count": null,
      "metadata": {
        "id": "9uxoNIsVN78z"
      },
      "outputs": [],
      "source": [
        "df_test = pd.read_csv('test_orig_fil.csv')"
      ]
    },
    {
      "cell_type": "code",
      "execution_count": null,
      "metadata": {
        "colab": {
          "base_uri": "https://localhost:8080/"
        },
        "id": "Pe-ffGZGOhbt",
        "outputId": "7e0e7190-a06b-4be0-d279-ff2c955dd9b2"
      },
      "outputs": [
        {
          "output_type": "stream",
          "name": "stdout",
          "text": [
            "962\n"
          ]
        }
      ],
      "source": [
        "print(len(df_test))"
      ]
    },
    {
      "cell_type": "markdown",
      "metadata": {
        "id": "UQsM_KVArfze"
      },
      "source": [
        "## Pre-processing"
      ]
    },
    {
      "cell_type": "markdown",
      "metadata": {
        "id": "7iYhZ49RphDQ"
      },
      "source": [
        "For the **first experiement**, the *adv_list*  will contain the list of degree adverbs commonly used in Filipino."
      ]
    },
    {
      "cell_type": "code",
      "execution_count": null,
      "metadata": {
        "id": "19gZEOv0uMj2"
      },
      "outputs": [],
      "source": [
        "adv_list = ['masyado', 'medyo', 'tunay', 'kaagad', 'lubos', 'parang', 'bahagya', 'halos', 'lubhang', 'labis',\n",
        "            'lalong', 'higit', 'talaga', 'totoo', 'pa rin', 'mabuti', 'mahirap', 'kamakailan', 'madalang', 'minsan']"
      ]
    },
    {
      "cell_type": "markdown",
      "metadata": {
        "id": "cokmYl8TqIQO"
      },
      "source": [
        "In the following lines of code, a new dataframe is created which does not contain the adverbs in the *adv_list*"
      ]
    },
    {
      "cell_type": "code",
      "execution_count": null,
      "metadata": {
        "id": "OakJ2OpyuYED"
      },
      "outputs": [],
      "source": [
        "df_test['article_new'] = df_test['article'].apply(lambda s: ' '.join([w for w in s.split() if w.lower() not in adv_list]))\n",
        "\n",
        "df_test_orig = df_test[['article','label']]\n",
        "df_test_adv  = df_test[['article_new','label']].rename(columns={'article_new':'article'})"
      ]
    },
    {
      "cell_type": "markdown",
      "metadata": {
        "id": "EZmDNC3wqL5I"
      },
      "source": [
        "Copy the old and modified dataset to local storage and drive."
      ]
    },
    {
      "cell_type": "code",
      "execution_count": null,
      "metadata": {
        "id": "3nxYA6mzNEU4"
      },
      "outputs": [],
      "source": [
        "df_test_orig.to_csv('/content/drive/My Drive/198-adversarial-ml/Fake-News-Filipino/test_orig.csv', index=False)\n",
        "df_test_adv.to_csv('/content/drive/My Drive/198-adversarial-ml/Fake-News-Filipino/test_adv.csv', index=False)"
      ]
    },
    {
      "cell_type": "code",
      "execution_count": null,
      "metadata": {
        "id": "e9kORwpjNLnQ"
      },
      "outputs": [],
      "source": [
        "!cp \"/content/drive/My Drive/198-adversarial-ml/Fake-News-Filipino/test_orig.csv\" \"test_orig_fil.csv\"\n",
        "!cp \"/content/drive/My Drive/198-adversarial-ml/Fake-News-Filipino/test_adv.csv\" \"test_adv_fil.csv\""
      ]
    },
    {
      "cell_type": "code",
      "execution_count": null,
      "metadata": {
        "id": "AZr8CuN4ubUH"
      },
      "outputs": [],
      "source": [
        "ids_old = df_test_orig.article.str.contains('kaagad$|kaagad-|kaagad ', flags = re.IGNORECASE, regex = True, na = False)\n",
        "ids_new = df_test_adv.article.str.contains('kaagad$|kaagad-|kaagad ', flags = re.IGNORECASE, regex = True, na = False)"
      ]
    },
    {
      "cell_type": "code",
      "execution_count": null,
      "metadata": {
        "colab": {
          "base_uri": "https://localhost:8080/",
          "height": 300
        },
        "id": "Kk_Xym7Que3F",
        "outputId": "d657bd66-4d7f-47fa-9a22-49e49eb31256"
      },
      "outputs": [
        {
          "output_type": "execute_result",
          "data": {
            "text/plain": [
              "                                               article  label\n",
              "68   Hindi nakatakas sa mga awtoridad ng Light Rail...      1\n",
              "261  Ayon kay SPO1 Jaycee Calma, may hawak ng kaso,...      0\n",
              "517  Matapos umugong ang balita kaugnay ng naging r...      1\n",
              "527  Kinumpirma ng PNP na binawi nito ang dalawang ...      1\n",
              "586  MAYNILA, Pilipinas - Pinangunahan ni Pangulong...      1\n",
              "673  Huli sa isinagawang entrapment operation ng Ph...      1\n",
              "899  Isang magsasaka sa Urdaneta City sa Pangasinan...      1\n",
              "957  17 YEARS OLD NA HIGH SCHOOL STUDENT SA CALOOCA...      1"
            ],
            "text/html": [
              "\n",
              "  <div id=\"df-922d1484-0228-458a-b2f8-97ba3db909a9\">\n",
              "    <div class=\"colab-df-container\">\n",
              "      <div>\n",
              "<style scoped>\n",
              "    .dataframe tbody tr th:only-of-type {\n",
              "        vertical-align: middle;\n",
              "    }\n",
              "\n",
              "    .dataframe tbody tr th {\n",
              "        vertical-align: top;\n",
              "    }\n",
              "\n",
              "    .dataframe thead th {\n",
              "        text-align: right;\n",
              "    }\n",
              "</style>\n",
              "<table border=\"1\" class=\"dataframe\">\n",
              "  <thead>\n",
              "    <tr style=\"text-align: right;\">\n",
              "      <th></th>\n",
              "      <th>article</th>\n",
              "      <th>label</th>\n",
              "    </tr>\n",
              "  </thead>\n",
              "  <tbody>\n",
              "    <tr>\n",
              "      <th>68</th>\n",
              "      <td>Hindi nakatakas sa mga awtoridad ng Light Rail...</td>\n",
              "      <td>1</td>\n",
              "    </tr>\n",
              "    <tr>\n",
              "      <th>261</th>\n",
              "      <td>Ayon kay SPO1 Jaycee Calma, may hawak ng kaso,...</td>\n",
              "      <td>0</td>\n",
              "    </tr>\n",
              "    <tr>\n",
              "      <th>517</th>\n",
              "      <td>Matapos umugong ang balita kaugnay ng naging r...</td>\n",
              "      <td>1</td>\n",
              "    </tr>\n",
              "    <tr>\n",
              "      <th>527</th>\n",
              "      <td>Kinumpirma ng PNP na binawi nito ang dalawang ...</td>\n",
              "      <td>1</td>\n",
              "    </tr>\n",
              "    <tr>\n",
              "      <th>586</th>\n",
              "      <td>MAYNILA, Pilipinas - Pinangunahan ni Pangulong...</td>\n",
              "      <td>1</td>\n",
              "    </tr>\n",
              "    <tr>\n",
              "      <th>673</th>\n",
              "      <td>Huli sa isinagawang entrapment operation ng Ph...</td>\n",
              "      <td>1</td>\n",
              "    </tr>\n",
              "    <tr>\n",
              "      <th>899</th>\n",
              "      <td>Isang magsasaka sa Urdaneta City sa Pangasinan...</td>\n",
              "      <td>1</td>\n",
              "    </tr>\n",
              "    <tr>\n",
              "      <th>957</th>\n",
              "      <td>17 YEARS OLD NA HIGH SCHOOL STUDENT SA CALOOCA...</td>\n",
              "      <td>1</td>\n",
              "    </tr>\n",
              "  </tbody>\n",
              "</table>\n",
              "</div>\n",
              "      <button class=\"colab-df-convert\" onclick=\"convertToInteractive('df-922d1484-0228-458a-b2f8-97ba3db909a9')\"\n",
              "              title=\"Convert this dataframe to an interactive table.\"\n",
              "              style=\"display:none;\">\n",
              "        \n",
              "  <svg xmlns=\"http://www.w3.org/2000/svg\" height=\"24px\"viewBox=\"0 0 24 24\"\n",
              "       width=\"24px\">\n",
              "    <path d=\"M0 0h24v24H0V0z\" fill=\"none\"/>\n",
              "    <path d=\"M18.56 5.44l.94 2.06.94-2.06 2.06-.94-2.06-.94-.94-2.06-.94 2.06-2.06.94zm-11 1L8.5 8.5l.94-2.06 2.06-.94-2.06-.94L8.5 2.5l-.94 2.06-2.06.94zm10 10l.94 2.06.94-2.06 2.06-.94-2.06-.94-.94-2.06-.94 2.06-2.06.94z\"/><path d=\"M17.41 7.96l-1.37-1.37c-.4-.4-.92-.59-1.43-.59-.52 0-1.04.2-1.43.59L10.3 9.45l-7.72 7.72c-.78.78-.78 2.05 0 2.83L4 21.41c.39.39.9.59 1.41.59.51 0 1.02-.2 1.41-.59l7.78-7.78 2.81-2.81c.8-.78.8-2.07 0-2.86zM5.41 20L4 18.59l7.72-7.72 1.47 1.35L5.41 20z\"/>\n",
              "  </svg>\n",
              "      </button>\n",
              "      \n",
              "  <style>\n",
              "    .colab-df-container {\n",
              "      display:flex;\n",
              "      flex-wrap:wrap;\n",
              "      gap: 12px;\n",
              "    }\n",
              "\n",
              "    .colab-df-convert {\n",
              "      background-color: #E8F0FE;\n",
              "      border: none;\n",
              "      border-radius: 50%;\n",
              "      cursor: pointer;\n",
              "      display: none;\n",
              "      fill: #1967D2;\n",
              "      height: 32px;\n",
              "      padding: 0 0 0 0;\n",
              "      width: 32px;\n",
              "    }\n",
              "\n",
              "    .colab-df-convert:hover {\n",
              "      background-color: #E2EBFA;\n",
              "      box-shadow: 0px 1px 2px rgba(60, 64, 67, 0.3), 0px 1px 3px 1px rgba(60, 64, 67, 0.15);\n",
              "      fill: #174EA6;\n",
              "    }\n",
              "\n",
              "    [theme=dark] .colab-df-convert {\n",
              "      background-color: #3B4455;\n",
              "      fill: #D2E3FC;\n",
              "    }\n",
              "\n",
              "    [theme=dark] .colab-df-convert:hover {\n",
              "      background-color: #434B5C;\n",
              "      box-shadow: 0px 1px 3px 1px rgba(0, 0, 0, 0.15);\n",
              "      filter: drop-shadow(0px 1px 2px rgba(0, 0, 0, 0.3));\n",
              "      fill: #FFFFFF;\n",
              "    }\n",
              "  </style>\n",
              "\n",
              "      <script>\n",
              "        const buttonEl =\n",
              "          document.querySelector('#df-922d1484-0228-458a-b2f8-97ba3db909a9 button.colab-df-convert');\n",
              "        buttonEl.style.display =\n",
              "          google.colab.kernel.accessAllowed ? 'block' : 'none';\n",
              "\n",
              "        async function convertToInteractive(key) {\n",
              "          const element = document.querySelector('#df-922d1484-0228-458a-b2f8-97ba3db909a9');\n",
              "          const dataTable =\n",
              "            await google.colab.kernel.invokeFunction('convertToInteractive',\n",
              "                                                     [key], {});\n",
              "          if (!dataTable) return;\n",
              "\n",
              "          const docLinkHtml = 'Like what you see? Visit the ' +\n",
              "            '<a target=\"_blank\" href=https://colab.research.google.com/notebooks/data_table.ipynb>data table notebook</a>'\n",
              "            + ' to learn more about interactive tables.';\n",
              "          element.innerHTML = '';\n",
              "          dataTable['output_type'] = 'display_data';\n",
              "          await google.colab.output.renderOutput(dataTable, element);\n",
              "          const docLink = document.createElement('div');\n",
              "          docLink.innerHTML = docLinkHtml;\n",
              "          element.appendChild(docLink);\n",
              "        }\n",
              "      </script>\n",
              "    </div>\n",
              "  </div>\n",
              "  "
            ]
          },
          "metadata": {},
          "execution_count": 17
        }
      ],
      "source": [
        "df_test_orig[ids_old]"
      ]
    },
    {
      "cell_type": "code",
      "execution_count": null,
      "metadata": {
        "colab": {
          "base_uri": "https://localhost:8080/",
          "height": 81
        },
        "id": "Yls7A_pQuhlb",
        "outputId": "d6783f98-016e-44a4-f904-d22576d6e224"
      },
      "outputs": [
        {
          "output_type": "execute_result",
          "data": {
            "text/plain": [
              "                                               article  label\n",
              "673  Huli sa isinagawang entrapment operation ng Ph...      1"
            ],
            "text/html": [
              "\n",
              "  <div id=\"df-9e47fa56-9d8c-4c48-814f-c2ebc9b6d51c\">\n",
              "    <div class=\"colab-df-container\">\n",
              "      <div>\n",
              "<style scoped>\n",
              "    .dataframe tbody tr th:only-of-type {\n",
              "        vertical-align: middle;\n",
              "    }\n",
              "\n",
              "    .dataframe tbody tr th {\n",
              "        vertical-align: top;\n",
              "    }\n",
              "\n",
              "    .dataframe thead th {\n",
              "        text-align: right;\n",
              "    }\n",
              "</style>\n",
              "<table border=\"1\" class=\"dataframe\">\n",
              "  <thead>\n",
              "    <tr style=\"text-align: right;\">\n",
              "      <th></th>\n",
              "      <th>article</th>\n",
              "      <th>label</th>\n",
              "    </tr>\n",
              "  </thead>\n",
              "  <tbody>\n",
              "    <tr>\n",
              "      <th>673</th>\n",
              "      <td>Huli sa isinagawang entrapment operation ng Ph...</td>\n",
              "      <td>1</td>\n",
              "    </tr>\n",
              "  </tbody>\n",
              "</table>\n",
              "</div>\n",
              "      <button class=\"colab-df-convert\" onclick=\"convertToInteractive('df-9e47fa56-9d8c-4c48-814f-c2ebc9b6d51c')\"\n",
              "              title=\"Convert this dataframe to an interactive table.\"\n",
              "              style=\"display:none;\">\n",
              "        \n",
              "  <svg xmlns=\"http://www.w3.org/2000/svg\" height=\"24px\"viewBox=\"0 0 24 24\"\n",
              "       width=\"24px\">\n",
              "    <path d=\"M0 0h24v24H0V0z\" fill=\"none\"/>\n",
              "    <path d=\"M18.56 5.44l.94 2.06.94-2.06 2.06-.94-2.06-.94-.94-2.06-.94 2.06-2.06.94zm-11 1L8.5 8.5l.94-2.06 2.06-.94-2.06-.94L8.5 2.5l-.94 2.06-2.06.94zm10 10l.94 2.06.94-2.06 2.06-.94-2.06-.94-.94-2.06-.94 2.06-2.06.94z\"/><path d=\"M17.41 7.96l-1.37-1.37c-.4-.4-.92-.59-1.43-.59-.52 0-1.04.2-1.43.59L10.3 9.45l-7.72 7.72c-.78.78-.78 2.05 0 2.83L4 21.41c.39.39.9.59 1.41.59.51 0 1.02-.2 1.41-.59l7.78-7.78 2.81-2.81c.8-.78.8-2.07 0-2.86zM5.41 20L4 18.59l7.72-7.72 1.47 1.35L5.41 20z\"/>\n",
              "  </svg>\n",
              "      </button>\n",
              "      \n",
              "  <style>\n",
              "    .colab-df-container {\n",
              "      display:flex;\n",
              "      flex-wrap:wrap;\n",
              "      gap: 12px;\n",
              "    }\n",
              "\n",
              "    .colab-df-convert {\n",
              "      background-color: #E8F0FE;\n",
              "      border: none;\n",
              "      border-radius: 50%;\n",
              "      cursor: pointer;\n",
              "      display: none;\n",
              "      fill: #1967D2;\n",
              "      height: 32px;\n",
              "      padding: 0 0 0 0;\n",
              "      width: 32px;\n",
              "    }\n",
              "\n",
              "    .colab-df-convert:hover {\n",
              "      background-color: #E2EBFA;\n",
              "      box-shadow: 0px 1px 2px rgba(60, 64, 67, 0.3), 0px 1px 3px 1px rgba(60, 64, 67, 0.15);\n",
              "      fill: #174EA6;\n",
              "    }\n",
              "\n",
              "    [theme=dark] .colab-df-convert {\n",
              "      background-color: #3B4455;\n",
              "      fill: #D2E3FC;\n",
              "    }\n",
              "\n",
              "    [theme=dark] .colab-df-convert:hover {\n",
              "      background-color: #434B5C;\n",
              "      box-shadow: 0px 1px 3px 1px rgba(0, 0, 0, 0.15);\n",
              "      filter: drop-shadow(0px 1px 2px rgba(0, 0, 0, 0.3));\n",
              "      fill: #FFFFFF;\n",
              "    }\n",
              "  </style>\n",
              "\n",
              "      <script>\n",
              "        const buttonEl =\n",
              "          document.querySelector('#df-9e47fa56-9d8c-4c48-814f-c2ebc9b6d51c button.colab-df-convert');\n",
              "        buttonEl.style.display =\n",
              "          google.colab.kernel.accessAllowed ? 'block' : 'none';\n",
              "\n",
              "        async function convertToInteractive(key) {\n",
              "          const element = document.querySelector('#df-9e47fa56-9d8c-4c48-814f-c2ebc9b6d51c');\n",
              "          const dataTable =\n",
              "            await google.colab.kernel.invokeFunction('convertToInteractive',\n",
              "                                                     [key], {});\n",
              "          if (!dataTable) return;\n",
              "\n",
              "          const docLinkHtml = 'Like what you see? Visit the ' +\n",
              "            '<a target=\"_blank\" href=https://colab.research.google.com/notebooks/data_table.ipynb>data table notebook</a>'\n",
              "            + ' to learn more about interactive tables.';\n",
              "          element.innerHTML = '';\n",
              "          dataTable['output_type'] = 'display_data';\n",
              "          await google.colab.output.renderOutput(dataTable, element);\n",
              "          const docLink = document.createElement('div');\n",
              "          docLink.innerHTML = docLinkHtml;\n",
              "          element.appendChild(docLink);\n",
              "        }\n",
              "      </script>\n",
              "    </div>\n",
              "  </div>\n",
              "  "
            ]
          },
          "metadata": {},
          "execution_count": 18
        }
      ],
      "source": [
        "df_test_adv[ids_new]"
      ]
    },
    {
      "cell_type": "markdown",
      "metadata": {
        "id": "7kzueInw8-bR"
      },
      "source": [
        "## Finetuning"
      ]
    },
    {
      "cell_type": "markdown",
      "metadata": {
        "id": "P9oTKSBKqfgr"
      },
      "source": [
        "The pretrained model will be finetuned to both the original dataset and the modified dataset. The pretrained model, *bert-tagalog-base-cased,* was trained using the WikiText-TL-39 dataset which is a corpus of 172,815 articles in Tagalog."
      ]
    },
    {
      "cell_type": "code",
      "source": [
        "pretrained = 'jcblaise/bert-tagalog-base-cased'\n",
        "tokenizer = AutoTokenizer.from_pretrained(pretrained)\n",
        "model = AutoModelForSequenceClassification.from_pretrained(pretrained)"
      ],
      "metadata": {
        "id": "3smBfkrXNS50"
      },
      "execution_count": null,
      "outputs": []
    },
    {
      "cell_type": "code",
      "execution_count": 72,
      "metadata": {
        "colab": {
          "base_uri": "https://localhost:8080/"
        },
        "id": "EChIXRlDpKq6",
        "outputId": "770464a1-85ba-498a-ea89-f5991ca91304"
      },
      "outputs": [
        {
          "output_type": "stream",
          "name": "stdout",
          "text": [
            "2244\n"
          ]
        }
      ],
      "source": [
        "data = pd.read_csv('train_fil.csv')\n",
        "\n",
        "X = list(data[\"article\"])\n",
        "y = list(data[\"label\"])\n",
        "X_train, X_val, y_train, y_val = train_test_split(X, y, test_size=0.3)\n",
        "X_train_tokenized = tokenizer(X_train, padding=True, truncation=True, max_length=512)\n",
        "X_val_tokenized = tokenizer(X_val, padding=True, truncation=True, max_length=512)\n",
        "\n",
        "train_dataset = Dataset(X_train_tokenized, y_train)\n",
        "val_dataset = Dataset(X_val_tokenized, y_val)\n",
        "\n",
        "print(len(data))"
      ]
    },
    {
      "cell_type": "code",
      "source": [
        "args = TrainingArguments(\n",
        "    output_dir=\"output\",\n",
        "    evaluation_strategy=\"steps\",\n",
        "    eval_steps=500,\n",
        "    per_device_train_batch_size=8,\n",
        "    per_device_eval_batch_size=8,\n",
        "    num_train_epochs=3,\n",
        "    seed=0,\n",
        "    load_best_model_at_end=True,\n",
        ")\n",
        "trainer = Trainer(\n",
        "    model=model,\n",
        "    args=args,\n",
        "    train_dataset=train_dataset,\n",
        "    eval_dataset=val_dataset,\n",
        "    compute_metrics=compute_metrics,\n",
        "    callbacks=[EarlyStoppingCallback(early_stopping_patience=3)],\n",
        ")"
      ],
      "metadata": {
        "id": "2_-KwB7HP11l"
      },
      "execution_count": null,
      "outputs": []
    },
    {
      "cell_type": "code",
      "execution_count": null,
      "metadata": {
        "colab": {
          "base_uri": "https://localhost:8080/",
          "height": 543
        },
        "id": "MMgl1YDIROJ9",
        "outputId": "b880d0f3-ab23-44d2-b292-2389e6ccf279"
      },
      "outputs": [
        {
          "output_type": "stream",
          "name": "stderr",
          "text": [
            "/usr/local/lib/python3.8/dist-packages/transformers/optimization.py:306: FutureWarning: This implementation of AdamW is deprecated and will be removed in a future version. Use the PyTorch implementation torch.optim.AdamW instead, or set `no_deprecation_warning=True` to disable this warning\n",
            "  warnings.warn(\n",
            "***** Running training *****\n",
            "  Num examples = 1570\n",
            "  Num Epochs = 3\n",
            "  Instantaneous batch size per device = 8\n",
            "  Total train batch size (w. parallel, distributed & accumulation) = 8\n",
            "  Gradient Accumulation steps = 1\n",
            "  Total optimization steps = 591\n",
            "  Number of trainable parameters = 109160450\n"
          ]
        },
        {
          "output_type": "display_data",
          "data": {
            "text/plain": [
              "<IPython.core.display.HTML object>"
            ],
            "text/html": [
              "\n",
              "    <div>\n",
              "      \n",
              "      <progress value='591' max='591' style='width:300px; height:20px; vertical-align: middle;'></progress>\n",
              "      [591/591 08:20, Epoch 3/3]\n",
              "    </div>\n",
              "    <table border=\"1\" class=\"dataframe\">\n",
              "  <thead>\n",
              " <tr style=\"text-align: left;\">\n",
              "      <th>Step</th>\n",
              "      <th>Training Loss</th>\n",
              "      <th>Validation Loss</th>\n",
              "      <th>Accuracy</th>\n",
              "      <th>Precision</th>\n",
              "      <th>Recall</th>\n",
              "      <th>F1</th>\n",
              "    </tr>\n",
              "  </thead>\n",
              "  <tbody>\n",
              "    <tr>\n",
              "      <td>500</td>\n",
              "      <td>0.167000</td>\n",
              "      <td>0.333966</td>\n",
              "      <td>0.939169</td>\n",
              "      <td>0.921569</td>\n",
              "      <td>0.961988</td>\n",
              "      <td>0.941345</td>\n",
              "    </tr>\n",
              "  </tbody>\n",
              "</table><p>"
            ]
          },
          "metadata": {}
        },
        {
          "output_type": "stream",
          "name": "stderr",
          "text": [
            "***** Running Evaluation *****\n",
            "  Num examples = 674\n",
            "  Batch size = 8\n",
            "Saving model checkpoint to output/checkpoint-500\n",
            "Configuration saved in output/checkpoint-500/config.json\n",
            "Model weights saved in output/checkpoint-500/pytorch_model.bin\n",
            "\n",
            "\n",
            "Training completed. Do not forget to share your model on huggingface.co/models =)\n",
            "\n",
            "\n",
            "Loading best model from output/checkpoint-500 (score: 0.3339659869670868).\n"
          ]
        },
        {
          "output_type": "execute_result",
          "data": {
            "text/plain": [
              "TrainOutput(global_step=591, training_loss=0.14444741440303435, metrics={'train_runtime': 504.6572, 'train_samples_per_second': 9.333, 'train_steps_per_second': 1.171, 'total_flos': 1239253070745600.0, 'train_loss': 0.14444741440303435, 'epoch': 3.0})"
            ]
          },
          "metadata": {},
          "execution_count": 23
        }
      ],
      "source": [
        "trainer.train()"
      ]
    },
    {
      "cell_type": "markdown",
      "metadata": {
        "id": "P_cIbOYl81jw"
      },
      "source": [
        "Copy the finetuned model to local storage"
      ]
    },
    {
      "cell_type": "code",
      "execution_count": null,
      "metadata": {
        "id": "5cm2LqcEeb6D"
      },
      "outputs": [],
      "source": [
        "!cp -r \"/content/drive/My Drive/198-adversarial-ml/Fake-News-Filipino/output\" \"output\" "
      ]
    },
    {
      "cell_type": "markdown",
      "metadata": {
        "id": "wU6vgExu9BUC"
      },
      "source": [
        "## Evaluation"
      ]
    },
    {
      "cell_type": "markdown",
      "source": [
        "Load finetuned models if needed"
      ],
      "metadata": {
        "id": "TkpNcDbEUTYW"
      }
    },
    {
      "cell_type": "code",
      "source": [
        "!rm -r \"output\" #delete previously loaded model\n",
        "!cp -r \"/content/drive/My Drive/198-adversarial-ml/Fake-News-Filipino/output\" \"output\""
      ],
      "metadata": {
        "id": "CE5EdqvvULQU"
      },
      "execution_count": 74,
      "outputs": []
    },
    {
      "cell_type": "markdown",
      "metadata": {
        "id": "ZijHDb2Iq7aL"
      },
      "source": [
        "Use the best model, step = 500."
      ]
    },
    {
      "cell_type": "code",
      "execution_count": 75,
      "metadata": {
        "colab": {
          "base_uri": "https://localhost:8080/",
          "height": 835
        },
        "id": "j5F_tsVBY0ED",
        "outputId": "327e9b4a-10d3-4d50-b7e6-4367a72c4492"
      },
      "outputs": [
        {
          "output_type": "stream",
          "name": "stderr",
          "text": [
            "loading configuration file output/checkpoint-500/config.json\n",
            "Model config BertConfig {\n",
            "  \"_name_or_path\": \"output/checkpoint-500\",\n",
            "  \"architectures\": [\n",
            "    \"BertForSequenceClassification\"\n",
            "  ],\n",
            "  \"attention_probs_dropout_prob\": 0.1,\n",
            "  \"classifier_dropout\": null,\n",
            "  \"directionality\": \"bidi\",\n",
            "  \"hidden_act\": \"gelu\",\n",
            "  \"hidden_dropout_prob\": 0.1,\n",
            "  \"hidden_size\": 768,\n",
            "  \"initializer_range\": 0.02,\n",
            "  \"intermediate_size\": 3072,\n",
            "  \"layer_norm_eps\": 1e-12,\n",
            "  \"max_position_embeddings\": 512,\n",
            "  \"model_type\": \"bert\",\n",
            "  \"num_attention_heads\": 12,\n",
            "  \"num_hidden_layers\": 12,\n",
            "  \"pad_token_id\": 0,\n",
            "  \"pooler_fc_size\": 768,\n",
            "  \"pooler_num_attention_heads\": 12,\n",
            "  \"pooler_num_fc_layers\": 3,\n",
            "  \"pooler_size_per_head\": 128,\n",
            "  \"pooler_type\": \"first_token_transform\",\n",
            "  \"position_embedding_type\": \"absolute\",\n",
            "  \"problem_type\": \"single_label_classification\",\n",
            "  \"torch_dtype\": \"float32\",\n",
            "  \"transformers_version\": \"4.25.1\",\n",
            "  \"type_vocab_size\": 2,\n",
            "  \"use_cache\": true,\n",
            "  \"vocab_size\": 30101\n",
            "}\n",
            "\n",
            "loading weights file output/checkpoint-500/pytorch_model.bin\n",
            "All model checkpoint weights were used when initializing BertForSequenceClassification.\n",
            "\n",
            "All the weights of BertForSequenceClassification were initialized from the model checkpoint at output/checkpoint-500.\n",
            "If your task is similar to the task the model of the checkpoint was trained on, you can already use BertForSequenceClassification for predictions without further training.\n",
            "No `TrainingArguments` passed, using `output_dir=tmp_trainer`.\n",
            "PyTorch: setting up devices\n",
            "The default value for the training argument `--report_to` will change in v5 (from all installed integrations to none). In v5, you will need to use `--report_to all` to get the same behavior as now. You should start updating your code and make this info disappear :-).\n",
            "***** Running Prediction *****\n",
            "  Num examples = 962\n",
            "  Batch size = 8\n"
          ]
        },
        {
          "output_type": "display_data",
          "data": {
            "text/plain": [
              "<IPython.core.display.HTML object>"
            ],
            "text/html": []
          },
          "metadata": {}
        },
        {
          "output_type": "stream",
          "name": "stdout",
          "text": [
            "0.9397089397089398 0.9518828451882845 0.9285714285714286 0.9400826446280992\n"
          ]
        }
      ],
      "source": [
        "test_data = pd.read_csv(\"test_orig_fil.csv\")\n",
        "\n",
        "X_test = list(test_data[\"article\"])\n",
        "X_test_tokenized = tokenizer(X_test, padding=True, truncation=True, max_length=512)\n",
        "y_test = list(test_data[\"label\"])\n",
        "\n",
        "test_dataset = Dataset(X_test_tokenized)\n",
        "\n",
        "model_path = \"output/checkpoint-500\"\n",
        "model = AutoModelForSequenceClassification.from_pretrained(model_path, num_labels=2)\n",
        "\n",
        "test_trainer = Trainer(model)\n",
        "\n",
        "raw_pred, _, _ = test_trainer.predict(test_dataset)\n",
        "y_pred = np.argmax(raw_pred, axis=1)\n",
        "\n",
        "accuracy = accuracy_score(y_test, y_pred)\n",
        "recall = recall_score(y_test, y_pred)\n",
        "precision = precision_score(y_test, y_pred)\n",
        "f1 = f1_score(y_test, y_pred)\n",
        "\n",
        "temp_results = []\n",
        "temp_results.append(accuracy)\n",
        "temp_results.append(recall)\n",
        "temp_results.append(precision)\n",
        "temp_results.append(f1)\n",
        "results.append(temp_results)\n",
        "\n",
        "print(accuracy, recall, precision, f1)"
      ]
    },
    {
      "cell_type": "code",
      "execution_count": 77,
      "metadata": {
        "colab": {
          "base_uri": "https://localhost:8080/",
          "height": 835
        },
        "id": "dwsKZlGCY784",
        "outputId": "163ff1c7-c105-468e-8553-7b98b022ee01"
      },
      "outputs": [
        {
          "output_type": "stream",
          "name": "stderr",
          "text": [
            "loading configuration file output/checkpoint-500/config.json\n",
            "Model config BertConfig {\n",
            "  \"_name_or_path\": \"output/checkpoint-500\",\n",
            "  \"architectures\": [\n",
            "    \"BertForSequenceClassification\"\n",
            "  ],\n",
            "  \"attention_probs_dropout_prob\": 0.1,\n",
            "  \"classifier_dropout\": null,\n",
            "  \"directionality\": \"bidi\",\n",
            "  \"hidden_act\": \"gelu\",\n",
            "  \"hidden_dropout_prob\": 0.1,\n",
            "  \"hidden_size\": 768,\n",
            "  \"initializer_range\": 0.02,\n",
            "  \"intermediate_size\": 3072,\n",
            "  \"layer_norm_eps\": 1e-12,\n",
            "  \"max_position_embeddings\": 512,\n",
            "  \"model_type\": \"bert\",\n",
            "  \"num_attention_heads\": 12,\n",
            "  \"num_hidden_layers\": 12,\n",
            "  \"pad_token_id\": 0,\n",
            "  \"pooler_fc_size\": 768,\n",
            "  \"pooler_num_attention_heads\": 12,\n",
            "  \"pooler_num_fc_layers\": 3,\n",
            "  \"pooler_size_per_head\": 128,\n",
            "  \"pooler_type\": \"first_token_transform\",\n",
            "  \"position_embedding_type\": \"absolute\",\n",
            "  \"problem_type\": \"single_label_classification\",\n",
            "  \"torch_dtype\": \"float32\",\n",
            "  \"transformers_version\": \"4.25.1\",\n",
            "  \"type_vocab_size\": 2,\n",
            "  \"use_cache\": true,\n",
            "  \"vocab_size\": 30101\n",
            "}\n",
            "\n",
            "loading weights file output/checkpoint-500/pytorch_model.bin\n",
            "All model checkpoint weights were used when initializing BertForSequenceClassification.\n",
            "\n",
            "All the weights of BertForSequenceClassification were initialized from the model checkpoint at output/checkpoint-500.\n",
            "If your task is similar to the task the model of the checkpoint was trained on, you can already use BertForSequenceClassification for predictions without further training.\n",
            "No `TrainingArguments` passed, using `output_dir=tmp_trainer`.\n",
            "PyTorch: setting up devices\n",
            "The default value for the training argument `--report_to` will change in v5 (from all installed integrations to none). In v5, you will need to use `--report_to all` to get the same behavior as now. You should start updating your code and make this info disappear :-).\n",
            "***** Running Prediction *****\n",
            "  Num examples = 962\n",
            "  Batch size = 8\n"
          ]
        },
        {
          "output_type": "display_data",
          "data": {
            "text/plain": [
              "<IPython.core.display.HTML object>"
            ],
            "text/html": []
          },
          "metadata": {}
        },
        {
          "output_type": "stream",
          "name": "stdout",
          "text": [
            "0.9355509355509356 0.9518828451882845 0.9210526315789473 0.9362139917695472\n"
          ]
        }
      ],
      "source": [
        "test_data = pd.read_csv(\"test_adv_fil.csv\")\n",
        "X_test = list(test_data[\"article\"])\n",
        "X_test_tokenized = tokenizer(X_test, padding=True, truncation=True, max_length=512)\n",
        "y_test = list(test_data[\"label\"])\n",
        "\n",
        "test_dataset = Dataset(X_test_tokenized)\n",
        "\n",
        "model_path = \"output/checkpoint-500\"\n",
        "model = AutoModelForSequenceClassification.from_pretrained(model_path, num_labels=2)\n",
        "\n",
        "test_trainer = Trainer(model)\n",
        "\n",
        "raw_pred, _, _ = test_trainer.predict(test_dataset)\n",
        "\n",
        "y_pred = np.argmax(raw_pred, axis=1)\n",
        "\n",
        "accuracy = accuracy_score(y_test, y_pred)\n",
        "recall = recall_score(y_test, y_pred)\n",
        "precision = precision_score(y_test, y_pred)\n",
        "f1 = f1_score(y_test, y_pred)\n",
        "\n",
        "temp_results = []\n",
        "temp_results.append(accuracy)\n",
        "temp_results.append(recall)\n",
        "temp_results.append(precision)\n",
        "temp_results.append(f1)\n",
        "results.append(temp_results)\n",
        "\n",
        "print(accuracy, recall, precision, f1)"
      ]
    },
    {
      "cell_type": "markdown",
      "metadata": {
        "id": "wVaiywTLs-0M"
      },
      "source": [
        "# Visualization of Results"
      ]
    },
    {
      "cell_type": "code",
      "execution_count": 79,
      "metadata": {
        "colab": {
          "base_uri": "https://localhost:8080/",
          "height": 517
        },
        "id": "l5_tWeQrtD14",
        "outputId": "d29b7480-e9eb-4d75-9621-0ae18cc647ba"
      },
      "outputs": [
        {
          "output_type": "display_data",
          "data": {
            "text/html": [
              "<html>\n",
              "<head><meta charset=\"utf-8\" /></head>\n",
              "<body>\n",
              "    <div>            <script src=\"https://cdnjs.cloudflare.com/ajax/libs/mathjax/2.7.5/MathJax.js?config=TeX-AMS-MML_SVG\"></script><script type=\"text/javascript\">if (window.MathJax) {MathJax.Hub.Config({SVG: {font: \"STIX-Web\"}});}</script>                <script type=\"text/javascript\">window.PlotlyConfig = {MathJaxConfig: 'local'};</script>\n",
              "        <script src=\"https://cdn.plot.ly/plotly-2.8.3.min.js\"></script>                <div id=\"40dc720c-a252-4c90-91f4-a256632134fa\" class=\"plotly-graph-div\" style=\"height:500px; width:1000px;\"></div>            <script type=\"text/javascript\">                                    window.PLOTLYENV=window.PLOTLYENV || {};                                    if (document.getElementById(\"40dc720c-a252-4c90-91f4-a256632134fa\")) {                    Plotly.newPlot(                        \"40dc720c-a252-4c90-91f4-a256632134fa\",                        [{\"cells\":{\"align\":\"left\",\"fill\":{\"color\":\"lightcyan\"},\"line\":{\"color\":\"darkslategray\"},\"values\":[[\"Kaggle Fake News (Original)\",\"Kaggle Fake News (Adversarial)\",\"Fake News Filipino (Original)\",\"Fake News Filipino (Adversarial)\"],[0.9940600417402472,0.9917741935483871,0.9397089397089398,0.9355509355509356],[0.9951659684176604,0.9928034020281321,0.9518828451882845,0.9518828451882845],[0.9929260450160772,0.9905352480417755,0.9285714285714286,0.9210526315789473],[0.9940447448897473,0.9916680280999838,0.9400826446280992,0.9362139917695472]]},\"header\":{\"align\":\"left\",\"fill\":{\"color\":\"lightskyblue\"},\"line\":{\"color\":\"darkslategray\"},\"values\":[\"Finetuned Model\",\"Accuracy\",\"Recall\",\"Precision\",\"F1-Score\"]},\"type\":\"table\"}],                        {\"template\":{\"data\":{\"bar\":[{\"error_x\":{\"color\":\"#2a3f5f\"},\"error_y\":{\"color\":\"#2a3f5f\"},\"marker\":{\"line\":{\"color\":\"#E5ECF6\",\"width\":0.5},\"pattern\":{\"fillmode\":\"overlay\",\"size\":10,\"solidity\":0.2}},\"type\":\"bar\"}],\"barpolar\":[{\"marker\":{\"line\":{\"color\":\"#E5ECF6\",\"width\":0.5},\"pattern\":{\"fillmode\":\"overlay\",\"size\":10,\"solidity\":0.2}},\"type\":\"barpolar\"}],\"carpet\":[{\"aaxis\":{\"endlinecolor\":\"#2a3f5f\",\"gridcolor\":\"white\",\"linecolor\":\"white\",\"minorgridcolor\":\"white\",\"startlinecolor\":\"#2a3f5f\"},\"baxis\":{\"endlinecolor\":\"#2a3f5f\",\"gridcolor\":\"white\",\"linecolor\":\"white\",\"minorgridcolor\":\"white\",\"startlinecolor\":\"#2a3f5f\"},\"type\":\"carpet\"}],\"choropleth\":[{\"colorbar\":{\"outlinewidth\":0,\"ticks\":\"\"},\"type\":\"choropleth\"}],\"contour\":[{\"colorbar\":{\"outlinewidth\":0,\"ticks\":\"\"},\"colorscale\":[[0.0,\"#0d0887\"],[0.1111111111111111,\"#46039f\"],[0.2222222222222222,\"#7201a8\"],[0.3333333333333333,\"#9c179e\"],[0.4444444444444444,\"#bd3786\"],[0.5555555555555556,\"#d8576b\"],[0.6666666666666666,\"#ed7953\"],[0.7777777777777778,\"#fb9f3a\"],[0.8888888888888888,\"#fdca26\"],[1.0,\"#f0f921\"]],\"type\":\"contour\"}],\"contourcarpet\":[{\"colorbar\":{\"outlinewidth\":0,\"ticks\":\"\"},\"type\":\"contourcarpet\"}],\"heatmap\":[{\"colorbar\":{\"outlinewidth\":0,\"ticks\":\"\"},\"colorscale\":[[0.0,\"#0d0887\"],[0.1111111111111111,\"#46039f\"],[0.2222222222222222,\"#7201a8\"],[0.3333333333333333,\"#9c179e\"],[0.4444444444444444,\"#bd3786\"],[0.5555555555555556,\"#d8576b\"],[0.6666666666666666,\"#ed7953\"],[0.7777777777777778,\"#fb9f3a\"],[0.8888888888888888,\"#fdca26\"],[1.0,\"#f0f921\"]],\"type\":\"heatmap\"}],\"heatmapgl\":[{\"colorbar\":{\"outlinewidth\":0,\"ticks\":\"\"},\"colorscale\":[[0.0,\"#0d0887\"],[0.1111111111111111,\"#46039f\"],[0.2222222222222222,\"#7201a8\"],[0.3333333333333333,\"#9c179e\"],[0.4444444444444444,\"#bd3786\"],[0.5555555555555556,\"#d8576b\"],[0.6666666666666666,\"#ed7953\"],[0.7777777777777778,\"#fb9f3a\"],[0.8888888888888888,\"#fdca26\"],[1.0,\"#f0f921\"]],\"type\":\"heatmapgl\"}],\"histogram\":[{\"marker\":{\"pattern\":{\"fillmode\":\"overlay\",\"size\":10,\"solidity\":0.2}},\"type\":\"histogram\"}],\"histogram2d\":[{\"colorbar\":{\"outlinewidth\":0,\"ticks\":\"\"},\"colorscale\":[[0.0,\"#0d0887\"],[0.1111111111111111,\"#46039f\"],[0.2222222222222222,\"#7201a8\"],[0.3333333333333333,\"#9c179e\"],[0.4444444444444444,\"#bd3786\"],[0.5555555555555556,\"#d8576b\"],[0.6666666666666666,\"#ed7953\"],[0.7777777777777778,\"#fb9f3a\"],[0.8888888888888888,\"#fdca26\"],[1.0,\"#f0f921\"]],\"type\":\"histogram2d\"}],\"histogram2dcontour\":[{\"colorbar\":{\"outlinewidth\":0,\"ticks\":\"\"},\"colorscale\":[[0.0,\"#0d0887\"],[0.1111111111111111,\"#46039f\"],[0.2222222222222222,\"#7201a8\"],[0.3333333333333333,\"#9c179e\"],[0.4444444444444444,\"#bd3786\"],[0.5555555555555556,\"#d8576b\"],[0.6666666666666666,\"#ed7953\"],[0.7777777777777778,\"#fb9f3a\"],[0.8888888888888888,\"#fdca26\"],[1.0,\"#f0f921\"]],\"type\":\"histogram2dcontour\"}],\"mesh3d\":[{\"colorbar\":{\"outlinewidth\":0,\"ticks\":\"\"},\"type\":\"mesh3d\"}],\"parcoords\":[{\"line\":{\"colorbar\":{\"outlinewidth\":0,\"ticks\":\"\"}},\"type\":\"parcoords\"}],\"pie\":[{\"automargin\":true,\"type\":\"pie\"}],\"scatter\":[{\"marker\":{\"colorbar\":{\"outlinewidth\":0,\"ticks\":\"\"}},\"type\":\"scatter\"}],\"scatter3d\":[{\"line\":{\"colorbar\":{\"outlinewidth\":0,\"ticks\":\"\"}},\"marker\":{\"colorbar\":{\"outlinewidth\":0,\"ticks\":\"\"}},\"type\":\"scatter3d\"}],\"scattercarpet\":[{\"marker\":{\"colorbar\":{\"outlinewidth\":0,\"ticks\":\"\"}},\"type\":\"scattercarpet\"}],\"scattergeo\":[{\"marker\":{\"colorbar\":{\"outlinewidth\":0,\"ticks\":\"\"}},\"type\":\"scattergeo\"}],\"scattergl\":[{\"marker\":{\"colorbar\":{\"outlinewidth\":0,\"ticks\":\"\"}},\"type\":\"scattergl\"}],\"scattermapbox\":[{\"marker\":{\"colorbar\":{\"outlinewidth\":0,\"ticks\":\"\"}},\"type\":\"scattermapbox\"}],\"scatterpolar\":[{\"marker\":{\"colorbar\":{\"outlinewidth\":0,\"ticks\":\"\"}},\"type\":\"scatterpolar\"}],\"scatterpolargl\":[{\"marker\":{\"colorbar\":{\"outlinewidth\":0,\"ticks\":\"\"}},\"type\":\"scatterpolargl\"}],\"scatterternary\":[{\"marker\":{\"colorbar\":{\"outlinewidth\":0,\"ticks\":\"\"}},\"type\":\"scatterternary\"}],\"surface\":[{\"colorbar\":{\"outlinewidth\":0,\"ticks\":\"\"},\"colorscale\":[[0.0,\"#0d0887\"],[0.1111111111111111,\"#46039f\"],[0.2222222222222222,\"#7201a8\"],[0.3333333333333333,\"#9c179e\"],[0.4444444444444444,\"#bd3786\"],[0.5555555555555556,\"#d8576b\"],[0.6666666666666666,\"#ed7953\"],[0.7777777777777778,\"#fb9f3a\"],[0.8888888888888888,\"#fdca26\"],[1.0,\"#f0f921\"]],\"type\":\"surface\"}],\"table\":[{\"cells\":{\"fill\":{\"color\":\"#EBF0F8\"},\"line\":{\"color\":\"white\"}},\"header\":{\"fill\":{\"color\":\"#C8D4E3\"},\"line\":{\"color\":\"white\"}},\"type\":\"table\"}]},\"layout\":{\"annotationdefaults\":{\"arrowcolor\":\"#2a3f5f\",\"arrowhead\":0,\"arrowwidth\":1},\"autotypenumbers\":\"strict\",\"coloraxis\":{\"colorbar\":{\"outlinewidth\":0,\"ticks\":\"\"}},\"colorscale\":{\"diverging\":[[0,\"#8e0152\"],[0.1,\"#c51b7d\"],[0.2,\"#de77ae\"],[0.3,\"#f1b6da\"],[0.4,\"#fde0ef\"],[0.5,\"#f7f7f7\"],[0.6,\"#e6f5d0\"],[0.7,\"#b8e186\"],[0.8,\"#7fbc41\"],[0.9,\"#4d9221\"],[1,\"#276419\"]],\"sequential\":[[0.0,\"#0d0887\"],[0.1111111111111111,\"#46039f\"],[0.2222222222222222,\"#7201a8\"],[0.3333333333333333,\"#9c179e\"],[0.4444444444444444,\"#bd3786\"],[0.5555555555555556,\"#d8576b\"],[0.6666666666666666,\"#ed7953\"],[0.7777777777777778,\"#fb9f3a\"],[0.8888888888888888,\"#fdca26\"],[1.0,\"#f0f921\"]],\"sequentialminus\":[[0.0,\"#0d0887\"],[0.1111111111111111,\"#46039f\"],[0.2222222222222222,\"#7201a8\"],[0.3333333333333333,\"#9c179e\"],[0.4444444444444444,\"#bd3786\"],[0.5555555555555556,\"#d8576b\"],[0.6666666666666666,\"#ed7953\"],[0.7777777777777778,\"#fb9f3a\"],[0.8888888888888888,\"#fdca26\"],[1.0,\"#f0f921\"]]},\"colorway\":[\"#636efa\",\"#EF553B\",\"#00cc96\",\"#ab63fa\",\"#FFA15A\",\"#19d3f3\",\"#FF6692\",\"#B6E880\",\"#FF97FF\",\"#FECB52\"],\"font\":{\"color\":\"#2a3f5f\"},\"geo\":{\"bgcolor\":\"white\",\"lakecolor\":\"white\",\"landcolor\":\"#E5ECF6\",\"showlakes\":true,\"showland\":true,\"subunitcolor\":\"white\"},\"hoverlabel\":{\"align\":\"left\"},\"hovermode\":\"closest\",\"mapbox\":{\"style\":\"light\"},\"paper_bgcolor\":\"white\",\"plot_bgcolor\":\"#E5ECF6\",\"polar\":{\"angularaxis\":{\"gridcolor\":\"white\",\"linecolor\":\"white\",\"ticks\":\"\"},\"bgcolor\":\"#E5ECF6\",\"radialaxis\":{\"gridcolor\":\"white\",\"linecolor\":\"white\",\"ticks\":\"\"}},\"scene\":{\"xaxis\":{\"backgroundcolor\":\"#E5ECF6\",\"gridcolor\":\"white\",\"gridwidth\":2,\"linecolor\":\"white\",\"showbackground\":true,\"ticks\":\"\",\"zerolinecolor\":\"white\"},\"yaxis\":{\"backgroundcolor\":\"#E5ECF6\",\"gridcolor\":\"white\",\"gridwidth\":2,\"linecolor\":\"white\",\"showbackground\":true,\"ticks\":\"\",\"zerolinecolor\":\"white\"},\"zaxis\":{\"backgroundcolor\":\"#E5ECF6\",\"gridcolor\":\"white\",\"gridwidth\":2,\"linecolor\":\"white\",\"showbackground\":true,\"ticks\":\"\",\"zerolinecolor\":\"white\"}},\"shapedefaults\":{\"line\":{\"color\":\"#2a3f5f\"}},\"ternary\":{\"aaxis\":{\"gridcolor\":\"white\",\"linecolor\":\"white\",\"ticks\":\"\"},\"baxis\":{\"gridcolor\":\"white\",\"linecolor\":\"white\",\"ticks\":\"\"},\"bgcolor\":\"#E5ECF6\",\"caxis\":{\"gridcolor\":\"white\",\"linecolor\":\"white\",\"ticks\":\"\"}},\"title\":{\"x\":0.05},\"xaxis\":{\"automargin\":true,\"gridcolor\":\"white\",\"linecolor\":\"white\",\"ticks\":\"\",\"title\":{\"standoff\":15},\"zerolinecolor\":\"white\",\"zerolinewidth\":2},\"yaxis\":{\"automargin\":true,\"gridcolor\":\"white\",\"linecolor\":\"white\",\"ticks\":\"\",\"title\":{\"standoff\":15},\"zerolinecolor\":\"white\",\"zerolinewidth\":2}}},\"width\":1000,\"height\":500},                        {\"responsive\": true}                    ).then(function(){\n",
              "                            \n",
              "var gd = document.getElementById('40dc720c-a252-4c90-91f4-a256632134fa');\n",
              "var x = new MutationObserver(function (mutations, observer) {{\n",
              "        var display = window.getComputedStyle(gd).display;\n",
              "        if (!display || display === 'none') {{\n",
              "            console.log([gd, 'removed!']);\n",
              "            Plotly.purge(gd);\n",
              "            observer.disconnect();\n",
              "        }}\n",
              "}});\n",
              "\n",
              "// Listen for the removal of the full notebook cells\n",
              "var notebookContainer = gd.closest('#notebook-container');\n",
              "if (notebookContainer) {{\n",
              "    x.observe(notebookContainer, {childList: true});\n",
              "}}\n",
              "\n",
              "// Listen for the clearing of the current output cell\n",
              "var outputEl = gd.closest('.output');\n",
              "if (outputEl) {{\n",
              "    x.observe(outputEl, {childList: true});\n",
              "}}\n",
              "\n",
              "                        })                };                            </script>        </div>\n",
              "</body>\n",
              "</html>"
            ]
          },
          "metadata": {}
        }
      ],
      "source": [
        "import plotly.graph_objects as go\n",
        "\n",
        "res_t = np.array(results).T.tolist()\n",
        "\n",
        "fig = go.Figure(data=[go.Table(\n",
        "    header=dict(values=['Finetuned Model','Accuracy', 'Recall', 'Precision', 'F1-Score'],\n",
        "                line_color='darkslategray',\n",
        "                fill_color='lightskyblue',\n",
        "                align='left'),\n",
        "    cells=dict(values=[['Kaggle Fake News (Original)', 'Kaggle Fake News (Adversarial)', 'Fake News Filipino (Original)', 'Fake News Filipino (Adversarial)'],\n",
        "                       res_t[0],\n",
        "                       res_t[1],\n",
        "                       res_t[2],\n",
        "                       res_t[3]],\n",
        "               line_color='darkslategray',\n",
        "               fill_color='lightcyan',\n",
        "               align='left'))\n",
        "])\n",
        "\n",
        "fig.update_layout(width=1000, height=500)\n",
        "fig.show()"
      ]
    },
    {
      "cell_type": "markdown",
      "metadata": {
        "id": "f84KlKNhg-P9"
      },
      "source": [
        "# Attributions\n",
        "\n",
        "\n",
        "1.   [An Adversarial Benchmark for Fake News Detection Models](https://github.com/ljyflores/fake-news-adversarial-benchmark/blob/master/polarity_preprocessing.ipynb)\n",
        "2.   [Fine-tuning pretrained NLP models with Huggingface’s Trainer](https://towardsdatascience.com/fine-tuning-pretrained-nlp-models-with-huggingfaces-trainer-6326a4456e7b)"
      ]
    }
  ],
  "metadata": {
    "accelerator": "GPU",
    "colab": {
      "collapsed_sections": [
        "OKqmcb09nKh_"
      ],
      "provenance": []
    },
    "gpuClass": "standard",
    "kernelspec": {
      "display_name": "Python 3",
      "name": "python3"
    },
    "language_info": {
      "name": "python"
    }
  },
  "nbformat": 4,
  "nbformat_minor": 0
}