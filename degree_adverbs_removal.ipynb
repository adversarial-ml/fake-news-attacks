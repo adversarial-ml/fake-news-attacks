{
  "nbformat": 4,
  "nbformat_minor": 0,
  "metadata": {
    "colab": {
      "provenance": []
    },
    "kernelspec": {
      "name": "python3",
      "display_name": "Python 3"
    },
    "language_info": {
      "name": "python"
    },
    "accelerator": "GPU",
    "gpuClass": "standard"
  },
  "cells": [
    {
      "cell_type": "code",
      "source": [
        "#from google.colab import drive\n",
        "#drive.mount('/content/drive')\n",
        "#!cp \"/content/drive/My Drive/198-adversarial-ml/Kaggle-Fake-News/train.csv\" \"train.csv\""
      ],
      "metadata": {
        "id": "HHok42x4Xdeo"
      },
      "execution_count": 45,
      "outputs": []
    },
    {
      "cell_type": "code",
      "source": [
        "import pandas as pd\n",
        "import itertools\n",
        "import string\n",
        "import re"
      ],
      "metadata": {
        "id": "tlpy-RUpZYG1"
      },
      "execution_count": 46,
      "outputs": []
    },
    {
      "cell_type": "code",
      "source": [
        "df = pd.read_csv('train.csv')"
      ],
      "metadata": {
        "id": "R1DwgTGjZrM5"
      },
      "execution_count": 47,
      "outputs": []
    },
    {
      "cell_type": "code",
      "source": [
        "adv_list = ['almost', 'badly', 'fully', 'extremely', 'hardly', 'very', 'fairly', 'really', 'much', 'perfectly',\n",
        "            'well', 'nearly', 'less', 'indeed', 'too', 'so', 'quite', 'rather', 'highly', 'totally']\n",
        "special = ['!', '\"', '#', '$', '%', '&', \"'\", '(', ')', '*', '+', ',', '-', '.', '/', ':', ';', '<', '=', '>', '?', '@', '[', '\\\\', ']', '^', '_', '`', '{', '|', '}', '~', '“', '”', '‘', '’']"
      ],
      "metadata": {
        "id": "o7xZVxO8ozga"
      },
      "execution_count": 48,
      "outputs": []
    },
    {
      "cell_type": "markdown",
      "source": [
        "Adds special characters before and after the adverb."
      ],
      "metadata": {
        "id": "7828GRPHCeSW"
      }
    },
    {
      "cell_type": "code",
      "source": [
        "df = df[df['text'].notnull()]\n",
        "adv_list_sp = []\n",
        "adv_list_sp.append(adv_list)\n",
        "for i in adv_list:\n",
        "  temp_list = []\n",
        "  for j in special:\n",
        "    temp_list.append(i + j)\n",
        "    temp_list.append(j + i)\n",
        "  adv_list_sp.append(temp_list)\n",
        "\n",
        "adv_list = [item for sublist in adv_list_sp for item in sublist]\n",
        "print(adv_list)"
      ],
      "metadata": {
        "colab": {
          "base_uri": "https://localhost:8080/"
        },
        "id": "W8yWqQBSwV8c",
        "outputId": "0a8cd411-d00e-465f-b251-0bce32e62477"
      },
      "execution_count": 49,
      "outputs": [
        {
          "output_type": "stream",
          "name": "stdout",
          "text": [
            "['almost', 'badly', 'fully', 'extremely', 'hardly', 'very', 'fairly', 'really', 'much', 'perfectly', 'well', 'nearly', 'less', 'indeed', 'too', 'so', 'quite', 'rather', 'highly', 'totally', 'almost!', '!almost', 'almost\"', '\"almost', 'almost#', '#almost', 'almost$', '$almost', 'almost%', '%almost', 'almost&', '&almost', \"almost'\", \"'almost\", 'almost(', '(almost', 'almost)', ')almost', 'almost*', '*almost', 'almost+', '+almost', 'almost,', ',almost', 'almost-', '-almost', 'almost.', '.almost', 'almost/', '/almost', 'almost:', ':almost', 'almost;', ';almost', 'almost<', '<almost', 'almost=', '=almost', 'almost>', '>almost', 'almost?', '?almost', 'almost@', '@almost', 'almost[', '[almost', 'almost\\\\', '\\\\almost', 'almost]', ']almost', 'almost^', '^almost', 'almost_', '_almost', 'almost`', '`almost', 'almost{', '{almost', 'almost|', '|almost', 'almost}', '}almost', 'almost~', '~almost', 'almost“', '“almost', 'almost”', '”almost', 'almost‘', '‘almost', 'almost’', '’almost', 'badly!', '!badly', 'badly\"', '\"badly', 'badly#', '#badly', 'badly$', '$badly', 'badly%', '%badly', 'badly&', '&badly', \"badly'\", \"'badly\", 'badly(', '(badly', 'badly)', ')badly', 'badly*', '*badly', 'badly+', '+badly', 'badly,', ',badly', 'badly-', '-badly', 'badly.', '.badly', 'badly/', '/badly', 'badly:', ':badly', 'badly;', ';badly', 'badly<', '<badly', 'badly=', '=badly', 'badly>', '>badly', 'badly?', '?badly', 'badly@', '@badly', 'badly[', '[badly', 'badly\\\\', '\\\\badly', 'badly]', ']badly', 'badly^', '^badly', 'badly_', '_badly', 'badly`', '`badly', 'badly{', '{badly', 'badly|', '|badly', 'badly}', '}badly', 'badly~', '~badly', 'badly“', '“badly', 'badly”', '”badly', 'badly‘', '‘badly', 'badly’', '’badly', 'fully!', '!fully', 'fully\"', '\"fully', 'fully#', '#fully', 'fully$', '$fully', 'fully%', '%fully', 'fully&', '&fully', \"fully'\", \"'fully\", 'fully(', '(fully', 'fully)', ')fully', 'fully*', '*fully', 'fully+', '+fully', 'fully,', ',fully', 'fully-', '-fully', 'fully.', '.fully', 'fully/', '/fully', 'fully:', ':fully', 'fully;', ';fully', 'fully<', '<fully', 'fully=', '=fully', 'fully>', '>fully', 'fully?', '?fully', 'fully@', '@fully', 'fully[', '[fully', 'fully\\\\', '\\\\fully', 'fully]', ']fully', 'fully^', '^fully', 'fully_', '_fully', 'fully`', '`fully', 'fully{', '{fully', 'fully|', '|fully', 'fully}', '}fully', 'fully~', '~fully', 'fully“', '“fully', 'fully”', '”fully', 'fully‘', '‘fully', 'fully’', '’fully', 'extremely!', '!extremely', 'extremely\"', '\"extremely', 'extremely#', '#extremely', 'extremely$', '$extremely', 'extremely%', '%extremely', 'extremely&', '&extremely', \"extremely'\", \"'extremely\", 'extremely(', '(extremely', 'extremely)', ')extremely', 'extremely*', '*extremely', 'extremely+', '+extremely', 'extremely,', ',extremely', 'extremely-', '-extremely', 'extremely.', '.extremely', 'extremely/', '/extremely', 'extremely:', ':extremely', 'extremely;', ';extremely', 'extremely<', '<extremely', 'extremely=', '=extremely', 'extremely>', '>extremely', 'extremely?', '?extremely', 'extremely@', '@extremely', 'extremely[', '[extremely', 'extremely\\\\', '\\\\extremely', 'extremely]', ']extremely', 'extremely^', '^extremely', 'extremely_', '_extremely', 'extremely`', '`extremely', 'extremely{', '{extremely', 'extremely|', '|extremely', 'extremely}', '}extremely', 'extremely~', '~extremely', 'extremely“', '“extremely', 'extremely”', '”extremely', 'extremely‘', '‘extremely', 'extremely’', '’extremely', 'hardly!', '!hardly', 'hardly\"', '\"hardly', 'hardly#', '#hardly', 'hardly$', '$hardly', 'hardly%', '%hardly', 'hardly&', '&hardly', \"hardly'\", \"'hardly\", 'hardly(', '(hardly', 'hardly)', ')hardly', 'hardly*', '*hardly', 'hardly+', '+hardly', 'hardly,', ',hardly', 'hardly-', '-hardly', 'hardly.', '.hardly', 'hardly/', '/hardly', 'hardly:', ':hardly', 'hardly;', ';hardly', 'hardly<', '<hardly', 'hardly=', '=hardly', 'hardly>', '>hardly', 'hardly?', '?hardly', 'hardly@', '@hardly', 'hardly[', '[hardly', 'hardly\\\\', '\\\\hardly', 'hardly]', ']hardly', 'hardly^', '^hardly', 'hardly_', '_hardly', 'hardly`', '`hardly', 'hardly{', '{hardly', 'hardly|', '|hardly', 'hardly}', '}hardly', 'hardly~', '~hardly', 'hardly“', '“hardly', 'hardly”', '”hardly', 'hardly‘', '‘hardly', 'hardly’', '’hardly', 'very!', '!very', 'very\"', '\"very', 'very#', '#very', 'very$', '$very', 'very%', '%very', 'very&', '&very', \"very'\", \"'very\", 'very(', '(very', 'very)', ')very', 'very*', '*very', 'very+', '+very', 'very,', ',very', 'very-', '-very', 'very.', '.very', 'very/', '/very', 'very:', ':very', 'very;', ';very', 'very<', '<very', 'very=', '=very', 'very>', '>very', 'very?', '?very', 'very@', '@very', 'very[', '[very', 'very\\\\', '\\\\very', 'very]', ']very', 'very^', '^very', 'very_', '_very', 'very`', '`very', 'very{', '{very', 'very|', '|very', 'very}', '}very', 'very~', '~very', 'very“', '“very', 'very”', '”very', 'very‘', '‘very', 'very’', '’very', 'fairly!', '!fairly', 'fairly\"', '\"fairly', 'fairly#', '#fairly', 'fairly$', '$fairly', 'fairly%', '%fairly', 'fairly&', '&fairly', \"fairly'\", \"'fairly\", 'fairly(', '(fairly', 'fairly)', ')fairly', 'fairly*', '*fairly', 'fairly+', '+fairly', 'fairly,', ',fairly', 'fairly-', '-fairly', 'fairly.', '.fairly', 'fairly/', '/fairly', 'fairly:', ':fairly', 'fairly;', ';fairly', 'fairly<', '<fairly', 'fairly=', '=fairly', 'fairly>', '>fairly', 'fairly?', '?fairly', 'fairly@', '@fairly', 'fairly[', '[fairly', 'fairly\\\\', '\\\\fairly', 'fairly]', ']fairly', 'fairly^', '^fairly', 'fairly_', '_fairly', 'fairly`', '`fairly', 'fairly{', '{fairly', 'fairly|', '|fairly', 'fairly}', '}fairly', 'fairly~', '~fairly', 'fairly“', '“fairly', 'fairly”', '”fairly', 'fairly‘', '‘fairly', 'fairly’', '’fairly', 'really!', '!really', 'really\"', '\"really', 'really#', '#really', 'really$', '$really', 'really%', '%really', 'really&', '&really', \"really'\", \"'really\", 'really(', '(really', 'really)', ')really', 'really*', '*really', 'really+', '+really', 'really,', ',really', 'really-', '-really', 'really.', '.really', 'really/', '/really', 'really:', ':really', 'really;', ';really', 'really<', '<really', 'really=', '=really', 'really>', '>really', 'really?', '?really', 'really@', '@really', 'really[', '[really', 'really\\\\', '\\\\really', 'really]', ']really', 'really^', '^really', 'really_', '_really', 'really`', '`really', 'really{', '{really', 'really|', '|really', 'really}', '}really', 'really~', '~really', 'really“', '“really', 'really”', '”really', 'really‘', '‘really', 'really’', '’really', 'much!', '!much', 'much\"', '\"much', 'much#', '#much', 'much$', '$much', 'much%', '%much', 'much&', '&much', \"much'\", \"'much\", 'much(', '(much', 'much)', ')much', 'much*', '*much', 'much+', '+much', 'much,', ',much', 'much-', '-much', 'much.', '.much', 'much/', '/much', 'much:', ':much', 'much;', ';much', 'much<', '<much', 'much=', '=much', 'much>', '>much', 'much?', '?much', 'much@', '@much', 'much[', '[much', 'much\\\\', '\\\\much', 'much]', ']much', 'much^', '^much', 'much_', '_much', 'much`', '`much', 'much{', '{much', 'much|', '|much', 'much}', '}much', 'much~', '~much', 'much“', '“much', 'much”', '”much', 'much‘', '‘much', 'much’', '’much', 'perfectly!', '!perfectly', 'perfectly\"', '\"perfectly', 'perfectly#', '#perfectly', 'perfectly$', '$perfectly', 'perfectly%', '%perfectly', 'perfectly&', '&perfectly', \"perfectly'\", \"'perfectly\", 'perfectly(', '(perfectly', 'perfectly)', ')perfectly', 'perfectly*', '*perfectly', 'perfectly+', '+perfectly', 'perfectly,', ',perfectly', 'perfectly-', '-perfectly', 'perfectly.', '.perfectly', 'perfectly/', '/perfectly', 'perfectly:', ':perfectly', 'perfectly;', ';perfectly', 'perfectly<', '<perfectly', 'perfectly=', '=perfectly', 'perfectly>', '>perfectly', 'perfectly?', '?perfectly', 'perfectly@', '@perfectly', 'perfectly[', '[perfectly', 'perfectly\\\\', '\\\\perfectly', 'perfectly]', ']perfectly', 'perfectly^', '^perfectly', 'perfectly_', '_perfectly', 'perfectly`', '`perfectly', 'perfectly{', '{perfectly', 'perfectly|', '|perfectly', 'perfectly}', '}perfectly', 'perfectly~', '~perfectly', 'perfectly“', '“perfectly', 'perfectly”', '”perfectly', 'perfectly‘', '‘perfectly', 'perfectly’', '’perfectly', 'well!', '!well', 'well\"', '\"well', 'well#', '#well', 'well$', '$well', 'well%', '%well', 'well&', '&well', \"well'\", \"'well\", 'well(', '(well', 'well)', ')well', 'well*', '*well', 'well+', '+well', 'well,', ',well', 'well-', '-well', 'well.', '.well', 'well/', '/well', 'well:', ':well', 'well;', ';well', 'well<', '<well', 'well=', '=well', 'well>', '>well', 'well?', '?well', 'well@', '@well', 'well[', '[well', 'well\\\\', '\\\\well', 'well]', ']well', 'well^', '^well', 'well_', '_well', 'well`', '`well', 'well{', '{well', 'well|', '|well', 'well}', '}well', 'well~', '~well', 'well“', '“well', 'well”', '”well', 'well‘', '‘well', 'well’', '’well', 'nearly!', '!nearly', 'nearly\"', '\"nearly', 'nearly#', '#nearly', 'nearly$', '$nearly', 'nearly%', '%nearly', 'nearly&', '&nearly', \"nearly'\", \"'nearly\", 'nearly(', '(nearly', 'nearly)', ')nearly', 'nearly*', '*nearly', 'nearly+', '+nearly', 'nearly,', ',nearly', 'nearly-', '-nearly', 'nearly.', '.nearly', 'nearly/', '/nearly', 'nearly:', ':nearly', 'nearly;', ';nearly', 'nearly<', '<nearly', 'nearly=', '=nearly', 'nearly>', '>nearly', 'nearly?', '?nearly', 'nearly@', '@nearly', 'nearly[', '[nearly', 'nearly\\\\', '\\\\nearly', 'nearly]', ']nearly', 'nearly^', '^nearly', 'nearly_', '_nearly', 'nearly`', '`nearly', 'nearly{', '{nearly', 'nearly|', '|nearly', 'nearly}', '}nearly', 'nearly~', '~nearly', 'nearly“', '“nearly', 'nearly”', '”nearly', 'nearly‘', '‘nearly', 'nearly’', '’nearly', 'less!', '!less', 'less\"', '\"less', 'less#', '#less', 'less$', '$less', 'less%', '%less', 'less&', '&less', \"less'\", \"'less\", 'less(', '(less', 'less)', ')less', 'less*', '*less', 'less+', '+less', 'less,', ',less', 'less-', '-less', 'less.', '.less', 'less/', '/less', 'less:', ':less', 'less;', ';less', 'less<', '<less', 'less=', '=less', 'less>', '>less', 'less?', '?less', 'less@', '@less', 'less[', '[less', 'less\\\\', '\\\\less', 'less]', ']less', 'less^', '^less', 'less_', '_less', 'less`', '`less', 'less{', '{less', 'less|', '|less', 'less}', '}less', 'less~', '~less', 'less“', '“less', 'less”', '”less', 'less‘', '‘less', 'less’', '’less', 'indeed!', '!indeed', 'indeed\"', '\"indeed', 'indeed#', '#indeed', 'indeed$', '$indeed', 'indeed%', '%indeed', 'indeed&', '&indeed', \"indeed'\", \"'indeed\", 'indeed(', '(indeed', 'indeed)', ')indeed', 'indeed*', '*indeed', 'indeed+', '+indeed', 'indeed,', ',indeed', 'indeed-', '-indeed', 'indeed.', '.indeed', 'indeed/', '/indeed', 'indeed:', ':indeed', 'indeed;', ';indeed', 'indeed<', '<indeed', 'indeed=', '=indeed', 'indeed>', '>indeed', 'indeed?', '?indeed', 'indeed@', '@indeed', 'indeed[', '[indeed', 'indeed\\\\', '\\\\indeed', 'indeed]', ']indeed', 'indeed^', '^indeed', 'indeed_', '_indeed', 'indeed`', '`indeed', 'indeed{', '{indeed', 'indeed|', '|indeed', 'indeed}', '}indeed', 'indeed~', '~indeed', 'indeed“', '“indeed', 'indeed”', '”indeed', 'indeed‘', '‘indeed', 'indeed’', '’indeed', 'too!', '!too', 'too\"', '\"too', 'too#', '#too', 'too$', '$too', 'too%', '%too', 'too&', '&too', \"too'\", \"'too\", 'too(', '(too', 'too)', ')too', 'too*', '*too', 'too+', '+too', 'too,', ',too', 'too-', '-too', 'too.', '.too', 'too/', '/too', 'too:', ':too', 'too;', ';too', 'too<', '<too', 'too=', '=too', 'too>', '>too', 'too?', '?too', 'too@', '@too', 'too[', '[too', 'too\\\\', '\\\\too', 'too]', ']too', 'too^', '^too', 'too_', '_too', 'too`', '`too', 'too{', '{too', 'too|', '|too', 'too}', '}too', 'too~', '~too', 'too“', '“too', 'too”', '”too', 'too‘', '‘too', 'too’', '’too', 'so!', '!so', 'so\"', '\"so', 'so#', '#so', 'so$', '$so', 'so%', '%so', 'so&', '&so', \"so'\", \"'so\", 'so(', '(so', 'so)', ')so', 'so*', '*so', 'so+', '+so', 'so,', ',so', 'so-', '-so', 'so.', '.so', 'so/', '/so', 'so:', ':so', 'so;', ';so', 'so<', '<so', 'so=', '=so', 'so>', '>so', 'so?', '?so', 'so@', '@so', 'so[', '[so', 'so\\\\', '\\\\so', 'so]', ']so', 'so^', '^so', 'so_', '_so', 'so`', '`so', 'so{', '{so', 'so|', '|so', 'so}', '}so', 'so~', '~so', 'so“', '“so', 'so”', '”so', 'so‘', '‘so', 'so’', '’so', 'quite!', '!quite', 'quite\"', '\"quite', 'quite#', '#quite', 'quite$', '$quite', 'quite%', '%quite', 'quite&', '&quite', \"quite'\", \"'quite\", 'quite(', '(quite', 'quite)', ')quite', 'quite*', '*quite', 'quite+', '+quite', 'quite,', ',quite', 'quite-', '-quite', 'quite.', '.quite', 'quite/', '/quite', 'quite:', ':quite', 'quite;', ';quite', 'quite<', '<quite', 'quite=', '=quite', 'quite>', '>quite', 'quite?', '?quite', 'quite@', '@quite', 'quite[', '[quite', 'quite\\\\', '\\\\quite', 'quite]', ']quite', 'quite^', '^quite', 'quite_', '_quite', 'quite`', '`quite', 'quite{', '{quite', 'quite|', '|quite', 'quite}', '}quite', 'quite~', '~quite', 'quite“', '“quite', 'quite”', '”quite', 'quite‘', '‘quite', 'quite’', '’quite', 'rather!', '!rather', 'rather\"', '\"rather', 'rather#', '#rather', 'rather$', '$rather', 'rather%', '%rather', 'rather&', '&rather', \"rather'\", \"'rather\", 'rather(', '(rather', 'rather)', ')rather', 'rather*', '*rather', 'rather+', '+rather', 'rather,', ',rather', 'rather-', '-rather', 'rather.', '.rather', 'rather/', '/rather', 'rather:', ':rather', 'rather;', ';rather', 'rather<', '<rather', 'rather=', '=rather', 'rather>', '>rather', 'rather?', '?rather', 'rather@', '@rather', 'rather[', '[rather', 'rather\\\\', '\\\\rather', 'rather]', ']rather', 'rather^', '^rather', 'rather_', '_rather', 'rather`', '`rather', 'rather{', '{rather', 'rather|', '|rather', 'rather}', '}rather', 'rather~', '~rather', 'rather“', '“rather', 'rather”', '”rather', 'rather‘', '‘rather', 'rather’', '’rather', 'highly!', '!highly', 'highly\"', '\"highly', 'highly#', '#highly', 'highly$', '$highly', 'highly%', '%highly', 'highly&', '&highly', \"highly'\", \"'highly\", 'highly(', '(highly', 'highly)', ')highly', 'highly*', '*highly', 'highly+', '+highly', 'highly,', ',highly', 'highly-', '-highly', 'highly.', '.highly', 'highly/', '/highly', 'highly:', ':highly', 'highly;', ';highly', 'highly<', '<highly', 'highly=', '=highly', 'highly>', '>highly', 'highly?', '?highly', 'highly@', '@highly', 'highly[', '[highly', 'highly\\\\', '\\\\highly', 'highly]', ']highly', 'highly^', '^highly', 'highly_', '_highly', 'highly`', '`highly', 'highly{', '{highly', 'highly|', '|highly', 'highly}', '}highly', 'highly~', '~highly', 'highly“', '“highly', 'highly”', '”highly', 'highly‘', '‘highly', 'highly’', '’highly', 'totally!', '!totally', 'totally\"', '\"totally', 'totally#', '#totally', 'totally$', '$totally', 'totally%', '%totally', 'totally&', '&totally', \"totally'\", \"'totally\", 'totally(', '(totally', 'totally)', ')totally', 'totally*', '*totally', 'totally+', '+totally', 'totally,', ',totally', 'totally-', '-totally', 'totally.', '.totally', 'totally/', '/totally', 'totally:', ':totally', 'totally;', ';totally', 'totally<', '<totally', 'totally=', '=totally', 'totally>', '>totally', 'totally?', '?totally', 'totally@', '@totally', 'totally[', '[totally', 'totally\\\\', '\\\\totally', 'totally]', ']totally', 'totally^', '^totally', 'totally_', '_totally', 'totally`', '`totally', 'totally{', '{totally', 'totally|', '|totally', 'totally}', '}totally', 'totally~', '~totally', 'totally“', '“totally', 'totally”', '”totally', 'totally‘', '‘totally', 'totally’', '’totally']\n"
          ]
        }
      ]
    },
    {
      "cell_type": "markdown",
      "source": [
        "Testing of modifier"
      ],
      "metadata": {
        "id": "1IIa716sCmqU"
      }
    },
    {
      "cell_type": "code",
      "source": [
        "df_test = pd.DataFrame(columns=[\"label\", \"text\"], data=[[0, 'really \"really ,really something']])\n"
      ],
      "metadata": {
        "id": "DUmMeLIc-KIR"
      },
      "execution_count": 50,
      "outputs": []
    },
    {
      "cell_type": "code",
      "source": [
        "df_test['text_new'] = df_test['text'].apply(lambda s: ' '.join([w for w in s.split() if w.lower() not in adv_list]))\n",
        "\n",
        "display(df_test)"
      ],
      "metadata": {
        "colab": {
          "base_uri": "https://localhost:8080/",
          "height": 81
        },
        "id": "w1IByZzY-bdD",
        "outputId": "a2a8e094-b48d-458b-e4fd-9c66b2c34a5a"
      },
      "execution_count": 51,
      "outputs": [
        {
          "output_type": "display_data",
          "data": {
            "text/plain": [
              "   label                              text   text_new\n",
              "0      0  really \"really ,really something  something"
            ],
            "text/html": [
              "\n",
              "  <div id=\"df-64bfb6e7-5fd3-4ebb-b55d-8b9743e2152c\">\n",
              "    <div class=\"colab-df-container\">\n",
              "      <div>\n",
              "<style scoped>\n",
              "    .dataframe tbody tr th:only-of-type {\n",
              "        vertical-align: middle;\n",
              "    }\n",
              "\n",
              "    .dataframe tbody tr th {\n",
              "        vertical-align: top;\n",
              "    }\n",
              "\n",
              "    .dataframe thead th {\n",
              "        text-align: right;\n",
              "    }\n",
              "</style>\n",
              "<table border=\"1\" class=\"dataframe\">\n",
              "  <thead>\n",
              "    <tr style=\"text-align: right;\">\n",
              "      <th></th>\n",
              "      <th>label</th>\n",
              "      <th>text</th>\n",
              "      <th>text_new</th>\n",
              "    </tr>\n",
              "  </thead>\n",
              "  <tbody>\n",
              "    <tr>\n",
              "      <th>0</th>\n",
              "      <td>0</td>\n",
              "      <td>really \"really ,really something</td>\n",
              "      <td>something</td>\n",
              "    </tr>\n",
              "  </tbody>\n",
              "</table>\n",
              "</div>\n",
              "      <button class=\"colab-df-convert\" onclick=\"convertToInteractive('df-64bfb6e7-5fd3-4ebb-b55d-8b9743e2152c')\"\n",
              "              title=\"Convert this dataframe to an interactive table.\"\n",
              "              style=\"display:none;\">\n",
              "        \n",
              "  <svg xmlns=\"http://www.w3.org/2000/svg\" height=\"24px\"viewBox=\"0 0 24 24\"\n",
              "       width=\"24px\">\n",
              "    <path d=\"M0 0h24v24H0V0z\" fill=\"none\"/>\n",
              "    <path d=\"M18.56 5.44l.94 2.06.94-2.06 2.06-.94-2.06-.94-.94-2.06-.94 2.06-2.06.94zm-11 1L8.5 8.5l.94-2.06 2.06-.94-2.06-.94L8.5 2.5l-.94 2.06-2.06.94zm10 10l.94 2.06.94-2.06 2.06-.94-2.06-.94-.94-2.06-.94 2.06-2.06.94z\"/><path d=\"M17.41 7.96l-1.37-1.37c-.4-.4-.92-.59-1.43-.59-.52 0-1.04.2-1.43.59L10.3 9.45l-7.72 7.72c-.78.78-.78 2.05 0 2.83L4 21.41c.39.39.9.59 1.41.59.51 0 1.02-.2 1.41-.59l7.78-7.78 2.81-2.81c.8-.78.8-2.07 0-2.86zM5.41 20L4 18.59l7.72-7.72 1.47 1.35L5.41 20z\"/>\n",
              "  </svg>\n",
              "      </button>\n",
              "      \n",
              "  <style>\n",
              "    .colab-df-container {\n",
              "      display:flex;\n",
              "      flex-wrap:wrap;\n",
              "      gap: 12px;\n",
              "    }\n",
              "\n",
              "    .colab-df-convert {\n",
              "      background-color: #E8F0FE;\n",
              "      border: none;\n",
              "      border-radius: 50%;\n",
              "      cursor: pointer;\n",
              "      display: none;\n",
              "      fill: #1967D2;\n",
              "      height: 32px;\n",
              "      padding: 0 0 0 0;\n",
              "      width: 32px;\n",
              "    }\n",
              "\n",
              "    .colab-df-convert:hover {\n",
              "      background-color: #E2EBFA;\n",
              "      box-shadow: 0px 1px 2px rgba(60, 64, 67, 0.3), 0px 1px 3px 1px rgba(60, 64, 67, 0.15);\n",
              "      fill: #174EA6;\n",
              "    }\n",
              "\n",
              "    [theme=dark] .colab-df-convert {\n",
              "      background-color: #3B4455;\n",
              "      fill: #D2E3FC;\n",
              "    }\n",
              "\n",
              "    [theme=dark] .colab-df-convert:hover {\n",
              "      background-color: #434B5C;\n",
              "      box-shadow: 0px 1px 3px 1px rgba(0, 0, 0, 0.15);\n",
              "      filter: drop-shadow(0px 1px 2px rgba(0, 0, 0, 0.3));\n",
              "      fill: #FFFFFF;\n",
              "    }\n",
              "  </style>\n",
              "\n",
              "      <script>\n",
              "        const buttonEl =\n",
              "          document.querySelector('#df-64bfb6e7-5fd3-4ebb-b55d-8b9743e2152c button.colab-df-convert');\n",
              "        buttonEl.style.display =\n",
              "          google.colab.kernel.accessAllowed ? 'block' : 'none';\n",
              "\n",
              "        async function convertToInteractive(key) {\n",
              "          const element = document.querySelector('#df-64bfb6e7-5fd3-4ebb-b55d-8b9743e2152c');\n",
              "          const dataTable =\n",
              "            await google.colab.kernel.invokeFunction('convertToInteractive',\n",
              "                                                     [key], {});\n",
              "          if (!dataTable) return;\n",
              "\n",
              "          const docLinkHtml = 'Like what you see? Visit the ' +\n",
              "            '<a target=\"_blank\" href=https://colab.research.google.com/notebooks/data_table.ipynb>data table notebook</a>'\n",
              "            + ' to learn more about interactive tables.';\n",
              "          element.innerHTML = '';\n",
              "          dataTable['output_type'] = 'display_data';\n",
              "          await google.colab.output.renderOutput(dataTable, element);\n",
              "          const docLink = document.createElement('div');\n",
              "          docLink.innerHTML = docLinkHtml;\n",
              "          element.appendChild(docLink);\n",
              "        }\n",
              "      </script>\n",
              "    </div>\n",
              "  </div>\n",
              "  "
            ]
          },
          "metadata": {}
        }
      ]
    },
    {
      "cell_type": "markdown",
      "source": [
        "Creating modified dataset"
      ],
      "metadata": {
        "id": "smD_rD8pCr_W"
      }
    },
    {
      "cell_type": "code",
      "source": [
        "#attribution: https://github.com/ljyflores/fake-news-adversarial-benchmark/blob/master/polarity_preprocessing.ipynb\n",
        "df['text_new'] = df['text'].apply(lambda s: ' '.join([w for w in s.split() if w.lower() not in adv_list]))\n",
        "\n",
        "df_old = df[['id','title','author','text','label']]\n",
        "df_new  = df[['id','title','author','text_new','label']].rename(columns={'text_new':'text'})"
      ],
      "metadata": {
        "id": "aRwWYRn2ioJK"
      },
      "execution_count": 52,
      "outputs": []
    },
    {
      "cell_type": "code",
      "source": [
        "#df_old.to_csv('/content/drive/My Drive/198-adversarial-ml/Kaggle-Fake-News/train_old.csv', index=False)\n",
        "#df_new.to_csv('/content/drive/My Drive/198-adversarial-ml/Kaggle-Fake-News/train_new.csv', index=False)"
      ],
      "metadata": {
        "id": "9f_NUcrrrTVD"
      },
      "execution_count": 54,
      "outputs": []
    },
    {
      "cell_type": "code",
      "source": [
        "#!cp \"/content/drive/My Drive/198-adversarial-ml/Kaggle-Fake-News/train_old.csv\" \"train_old.csv\"\n",
        "#!cp \"/content/drive/My Drive/198-adversarial-ml/Kaggle-Fake-News/train_new.csv\" \"train_new.csv\""
      ],
      "metadata": {
        "id": "plYSz7ors5ZL"
      },
      "execution_count": 55,
      "outputs": []
    },
    {
      "cell_type": "markdown",
      "source": [
        "Validation of degree adverbs removal"
      ],
      "metadata": {
        "id": "a-MWQ3AtCOZ9"
      }
    },
    {
      "cell_type": "code",
      "source": [
        "#attribution: https://stackoverflow.com/questions/60873474/find-specific-words-on-dataframe\n",
        "ids_old = df_old.text.str.contains('really$|really-|really ', flags = re.IGNORECASE, regex = True, na = False)\n",
        "ids_new = df_new.text.str.contains('really$|really-|really ', flags = re.IGNORECASE, regex = True, na = False)"
      ],
      "metadata": {
        "id": "tjvo9oYDs-O5"
      },
      "execution_count": 56,
      "outputs": []
    },
    {
      "cell_type": "markdown",
      "source": [
        "3937 rows with adverb \"really\"."
      ],
      "metadata": {
        "id": "hpfRyKMCK8Sp"
      }
    },
    {
      "cell_type": "code",
      "source": [
        "df_old[ids_old]"
      ],
      "metadata": {
        "colab": {
          "base_uri": "https://localhost:8080/",
          "height": 424
        },
        "id": "rKB8-Lqvtgpe",
        "outputId": "01066366-890f-4bef-a9b7-15f8c919739a"
      },
      "execution_count": 57,
      "outputs": [
        {
          "output_type": "execute_result",
          "data": {
            "text/plain": [
              "          id                                              title  \\\n",
              "9          9  A Back-Channel Plan for Ukraine and Russia, Co...   \n",
              "11        11  BBC Comedy Sketch \"Real Housewives of ISIS\" Ca...   \n",
              "14        14  Re: Yes, There Are Paid Government Trolls On S...   \n",
              "15        15  In Major League Soccer, Argentines Find a Home...   \n",
              "21        21  Monica Lewinsky, Clinton Sex Scandal Set for ’...   \n",
              "...      ...                                                ...   \n",
              "20758  20758  Trump’s Opponents See Normal Americans as Depl...   \n",
              "20765  20765  NFL Preview: Championship Match-Ups Prove Team...   \n",
              "20773  20773  Australia to hunt down anti-vax nurses and pro...   \n",
              "20784  20784  Comment on World Heaves Sigh of Relief after T...   \n",
              "20793  20793  Idiot Who Destroyed Trump Hollywood Star Gets ...   \n",
              "\n",
              "                             author  \\\n",
              "9      Megan Twohey and Scott Shane   \n",
              "11                  Chris Tomlinson   \n",
              "14                     AnotherAnnie   \n",
              "15                    Jack Williams   \n",
              "21                    Jerome Hudson   \n",
              "...                             ...   \n",
              "20758                          pcr3   \n",
              "20765              Daniel Leberfeld   \n",
              "20773                   Vicki Batts   \n",
              "20784                  Debbie Menon   \n",
              "20793                   Robert Rich   \n",
              "\n",
              "                                                    text  label  \n",
              "9      A week before Michael T. Flynn resigned as nat...      0  \n",
              "11     The BBC produced spoof on the “Real Housewives...      0  \n",
              "14     Yes, There Are Paid Government Trolls On Socia...      1  \n",
              "15     Guillermo Barros Schelotto was not the first A...      0  \n",
              "21     Screenwriter Ryan Murphy, who has produced the...      0  \n",
              "...                                                  ...    ...  \n",
              "20758  Trump’s Opponents See Normal Americans as Depl...      1  \n",
              "20765  The NFL is a   league, so it should come as no...      0  \n",
              "20773  Australia to hunt down anti-vax nurses and pro...      1  \n",
              "20784    Finian Cunningham has written extensively on...      1  \n",
              "20793  Share This \\nAlthough the vandal who thought i...      1  \n",
              "\n",
              "[3937 rows x 5 columns]"
            ],
            "text/html": [
              "\n",
              "  <div id=\"df-fc708383-fdf0-4040-88cc-6b39245ba1ec\">\n",
              "    <div class=\"colab-df-container\">\n",
              "      <div>\n",
              "<style scoped>\n",
              "    .dataframe tbody tr th:only-of-type {\n",
              "        vertical-align: middle;\n",
              "    }\n",
              "\n",
              "    .dataframe tbody tr th {\n",
              "        vertical-align: top;\n",
              "    }\n",
              "\n",
              "    .dataframe thead th {\n",
              "        text-align: right;\n",
              "    }\n",
              "</style>\n",
              "<table border=\"1\" class=\"dataframe\">\n",
              "  <thead>\n",
              "    <tr style=\"text-align: right;\">\n",
              "      <th></th>\n",
              "      <th>id</th>\n",
              "      <th>title</th>\n",
              "      <th>author</th>\n",
              "      <th>text</th>\n",
              "      <th>label</th>\n",
              "    </tr>\n",
              "  </thead>\n",
              "  <tbody>\n",
              "    <tr>\n",
              "      <th>9</th>\n",
              "      <td>9</td>\n",
              "      <td>A Back-Channel Plan for Ukraine and Russia, Co...</td>\n",
              "      <td>Megan Twohey and Scott Shane</td>\n",
              "      <td>A week before Michael T. Flynn resigned as nat...</td>\n",
              "      <td>0</td>\n",
              "    </tr>\n",
              "    <tr>\n",
              "      <th>11</th>\n",
              "      <td>11</td>\n",
              "      <td>BBC Comedy Sketch \"Real Housewives of ISIS\" Ca...</td>\n",
              "      <td>Chris Tomlinson</td>\n",
              "      <td>The BBC produced spoof on the “Real Housewives...</td>\n",
              "      <td>0</td>\n",
              "    </tr>\n",
              "    <tr>\n",
              "      <th>14</th>\n",
              "      <td>14</td>\n",
              "      <td>Re: Yes, There Are Paid Government Trolls On S...</td>\n",
              "      <td>AnotherAnnie</td>\n",
              "      <td>Yes, There Are Paid Government Trolls On Socia...</td>\n",
              "      <td>1</td>\n",
              "    </tr>\n",
              "    <tr>\n",
              "      <th>15</th>\n",
              "      <td>15</td>\n",
              "      <td>In Major League Soccer, Argentines Find a Home...</td>\n",
              "      <td>Jack Williams</td>\n",
              "      <td>Guillermo Barros Schelotto was not the first A...</td>\n",
              "      <td>0</td>\n",
              "    </tr>\n",
              "    <tr>\n",
              "      <th>21</th>\n",
              "      <td>21</td>\n",
              "      <td>Monica Lewinsky, Clinton Sex Scandal Set for ’...</td>\n",
              "      <td>Jerome Hudson</td>\n",
              "      <td>Screenwriter Ryan Murphy, who has produced the...</td>\n",
              "      <td>0</td>\n",
              "    </tr>\n",
              "    <tr>\n",
              "      <th>...</th>\n",
              "      <td>...</td>\n",
              "      <td>...</td>\n",
              "      <td>...</td>\n",
              "      <td>...</td>\n",
              "      <td>...</td>\n",
              "    </tr>\n",
              "    <tr>\n",
              "      <th>20758</th>\n",
              "      <td>20758</td>\n",
              "      <td>Trump’s Opponents See Normal Americans as Depl...</td>\n",
              "      <td>pcr3</td>\n",
              "      <td>Trump’s Opponents See Normal Americans as Depl...</td>\n",
              "      <td>1</td>\n",
              "    </tr>\n",
              "    <tr>\n",
              "      <th>20765</th>\n",
              "      <td>20765</td>\n",
              "      <td>NFL Preview: Championship Match-Ups Prove Team...</td>\n",
              "      <td>Daniel Leberfeld</td>\n",
              "      <td>The NFL is a   league, so it should come as no...</td>\n",
              "      <td>0</td>\n",
              "    </tr>\n",
              "    <tr>\n",
              "      <th>20773</th>\n",
              "      <td>20773</td>\n",
              "      <td>Australia to hunt down anti-vax nurses and pro...</td>\n",
              "      <td>Vicki Batts</td>\n",
              "      <td>Australia to hunt down anti-vax nurses and pro...</td>\n",
              "      <td>1</td>\n",
              "    </tr>\n",
              "    <tr>\n",
              "      <th>20784</th>\n",
              "      <td>20784</td>\n",
              "      <td>Comment on World Heaves Sigh of Relief after T...</td>\n",
              "      <td>Debbie Menon</td>\n",
              "      <td>Finian Cunningham has written extensively on...</td>\n",
              "      <td>1</td>\n",
              "    </tr>\n",
              "    <tr>\n",
              "      <th>20793</th>\n",
              "      <td>20793</td>\n",
              "      <td>Idiot Who Destroyed Trump Hollywood Star Gets ...</td>\n",
              "      <td>Robert Rich</td>\n",
              "      <td>Share This \\nAlthough the vandal who thought i...</td>\n",
              "      <td>1</td>\n",
              "    </tr>\n",
              "  </tbody>\n",
              "</table>\n",
              "<p>3937 rows × 5 columns</p>\n",
              "</div>\n",
              "      <button class=\"colab-df-convert\" onclick=\"convertToInteractive('df-fc708383-fdf0-4040-88cc-6b39245ba1ec')\"\n",
              "              title=\"Convert this dataframe to an interactive table.\"\n",
              "              style=\"display:none;\">\n",
              "        \n",
              "  <svg xmlns=\"http://www.w3.org/2000/svg\" height=\"24px\"viewBox=\"0 0 24 24\"\n",
              "       width=\"24px\">\n",
              "    <path d=\"M0 0h24v24H0V0z\" fill=\"none\"/>\n",
              "    <path d=\"M18.56 5.44l.94 2.06.94-2.06 2.06-.94-2.06-.94-.94-2.06-.94 2.06-2.06.94zm-11 1L8.5 8.5l.94-2.06 2.06-.94-2.06-.94L8.5 2.5l-.94 2.06-2.06.94zm10 10l.94 2.06.94-2.06 2.06-.94-2.06-.94-.94-2.06-.94 2.06-2.06.94z\"/><path d=\"M17.41 7.96l-1.37-1.37c-.4-.4-.92-.59-1.43-.59-.52 0-1.04.2-1.43.59L10.3 9.45l-7.72 7.72c-.78.78-.78 2.05 0 2.83L4 21.41c.39.39.9.59 1.41.59.51 0 1.02-.2 1.41-.59l7.78-7.78 2.81-2.81c.8-.78.8-2.07 0-2.86zM5.41 20L4 18.59l7.72-7.72 1.47 1.35L5.41 20z\"/>\n",
              "  </svg>\n",
              "      </button>\n",
              "      \n",
              "  <style>\n",
              "    .colab-df-container {\n",
              "      display:flex;\n",
              "      flex-wrap:wrap;\n",
              "      gap: 12px;\n",
              "    }\n",
              "\n",
              "    .colab-df-convert {\n",
              "      background-color: #E8F0FE;\n",
              "      border: none;\n",
              "      border-radius: 50%;\n",
              "      cursor: pointer;\n",
              "      display: none;\n",
              "      fill: #1967D2;\n",
              "      height: 32px;\n",
              "      padding: 0 0 0 0;\n",
              "      width: 32px;\n",
              "    }\n",
              "\n",
              "    .colab-df-convert:hover {\n",
              "      background-color: #E2EBFA;\n",
              "      box-shadow: 0px 1px 2px rgba(60, 64, 67, 0.3), 0px 1px 3px 1px rgba(60, 64, 67, 0.15);\n",
              "      fill: #174EA6;\n",
              "    }\n",
              "\n",
              "    [theme=dark] .colab-df-convert {\n",
              "      background-color: #3B4455;\n",
              "      fill: #D2E3FC;\n",
              "    }\n",
              "\n",
              "    [theme=dark] .colab-df-convert:hover {\n",
              "      background-color: #434B5C;\n",
              "      box-shadow: 0px 1px 3px 1px rgba(0, 0, 0, 0.15);\n",
              "      filter: drop-shadow(0px 1px 2px rgba(0, 0, 0, 0.3));\n",
              "      fill: #FFFFFF;\n",
              "    }\n",
              "  </style>\n",
              "\n",
              "      <script>\n",
              "        const buttonEl =\n",
              "          document.querySelector('#df-fc708383-fdf0-4040-88cc-6b39245ba1ec button.colab-df-convert');\n",
              "        buttonEl.style.display =\n",
              "          google.colab.kernel.accessAllowed ? 'block' : 'none';\n",
              "\n",
              "        async function convertToInteractive(key) {\n",
              "          const element = document.querySelector('#df-fc708383-fdf0-4040-88cc-6b39245ba1ec');\n",
              "          const dataTable =\n",
              "            await google.colab.kernel.invokeFunction('convertToInteractive',\n",
              "                                                     [key], {});\n",
              "          if (!dataTable) return;\n",
              "\n",
              "          const docLinkHtml = 'Like what you see? Visit the ' +\n",
              "            '<a target=\"_blank\" href=https://colab.research.google.com/notebooks/data_table.ipynb>data table notebook</a>'\n",
              "            + ' to learn more about interactive tables.';\n",
              "          element.innerHTML = '';\n",
              "          dataTable['output_type'] = 'display_data';\n",
              "          await google.colab.output.renderOutput(dataTable, element);\n",
              "          const docLink = document.createElement('div');\n",
              "          docLink.innerHTML = docLinkHtml;\n",
              "          element.appendChild(docLink);\n",
              "        }\n",
              "      </script>\n",
              "    </div>\n",
              "  </div>\n",
              "  "
            ]
          },
          "metadata": {},
          "execution_count": 57
        }
      ]
    },
    {
      "cell_type": "markdown",
      "source": [
        "Only 7 rows with the adverb \"really\" are left in the modified dataframe. Double consecutive instances of punctuations and other special characters have not been added to the list of words to be removed."
      ],
      "metadata": {
        "id": "sLL1L8NJCS4h"
      }
    },
    {
      "cell_type": "code",
      "source": [
        "df_new[ids_new]"
      ],
      "metadata": {
        "colab": {
          "base_uri": "https://localhost:8080/",
          "height": 269
        },
        "id": "UC0zqpbOtpw2",
        "outputId": "9adfe8b7-5b65-4c30-d5c3-7efa6fa755b7"
      },
      "execution_count": 59,
      "outputs": [
        {
          "output_type": "execute_result",
          "data": {
            "text/plain": [
              "          id                                              title  \\\n",
              "2610    2610              The Mainstream Media Monopoly Is Over   \n",
              "4879    4879                                       Food Synergy   \n",
              "7203    7203  Comment on 2:00PM Water Cooler 10/28/2016 by J...   \n",
              "9066    9066  An open letter to Fareed Zakaria from The Peop...   \n",
              "11960  11960  “The Radical Left Seems Ready To Go To War” As...   \n",
              "15973  15973         Jonah Hill Is No Joke - The New York Times   \n",
              "18440  18440  President-Elect Donald Trump's First Televised...   \n",
              "\n",
              "                              author  \\\n",
              "2610                       No Author   \n",
              "4879       Michael Greger M.D. FACLM   \n",
              "7203                        JohnnyGL   \n",
              "9066                      Pamalinsky   \n",
              "11960            Contributing Author   \n",
              "15973                    Molly Young   \n",
              "18440  informationclearinghouse.info   \n",
              "\n",
              "                                                    text  label  \n",
              "2610   The arrival of new media, like The Duran and m...      1  \n",
              "4879   Blair Rollin: Nice quote from The China Study....      1  \n",
              "7203   “Political Airpower, Part I: Say No to the No-...      1  \n",
              "9066   1/18/2016, 12:59 am Fareed Zakaria can dish it...      1  \n",
              "11960  Read by 2,559 people This article was written ...      1  \n",
              "15973  You can tell a lot about a person by watching ...      0  \n",
              "18440  President-Elect Donald Trump's First Televised...      1  "
            ],
            "text/html": [
              "\n",
              "  <div id=\"df-284ca557-0445-4839-b4ec-997e2387729b\">\n",
              "    <div class=\"colab-df-container\">\n",
              "      <div>\n",
              "<style scoped>\n",
              "    .dataframe tbody tr th:only-of-type {\n",
              "        vertical-align: middle;\n",
              "    }\n",
              "\n",
              "    .dataframe tbody tr th {\n",
              "        vertical-align: top;\n",
              "    }\n",
              "\n",
              "    .dataframe thead th {\n",
              "        text-align: right;\n",
              "    }\n",
              "</style>\n",
              "<table border=\"1\" class=\"dataframe\">\n",
              "  <thead>\n",
              "    <tr style=\"text-align: right;\">\n",
              "      <th></th>\n",
              "      <th>id</th>\n",
              "      <th>title</th>\n",
              "      <th>author</th>\n",
              "      <th>text</th>\n",
              "      <th>label</th>\n",
              "    </tr>\n",
              "  </thead>\n",
              "  <tbody>\n",
              "    <tr>\n",
              "      <th>2610</th>\n",
              "      <td>2610</td>\n",
              "      <td>The Mainstream Media Monopoly Is Over</td>\n",
              "      <td>No Author</td>\n",
              "      <td>The arrival of new media, like The Duran and m...</td>\n",
              "      <td>1</td>\n",
              "    </tr>\n",
              "    <tr>\n",
              "      <th>4879</th>\n",
              "      <td>4879</td>\n",
              "      <td>Food Synergy</td>\n",
              "      <td>Michael Greger M.D. FACLM</td>\n",
              "      <td>Blair Rollin: Nice quote from The China Study....</td>\n",
              "      <td>1</td>\n",
              "    </tr>\n",
              "    <tr>\n",
              "      <th>7203</th>\n",
              "      <td>7203</td>\n",
              "      <td>Comment on 2:00PM Water Cooler 10/28/2016 by J...</td>\n",
              "      <td>JohnnyGL</td>\n",
              "      <td>“Political Airpower, Part I: Say No to the No-...</td>\n",
              "      <td>1</td>\n",
              "    </tr>\n",
              "    <tr>\n",
              "      <th>9066</th>\n",
              "      <td>9066</td>\n",
              "      <td>An open letter to Fareed Zakaria from The Peop...</td>\n",
              "      <td>Pamalinsky</td>\n",
              "      <td>1/18/2016, 12:59 am Fareed Zakaria can dish it...</td>\n",
              "      <td>1</td>\n",
              "    </tr>\n",
              "    <tr>\n",
              "      <th>11960</th>\n",
              "      <td>11960</td>\n",
              "      <td>“The Radical Left Seems Ready To Go To War” As...</td>\n",
              "      <td>Contributing Author</td>\n",
              "      <td>Read by 2,559 people This article was written ...</td>\n",
              "      <td>1</td>\n",
              "    </tr>\n",
              "    <tr>\n",
              "      <th>15973</th>\n",
              "      <td>15973</td>\n",
              "      <td>Jonah Hill Is No Joke - The New York Times</td>\n",
              "      <td>Molly Young</td>\n",
              "      <td>You can tell a lot about a person by watching ...</td>\n",
              "      <td>0</td>\n",
              "    </tr>\n",
              "    <tr>\n",
              "      <th>18440</th>\n",
              "      <td>18440</td>\n",
              "      <td>President-Elect Donald Trump's First Televised...</td>\n",
              "      <td>informationclearinghouse.info</td>\n",
              "      <td>President-Elect Donald Trump's First Televised...</td>\n",
              "      <td>1</td>\n",
              "    </tr>\n",
              "  </tbody>\n",
              "</table>\n",
              "</div>\n",
              "      <button class=\"colab-df-convert\" onclick=\"convertToInteractive('df-284ca557-0445-4839-b4ec-997e2387729b')\"\n",
              "              title=\"Convert this dataframe to an interactive table.\"\n",
              "              style=\"display:none;\">\n",
              "        \n",
              "  <svg xmlns=\"http://www.w3.org/2000/svg\" height=\"24px\"viewBox=\"0 0 24 24\"\n",
              "       width=\"24px\">\n",
              "    <path d=\"M0 0h24v24H0V0z\" fill=\"none\"/>\n",
              "    <path d=\"M18.56 5.44l.94 2.06.94-2.06 2.06-.94-2.06-.94-.94-2.06-.94 2.06-2.06.94zm-11 1L8.5 8.5l.94-2.06 2.06-.94-2.06-.94L8.5 2.5l-.94 2.06-2.06.94zm10 10l.94 2.06.94-2.06 2.06-.94-2.06-.94-.94-2.06-.94 2.06-2.06.94z\"/><path d=\"M17.41 7.96l-1.37-1.37c-.4-.4-.92-.59-1.43-.59-.52 0-1.04.2-1.43.59L10.3 9.45l-7.72 7.72c-.78.78-.78 2.05 0 2.83L4 21.41c.39.39.9.59 1.41.59.51 0 1.02-.2 1.41-.59l7.78-7.78 2.81-2.81c.8-.78.8-2.07 0-2.86zM5.41 20L4 18.59l7.72-7.72 1.47 1.35L5.41 20z\"/>\n",
              "  </svg>\n",
              "      </button>\n",
              "      \n",
              "  <style>\n",
              "    .colab-df-container {\n",
              "      display:flex;\n",
              "      flex-wrap:wrap;\n",
              "      gap: 12px;\n",
              "    }\n",
              "\n",
              "    .colab-df-convert {\n",
              "      background-color: #E8F0FE;\n",
              "      border: none;\n",
              "      border-radius: 50%;\n",
              "      cursor: pointer;\n",
              "      display: none;\n",
              "      fill: #1967D2;\n",
              "      height: 32px;\n",
              "      padding: 0 0 0 0;\n",
              "      width: 32px;\n",
              "    }\n",
              "\n",
              "    .colab-df-convert:hover {\n",
              "      background-color: #E2EBFA;\n",
              "      box-shadow: 0px 1px 2px rgba(60, 64, 67, 0.3), 0px 1px 3px 1px rgba(60, 64, 67, 0.15);\n",
              "      fill: #174EA6;\n",
              "    }\n",
              "\n",
              "    [theme=dark] .colab-df-convert {\n",
              "      background-color: #3B4455;\n",
              "      fill: #D2E3FC;\n",
              "    }\n",
              "\n",
              "    [theme=dark] .colab-df-convert:hover {\n",
              "      background-color: #434B5C;\n",
              "      box-shadow: 0px 1px 3px 1px rgba(0, 0, 0, 0.15);\n",
              "      filter: drop-shadow(0px 1px 2px rgba(0, 0, 0, 0.3));\n",
              "      fill: #FFFFFF;\n",
              "    }\n",
              "  </style>\n",
              "\n",
              "      <script>\n",
              "        const buttonEl =\n",
              "          document.querySelector('#df-284ca557-0445-4839-b4ec-997e2387729b button.colab-df-convert');\n",
              "        buttonEl.style.display =\n",
              "          google.colab.kernel.accessAllowed ? 'block' : 'none';\n",
              "\n",
              "        async function convertToInteractive(key) {\n",
              "          const element = document.querySelector('#df-284ca557-0445-4839-b4ec-997e2387729b');\n",
              "          const dataTable =\n",
              "            await google.colab.kernel.invokeFunction('convertToInteractive',\n",
              "                                                     [key], {});\n",
              "          if (!dataTable) return;\n",
              "\n",
              "          const docLinkHtml = 'Like what you see? Visit the ' +\n",
              "            '<a target=\"_blank\" href=https://colab.research.google.com/notebooks/data_table.ipynb>data table notebook</a>'\n",
              "            + ' to learn more about interactive tables.';\n",
              "          element.innerHTML = '';\n",
              "          dataTable['output_type'] = 'display_data';\n",
              "          await google.colab.output.renderOutput(dataTable, element);\n",
              "          const docLink = document.createElement('div');\n",
              "          docLink.innerHTML = docLinkHtml;\n",
              "          element.appendChild(docLink);\n",
              "        }\n",
              "      </script>\n",
              "    </div>\n",
              "  </div>\n",
              "  "
            ]
          },
          "metadata": {},
          "execution_count": 59
        }
      ]
    }
  ]
}