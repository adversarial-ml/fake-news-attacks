{
  "nbformat": 4,
  "nbformat_minor": 0,
  "metadata": {
    "colab": {
      "provenance": []
    },
    "kernelspec": {
      "name": "python3",
      "display_name": "Python 3"
    },
    "language_info": {
      "name": "python"
    },
    "accelerator": "GPU",
    "gpuClass": "standard"
  },
  "cells": [
    {
      "cell_type": "code",
      "source": [
        "#from google.colab import drive\n",
        "#drive.mount('/content/drive')\n",
        "#!cp \"/content/drive/My Drive/198-adversarial-ml/Kaggle-Fake-News/train.csv\" \"train.csv\""
      ],
      "metadata": {
        "colab": {
          "base_uri": "https://localhost:8080/"
        },
        "id": "HHok42x4Xdeo",
        "outputId": "5d4e7115-eb59-423b-8f33-c30631c7ff66"
      },
      "execution_count": 5,
      "outputs": [
        {
          "output_type": "stream",
          "name": "stdout",
          "text": [
            "Mounted at /content/drive\n"
          ]
        }
      ]
    },
    {
      "cell_type": "code",
      "source": [
        "import pandas as pd\n",
        "import itertools\n",
        "import string\n",
        "import re"
      ],
      "metadata": {
        "id": "tlpy-RUpZYG1"
      },
      "execution_count": 6,
      "outputs": []
    },
    {
      "cell_type": "code",
      "source": [
        "df = pd.read_csv('train.csv')"
      ],
      "metadata": {
        "id": "R1DwgTGjZrM5"
      },
      "execution_count": 7,
      "outputs": []
    },
    {
      "cell_type": "code",
      "source": [
        "adv_list = ['almost', 'badly', 'fully', 'extremely', 'hardly', 'very', 'fairly', 'really', 'much', 'perfectly',\n",
        "            'well', 'nearly', 'less', 'indeed', 'too', 'so', 'quite', 'rather', 'highly', 'totally']\n",
        "special = list(string.punctuation)"
      ],
      "metadata": {
        "id": "o7xZVxO8ozga"
      },
      "execution_count": 15,
      "outputs": []
    },
    {
      "cell_type": "markdown",
      "source": [
        "Adds special characters before and after the adverb."
      ],
      "metadata": {
        "id": "7828GRPHCeSW"
      }
    },
    {
      "cell_type": "code",
      "source": [
        "df = df[df['text'].notnull()]\n",
        "adv_list_sp = []\n",
        "adv_list_sp.append(adv_list)\n",
        "for i in adv_list:\n",
        "  temp_list = []\n",
        "  for j in special:\n",
        "    temp_list.append(i + j)\n",
        "    temp_list.append(j + i)\n",
        "  adv_list_sp.append(temp_list)\n",
        "\n",
        "adv_list = [item for sublist in adv_list_sp for item in sublist]\n",
        "print(adv_list)"
      ],
      "metadata": {
        "colab": {
          "base_uri": "https://localhost:8080/"
        },
        "id": "W8yWqQBSwV8c",
        "outputId": "b042c472-babb-4c2c-eb9a-bc5125abeb18"
      },
      "execution_count": 16,
      "outputs": [
        {
          "output_type": "stream",
          "name": "stdout",
          "text": [
            "['almost', 'badly', 'fully', 'extremely', 'hardly', 'very', 'fairly', 'really', 'much', 'perfectly', 'well', 'nearly', 'less', 'indeed', 'too', 'so', 'quite', 'rather', 'highly', 'totally', 'almost!', '!almost', 'almost\"', '\"almost', 'almost#', '#almost', 'almost$', '$almost', 'almost%', '%almost', 'almost&', '&almost', \"almost'\", \"'almost\", 'almost(', '(almost', 'almost)', ')almost', 'almost*', '*almost', 'almost+', '+almost', 'almost,', ',almost', 'almost-', '-almost', 'almost.', '.almost', 'almost/', '/almost', 'almost:', ':almost', 'almost;', ';almost', 'almost<', '<almost', 'almost=', '=almost', 'almost>', '>almost', 'almost?', '?almost', 'almost@', '@almost', 'almost[', '[almost', 'almost\\\\', '\\\\almost', 'almost]', ']almost', 'almost^', '^almost', 'almost_', '_almost', 'almost`', '`almost', 'almost{', '{almost', 'almost|', '|almost', 'almost}', '}almost', 'almost~', '~almost', 'badly!', '!badly', 'badly\"', '\"badly', 'badly#', '#badly', 'badly$', '$badly', 'badly%', '%badly', 'badly&', '&badly', \"badly'\", \"'badly\", 'badly(', '(badly', 'badly)', ')badly', 'badly*', '*badly', 'badly+', '+badly', 'badly,', ',badly', 'badly-', '-badly', 'badly.', '.badly', 'badly/', '/badly', 'badly:', ':badly', 'badly;', ';badly', 'badly<', '<badly', 'badly=', '=badly', 'badly>', '>badly', 'badly?', '?badly', 'badly@', '@badly', 'badly[', '[badly', 'badly\\\\', '\\\\badly', 'badly]', ']badly', 'badly^', '^badly', 'badly_', '_badly', 'badly`', '`badly', 'badly{', '{badly', 'badly|', '|badly', 'badly}', '}badly', 'badly~', '~badly', 'fully!', '!fully', 'fully\"', '\"fully', 'fully#', '#fully', 'fully$', '$fully', 'fully%', '%fully', 'fully&', '&fully', \"fully'\", \"'fully\", 'fully(', '(fully', 'fully)', ')fully', 'fully*', '*fully', 'fully+', '+fully', 'fully,', ',fully', 'fully-', '-fully', 'fully.', '.fully', 'fully/', '/fully', 'fully:', ':fully', 'fully;', ';fully', 'fully<', '<fully', 'fully=', '=fully', 'fully>', '>fully', 'fully?', '?fully', 'fully@', '@fully', 'fully[', '[fully', 'fully\\\\', '\\\\fully', 'fully]', ']fully', 'fully^', '^fully', 'fully_', '_fully', 'fully`', '`fully', 'fully{', '{fully', 'fully|', '|fully', 'fully}', '}fully', 'fully~', '~fully', 'extremely!', '!extremely', 'extremely\"', '\"extremely', 'extremely#', '#extremely', 'extremely$', '$extremely', 'extremely%', '%extremely', 'extremely&', '&extremely', \"extremely'\", \"'extremely\", 'extremely(', '(extremely', 'extremely)', ')extremely', 'extremely*', '*extremely', 'extremely+', '+extremely', 'extremely,', ',extremely', 'extremely-', '-extremely', 'extremely.', '.extremely', 'extremely/', '/extremely', 'extremely:', ':extremely', 'extremely;', ';extremely', 'extremely<', '<extremely', 'extremely=', '=extremely', 'extremely>', '>extremely', 'extremely?', '?extremely', 'extremely@', '@extremely', 'extremely[', '[extremely', 'extremely\\\\', '\\\\extremely', 'extremely]', ']extremely', 'extremely^', '^extremely', 'extremely_', '_extremely', 'extremely`', '`extremely', 'extremely{', '{extremely', 'extremely|', '|extremely', 'extremely}', '}extremely', 'extremely~', '~extremely', 'hardly!', '!hardly', 'hardly\"', '\"hardly', 'hardly#', '#hardly', 'hardly$', '$hardly', 'hardly%', '%hardly', 'hardly&', '&hardly', \"hardly'\", \"'hardly\", 'hardly(', '(hardly', 'hardly)', ')hardly', 'hardly*', '*hardly', 'hardly+', '+hardly', 'hardly,', ',hardly', 'hardly-', '-hardly', 'hardly.', '.hardly', 'hardly/', '/hardly', 'hardly:', ':hardly', 'hardly;', ';hardly', 'hardly<', '<hardly', 'hardly=', '=hardly', 'hardly>', '>hardly', 'hardly?', '?hardly', 'hardly@', '@hardly', 'hardly[', '[hardly', 'hardly\\\\', '\\\\hardly', 'hardly]', ']hardly', 'hardly^', '^hardly', 'hardly_', '_hardly', 'hardly`', '`hardly', 'hardly{', '{hardly', 'hardly|', '|hardly', 'hardly}', '}hardly', 'hardly~', '~hardly', 'very!', '!very', 'very\"', '\"very', 'very#', '#very', 'very$', '$very', 'very%', '%very', 'very&', '&very', \"very'\", \"'very\", 'very(', '(very', 'very)', ')very', 'very*', '*very', 'very+', '+very', 'very,', ',very', 'very-', '-very', 'very.', '.very', 'very/', '/very', 'very:', ':very', 'very;', ';very', 'very<', '<very', 'very=', '=very', 'very>', '>very', 'very?', '?very', 'very@', '@very', 'very[', '[very', 'very\\\\', '\\\\very', 'very]', ']very', 'very^', '^very', 'very_', '_very', 'very`', '`very', 'very{', '{very', 'very|', '|very', 'very}', '}very', 'very~', '~very', 'fairly!', '!fairly', 'fairly\"', '\"fairly', 'fairly#', '#fairly', 'fairly$', '$fairly', 'fairly%', '%fairly', 'fairly&', '&fairly', \"fairly'\", \"'fairly\", 'fairly(', '(fairly', 'fairly)', ')fairly', 'fairly*', '*fairly', 'fairly+', '+fairly', 'fairly,', ',fairly', 'fairly-', '-fairly', 'fairly.', '.fairly', 'fairly/', '/fairly', 'fairly:', ':fairly', 'fairly;', ';fairly', 'fairly<', '<fairly', 'fairly=', '=fairly', 'fairly>', '>fairly', 'fairly?', '?fairly', 'fairly@', '@fairly', 'fairly[', '[fairly', 'fairly\\\\', '\\\\fairly', 'fairly]', ']fairly', 'fairly^', '^fairly', 'fairly_', '_fairly', 'fairly`', '`fairly', 'fairly{', '{fairly', 'fairly|', '|fairly', 'fairly}', '}fairly', 'fairly~', '~fairly', 'really!', '!really', 'really\"', '\"really', 'really#', '#really', 'really$', '$really', 'really%', '%really', 'really&', '&really', \"really'\", \"'really\", 'really(', '(really', 'really)', ')really', 'really*', '*really', 'really+', '+really', 'really,', ',really', 'really-', '-really', 'really.', '.really', 'really/', '/really', 'really:', ':really', 'really;', ';really', 'really<', '<really', 'really=', '=really', 'really>', '>really', 'really?', '?really', 'really@', '@really', 'really[', '[really', 'really\\\\', '\\\\really', 'really]', ']really', 'really^', '^really', 'really_', '_really', 'really`', '`really', 'really{', '{really', 'really|', '|really', 'really}', '}really', 'really~', '~really', 'much!', '!much', 'much\"', '\"much', 'much#', '#much', 'much$', '$much', 'much%', '%much', 'much&', '&much', \"much'\", \"'much\", 'much(', '(much', 'much)', ')much', 'much*', '*much', 'much+', '+much', 'much,', ',much', 'much-', '-much', 'much.', '.much', 'much/', '/much', 'much:', ':much', 'much;', ';much', 'much<', '<much', 'much=', '=much', 'much>', '>much', 'much?', '?much', 'much@', '@much', 'much[', '[much', 'much\\\\', '\\\\much', 'much]', ']much', 'much^', '^much', 'much_', '_much', 'much`', '`much', 'much{', '{much', 'much|', '|much', 'much}', '}much', 'much~', '~much', 'perfectly!', '!perfectly', 'perfectly\"', '\"perfectly', 'perfectly#', '#perfectly', 'perfectly$', '$perfectly', 'perfectly%', '%perfectly', 'perfectly&', '&perfectly', \"perfectly'\", \"'perfectly\", 'perfectly(', '(perfectly', 'perfectly)', ')perfectly', 'perfectly*', '*perfectly', 'perfectly+', '+perfectly', 'perfectly,', ',perfectly', 'perfectly-', '-perfectly', 'perfectly.', '.perfectly', 'perfectly/', '/perfectly', 'perfectly:', ':perfectly', 'perfectly;', ';perfectly', 'perfectly<', '<perfectly', 'perfectly=', '=perfectly', 'perfectly>', '>perfectly', 'perfectly?', '?perfectly', 'perfectly@', '@perfectly', 'perfectly[', '[perfectly', 'perfectly\\\\', '\\\\perfectly', 'perfectly]', ']perfectly', 'perfectly^', '^perfectly', 'perfectly_', '_perfectly', 'perfectly`', '`perfectly', 'perfectly{', '{perfectly', 'perfectly|', '|perfectly', 'perfectly}', '}perfectly', 'perfectly~', '~perfectly', 'well!', '!well', 'well\"', '\"well', 'well#', '#well', 'well$', '$well', 'well%', '%well', 'well&', '&well', \"well'\", \"'well\", 'well(', '(well', 'well)', ')well', 'well*', '*well', 'well+', '+well', 'well,', ',well', 'well-', '-well', 'well.', '.well', 'well/', '/well', 'well:', ':well', 'well;', ';well', 'well<', '<well', 'well=', '=well', 'well>', '>well', 'well?', '?well', 'well@', '@well', 'well[', '[well', 'well\\\\', '\\\\well', 'well]', ']well', 'well^', '^well', 'well_', '_well', 'well`', '`well', 'well{', '{well', 'well|', '|well', 'well}', '}well', 'well~', '~well', 'nearly!', '!nearly', 'nearly\"', '\"nearly', 'nearly#', '#nearly', 'nearly$', '$nearly', 'nearly%', '%nearly', 'nearly&', '&nearly', \"nearly'\", \"'nearly\", 'nearly(', '(nearly', 'nearly)', ')nearly', 'nearly*', '*nearly', 'nearly+', '+nearly', 'nearly,', ',nearly', 'nearly-', '-nearly', 'nearly.', '.nearly', 'nearly/', '/nearly', 'nearly:', ':nearly', 'nearly;', ';nearly', 'nearly<', '<nearly', 'nearly=', '=nearly', 'nearly>', '>nearly', 'nearly?', '?nearly', 'nearly@', '@nearly', 'nearly[', '[nearly', 'nearly\\\\', '\\\\nearly', 'nearly]', ']nearly', 'nearly^', '^nearly', 'nearly_', '_nearly', 'nearly`', '`nearly', 'nearly{', '{nearly', 'nearly|', '|nearly', 'nearly}', '}nearly', 'nearly~', '~nearly', 'less!', '!less', 'less\"', '\"less', 'less#', '#less', 'less$', '$less', 'less%', '%less', 'less&', '&less', \"less'\", \"'less\", 'less(', '(less', 'less)', ')less', 'less*', '*less', 'less+', '+less', 'less,', ',less', 'less-', '-less', 'less.', '.less', 'less/', '/less', 'less:', ':less', 'less;', ';less', 'less<', '<less', 'less=', '=less', 'less>', '>less', 'less?', '?less', 'less@', '@less', 'less[', '[less', 'less\\\\', '\\\\less', 'less]', ']less', 'less^', '^less', 'less_', '_less', 'less`', '`less', 'less{', '{less', 'less|', '|less', 'less}', '}less', 'less~', '~less', 'indeed!', '!indeed', 'indeed\"', '\"indeed', 'indeed#', '#indeed', 'indeed$', '$indeed', 'indeed%', '%indeed', 'indeed&', '&indeed', \"indeed'\", \"'indeed\", 'indeed(', '(indeed', 'indeed)', ')indeed', 'indeed*', '*indeed', 'indeed+', '+indeed', 'indeed,', ',indeed', 'indeed-', '-indeed', 'indeed.', '.indeed', 'indeed/', '/indeed', 'indeed:', ':indeed', 'indeed;', ';indeed', 'indeed<', '<indeed', 'indeed=', '=indeed', 'indeed>', '>indeed', 'indeed?', '?indeed', 'indeed@', '@indeed', 'indeed[', '[indeed', 'indeed\\\\', '\\\\indeed', 'indeed]', ']indeed', 'indeed^', '^indeed', 'indeed_', '_indeed', 'indeed`', '`indeed', 'indeed{', '{indeed', 'indeed|', '|indeed', 'indeed}', '}indeed', 'indeed~', '~indeed', 'too!', '!too', 'too\"', '\"too', 'too#', '#too', 'too$', '$too', 'too%', '%too', 'too&', '&too', \"too'\", \"'too\", 'too(', '(too', 'too)', ')too', 'too*', '*too', 'too+', '+too', 'too,', ',too', 'too-', '-too', 'too.', '.too', 'too/', '/too', 'too:', ':too', 'too;', ';too', 'too<', '<too', 'too=', '=too', 'too>', '>too', 'too?', '?too', 'too@', '@too', 'too[', '[too', 'too\\\\', '\\\\too', 'too]', ']too', 'too^', '^too', 'too_', '_too', 'too`', '`too', 'too{', '{too', 'too|', '|too', 'too}', '}too', 'too~', '~too', 'so!', '!so', 'so\"', '\"so', 'so#', '#so', 'so$', '$so', 'so%', '%so', 'so&', '&so', \"so'\", \"'so\", 'so(', '(so', 'so)', ')so', 'so*', '*so', 'so+', '+so', 'so,', ',so', 'so-', '-so', 'so.', '.so', 'so/', '/so', 'so:', ':so', 'so;', ';so', 'so<', '<so', 'so=', '=so', 'so>', '>so', 'so?', '?so', 'so@', '@so', 'so[', '[so', 'so\\\\', '\\\\so', 'so]', ']so', 'so^', '^so', 'so_', '_so', 'so`', '`so', 'so{', '{so', 'so|', '|so', 'so}', '}so', 'so~', '~so', 'quite!', '!quite', 'quite\"', '\"quite', 'quite#', '#quite', 'quite$', '$quite', 'quite%', '%quite', 'quite&', '&quite', \"quite'\", \"'quite\", 'quite(', '(quite', 'quite)', ')quite', 'quite*', '*quite', 'quite+', '+quite', 'quite,', ',quite', 'quite-', '-quite', 'quite.', '.quite', 'quite/', '/quite', 'quite:', ':quite', 'quite;', ';quite', 'quite<', '<quite', 'quite=', '=quite', 'quite>', '>quite', 'quite?', '?quite', 'quite@', '@quite', 'quite[', '[quite', 'quite\\\\', '\\\\quite', 'quite]', ']quite', 'quite^', '^quite', 'quite_', '_quite', 'quite`', '`quite', 'quite{', '{quite', 'quite|', '|quite', 'quite}', '}quite', 'quite~', '~quite', 'rather!', '!rather', 'rather\"', '\"rather', 'rather#', '#rather', 'rather$', '$rather', 'rather%', '%rather', 'rather&', '&rather', \"rather'\", \"'rather\", 'rather(', '(rather', 'rather)', ')rather', 'rather*', '*rather', 'rather+', '+rather', 'rather,', ',rather', 'rather-', '-rather', 'rather.', '.rather', 'rather/', '/rather', 'rather:', ':rather', 'rather;', ';rather', 'rather<', '<rather', 'rather=', '=rather', 'rather>', '>rather', 'rather?', '?rather', 'rather@', '@rather', 'rather[', '[rather', 'rather\\\\', '\\\\rather', 'rather]', ']rather', 'rather^', '^rather', 'rather_', '_rather', 'rather`', '`rather', 'rather{', '{rather', 'rather|', '|rather', 'rather}', '}rather', 'rather~', '~rather', 'highly!', '!highly', 'highly\"', '\"highly', 'highly#', '#highly', 'highly$', '$highly', 'highly%', '%highly', 'highly&', '&highly', \"highly'\", \"'highly\", 'highly(', '(highly', 'highly)', ')highly', 'highly*', '*highly', 'highly+', '+highly', 'highly,', ',highly', 'highly-', '-highly', 'highly.', '.highly', 'highly/', '/highly', 'highly:', ':highly', 'highly;', ';highly', 'highly<', '<highly', 'highly=', '=highly', 'highly>', '>highly', 'highly?', '?highly', 'highly@', '@highly', 'highly[', '[highly', 'highly\\\\', '\\\\highly', 'highly]', ']highly', 'highly^', '^highly', 'highly_', '_highly', 'highly`', '`highly', 'highly{', '{highly', 'highly|', '|highly', 'highly}', '}highly', 'highly~', '~highly', 'totally!', '!totally', 'totally\"', '\"totally', 'totally#', '#totally', 'totally$', '$totally', 'totally%', '%totally', 'totally&', '&totally', \"totally'\", \"'totally\", 'totally(', '(totally', 'totally)', ')totally', 'totally*', '*totally', 'totally+', '+totally', 'totally,', ',totally', 'totally-', '-totally', 'totally.', '.totally', 'totally/', '/totally', 'totally:', ':totally', 'totally;', ';totally', 'totally<', '<totally', 'totally=', '=totally', 'totally>', '>totally', 'totally?', '?totally', 'totally@', '@totally', 'totally[', '[totally', 'totally\\\\', '\\\\totally', 'totally]', ']totally', 'totally^', '^totally', 'totally_', '_totally', 'totally`', '`totally', 'totally{', '{totally', 'totally|', '|totally', 'totally}', '}totally', 'totally~', '~totally']\n"
          ]
        }
      ]
    },
    {
      "cell_type": "markdown",
      "source": [
        "Testing of modifier"
      ],
      "metadata": {
        "id": "1IIa716sCmqU"
      }
    },
    {
      "cell_type": "code",
      "source": [
        "df_test = pd.DataFrame(columns=[\"label\", \"text\"], data=[[0, 'really \"really really\" something']])\n"
      ],
      "metadata": {
        "id": "DUmMeLIc-KIR"
      },
      "execution_count": 17,
      "outputs": []
    },
    {
      "cell_type": "code",
      "source": [
        "df_test['text_new'] = df_test['text'].apply(lambda s: ' '.join([w for w in s.split() if w.lower() not in adv_list]))\n",
        "\n",
        "display(df_test)"
      ],
      "metadata": {
        "colab": {
          "base_uri": "https://localhost:8080/",
          "height": 81
        },
        "id": "w1IByZzY-bdD",
        "outputId": "e2abd1f5-cf3e-48a9-d422-dcf869b4ecf9"
      },
      "execution_count": 18,
      "outputs": [
        {
          "output_type": "display_data",
          "data": {
            "text/plain": [
              "   label                              text   text_new\n",
              "0      0  really \"really really\" something  something"
            ],
            "text/html": [
              "\n",
              "  <div id=\"df-4909dacc-4993-46f2-84d7-116a31cd24da\">\n",
              "    <div class=\"colab-df-container\">\n",
              "      <div>\n",
              "<style scoped>\n",
              "    .dataframe tbody tr th:only-of-type {\n",
              "        vertical-align: middle;\n",
              "    }\n",
              "\n",
              "    .dataframe tbody tr th {\n",
              "        vertical-align: top;\n",
              "    }\n",
              "\n",
              "    .dataframe thead th {\n",
              "        text-align: right;\n",
              "    }\n",
              "</style>\n",
              "<table border=\"1\" class=\"dataframe\">\n",
              "  <thead>\n",
              "    <tr style=\"text-align: right;\">\n",
              "      <th></th>\n",
              "      <th>label</th>\n",
              "      <th>text</th>\n",
              "      <th>text_new</th>\n",
              "    </tr>\n",
              "  </thead>\n",
              "  <tbody>\n",
              "    <tr>\n",
              "      <th>0</th>\n",
              "      <td>0</td>\n",
              "      <td>really \"really really\" something</td>\n",
              "      <td>something</td>\n",
              "    </tr>\n",
              "  </tbody>\n",
              "</table>\n",
              "</div>\n",
              "      <button class=\"colab-df-convert\" onclick=\"convertToInteractive('df-4909dacc-4993-46f2-84d7-116a31cd24da')\"\n",
              "              title=\"Convert this dataframe to an interactive table.\"\n",
              "              style=\"display:none;\">\n",
              "        \n",
              "  <svg xmlns=\"http://www.w3.org/2000/svg\" height=\"24px\"viewBox=\"0 0 24 24\"\n",
              "       width=\"24px\">\n",
              "    <path d=\"M0 0h24v24H0V0z\" fill=\"none\"/>\n",
              "    <path d=\"M18.56 5.44l.94 2.06.94-2.06 2.06-.94-2.06-.94-.94-2.06-.94 2.06-2.06.94zm-11 1L8.5 8.5l.94-2.06 2.06-.94-2.06-.94L8.5 2.5l-.94 2.06-2.06.94zm10 10l.94 2.06.94-2.06 2.06-.94-2.06-.94-.94-2.06-.94 2.06-2.06.94z\"/><path d=\"M17.41 7.96l-1.37-1.37c-.4-.4-.92-.59-1.43-.59-.52 0-1.04.2-1.43.59L10.3 9.45l-7.72 7.72c-.78.78-.78 2.05 0 2.83L4 21.41c.39.39.9.59 1.41.59.51 0 1.02-.2 1.41-.59l7.78-7.78 2.81-2.81c.8-.78.8-2.07 0-2.86zM5.41 20L4 18.59l7.72-7.72 1.47 1.35L5.41 20z\"/>\n",
              "  </svg>\n",
              "      </button>\n",
              "      \n",
              "  <style>\n",
              "    .colab-df-container {\n",
              "      display:flex;\n",
              "      flex-wrap:wrap;\n",
              "      gap: 12px;\n",
              "    }\n",
              "\n",
              "    .colab-df-convert {\n",
              "      background-color: #E8F0FE;\n",
              "      border: none;\n",
              "      border-radius: 50%;\n",
              "      cursor: pointer;\n",
              "      display: none;\n",
              "      fill: #1967D2;\n",
              "      height: 32px;\n",
              "      padding: 0 0 0 0;\n",
              "      width: 32px;\n",
              "    }\n",
              "\n",
              "    .colab-df-convert:hover {\n",
              "      background-color: #E2EBFA;\n",
              "      box-shadow: 0px 1px 2px rgba(60, 64, 67, 0.3), 0px 1px 3px 1px rgba(60, 64, 67, 0.15);\n",
              "      fill: #174EA6;\n",
              "    }\n",
              "\n",
              "    [theme=dark] .colab-df-convert {\n",
              "      background-color: #3B4455;\n",
              "      fill: #D2E3FC;\n",
              "    }\n",
              "\n",
              "    [theme=dark] .colab-df-convert:hover {\n",
              "      background-color: #434B5C;\n",
              "      box-shadow: 0px 1px 3px 1px rgba(0, 0, 0, 0.15);\n",
              "      filter: drop-shadow(0px 1px 2px rgba(0, 0, 0, 0.3));\n",
              "      fill: #FFFFFF;\n",
              "    }\n",
              "  </style>\n",
              "\n",
              "      <script>\n",
              "        const buttonEl =\n",
              "          document.querySelector('#df-4909dacc-4993-46f2-84d7-116a31cd24da button.colab-df-convert');\n",
              "        buttonEl.style.display =\n",
              "          google.colab.kernel.accessAllowed ? 'block' : 'none';\n",
              "\n",
              "        async function convertToInteractive(key) {\n",
              "          const element = document.querySelector('#df-4909dacc-4993-46f2-84d7-116a31cd24da');\n",
              "          const dataTable =\n",
              "            await google.colab.kernel.invokeFunction('convertToInteractive',\n",
              "                                                     [key], {});\n",
              "          if (!dataTable) return;\n",
              "\n",
              "          const docLinkHtml = 'Like what you see? Visit the ' +\n",
              "            '<a target=\"_blank\" href=https://colab.research.google.com/notebooks/data_table.ipynb>data table notebook</a>'\n",
              "            + ' to learn more about interactive tables.';\n",
              "          element.innerHTML = '';\n",
              "          dataTable['output_type'] = 'display_data';\n",
              "          await google.colab.output.renderOutput(dataTable, element);\n",
              "          const docLink = document.createElement('div');\n",
              "          docLink.innerHTML = docLinkHtml;\n",
              "          element.appendChild(docLink);\n",
              "        }\n",
              "      </script>\n",
              "    </div>\n",
              "  </div>\n",
              "  "
            ]
          },
          "metadata": {}
        }
      ]
    },
    {
      "cell_type": "markdown",
      "source": [
        "Creating modified dataset"
      ],
      "metadata": {
        "id": "smD_rD8pCr_W"
      }
    },
    {
      "cell_type": "code",
      "source": [
        "#attribution: https://github.com/ljyflores/fake-news-adversarial-benchmark/blob/master/polarity_preprocessing.ipynb\n",
        "df['text_new'] = df_test['text'].apply(lambda s: ' '.join([w for w in s.split() if w.lower() not in adv_list]))\n",
        "\n",
        "df_old = df[['id','title','author','text','label']]\n",
        "df_new  = df[['id','title','author','text_new','label']].rename(columns={'text_new':'text'})"
      ],
      "metadata": {
        "id": "aRwWYRn2ioJK"
      },
      "execution_count": 20,
      "outputs": []
    },
    {
      "cell_type": "code",
      "source": [
        "#df_old.to_csv('/content/drive/My Drive/198-adversarial-ml/Kaggle-Fake-News/train_old.csv', index=False)\n",
        "#df_new.to_csv('/content/drive/My Drive/198-adversarial-ml/Kaggle-Fake-News/train_new.csv', index=False)"
      ],
      "metadata": {
        "id": "9f_NUcrrrTVD"
      },
      "execution_count": null,
      "outputs": []
    },
    {
      "cell_type": "code",
      "source": [
        "#!cp \"/content/drive/My Drive/198-adversarial-ml/Kaggle-Fake-News/train_old.csv\" \"train_old.csv\"\n",
        "#!cp \"/content/drive/My Drive/198-adversarial-ml/Kaggle-Fake-News/train_new.csv\" \"train_new.csv\""
      ],
      "metadata": {
        "id": "plYSz7ors5ZL"
      },
      "execution_count": null,
      "outputs": []
    },
    {
      "cell_type": "markdown",
      "source": [
        "Validation of degree adverbs removal"
      ],
      "metadata": {
        "id": "a-MWQ3AtCOZ9"
      }
    },
    {
      "cell_type": "code",
      "source": [
        "#attribution: https://stackoverflow.com/questions/60873474/find-specific-words-on-dataframe\n",
        "ids_old = df_old.text.str.contains('really$|really-|really ', flags = re.IGNORECASE, regex = True, na = False)\n",
        "ids_new = df_new.text.str.contains('really$|really-|really ', flags = re.IGNORECASE, regex = True, na = False)"
      ],
      "metadata": {
        "id": "tjvo9oYDs-O5"
      },
      "execution_count": 21,
      "outputs": []
    },
    {
      "cell_type": "code",
      "source": [
        "df_old[ids_old]"
      ],
      "metadata": {
        "colab": {
          "base_uri": "https://localhost:8080/",
          "height": 424
        },
        "id": "rKB8-Lqvtgpe",
        "outputId": "a02f8201-f8eb-4ecc-ffa0-271524cdc7b5"
      },
      "execution_count": 22,
      "outputs": [
        {
          "output_type": "execute_result",
          "data": {
            "text/plain": [
              "          id                                              title  \\\n",
              "9          9  A Back-Channel Plan for Ukraine and Russia, Co...   \n",
              "11        11  BBC Comedy Sketch \"Real Housewives of ISIS\" Ca...   \n",
              "14        14  Re: Yes, There Are Paid Government Trolls On S...   \n",
              "15        15  In Major League Soccer, Argentines Find a Home...   \n",
              "21        21  Monica Lewinsky, Clinton Sex Scandal Set for ’...   \n",
              "...      ...                                                ...   \n",
              "20758  20758  Trump’s Opponents See Normal Americans as Depl...   \n",
              "20765  20765  NFL Preview: Championship Match-Ups Prove Team...   \n",
              "20773  20773  Australia to hunt down anti-vax nurses and pro...   \n",
              "20784  20784  Comment on World Heaves Sigh of Relief after T...   \n",
              "20793  20793  Idiot Who Destroyed Trump Hollywood Star Gets ...   \n",
              "\n",
              "                             author  \\\n",
              "9      Megan Twohey and Scott Shane   \n",
              "11                  Chris Tomlinson   \n",
              "14                     AnotherAnnie   \n",
              "15                    Jack Williams   \n",
              "21                    Jerome Hudson   \n",
              "...                             ...   \n",
              "20758                          pcr3   \n",
              "20765              Daniel Leberfeld   \n",
              "20773                   Vicki Batts   \n",
              "20784                  Debbie Menon   \n",
              "20793                   Robert Rich   \n",
              "\n",
              "                                                    text  label  \n",
              "9      A week before Michael T. Flynn resigned as nat...      0  \n",
              "11     The BBC produced spoof on the “Real Housewives...      0  \n",
              "14     Yes, There Are Paid Government Trolls On Socia...      1  \n",
              "15     Guillermo Barros Schelotto was not the first A...      0  \n",
              "21     Screenwriter Ryan Murphy, who has produced the...      0  \n",
              "...                                                  ...    ...  \n",
              "20758  Trump’s Opponents See Normal Americans as Depl...      1  \n",
              "20765  The NFL is a   league, so it should come as no...      0  \n",
              "20773  Australia to hunt down anti-vax nurses and pro...      1  \n",
              "20784    Finian Cunningham has written extensively on...      1  \n",
              "20793  Share This \\nAlthough the vandal who thought i...      1  \n",
              "\n",
              "[3937 rows x 5 columns]"
            ],
            "text/html": [
              "\n",
              "  <div id=\"df-cc214272-e4dc-4cda-b177-4ac2263dad35\">\n",
              "    <div class=\"colab-df-container\">\n",
              "      <div>\n",
              "<style scoped>\n",
              "    .dataframe tbody tr th:only-of-type {\n",
              "        vertical-align: middle;\n",
              "    }\n",
              "\n",
              "    .dataframe tbody tr th {\n",
              "        vertical-align: top;\n",
              "    }\n",
              "\n",
              "    .dataframe thead th {\n",
              "        text-align: right;\n",
              "    }\n",
              "</style>\n",
              "<table border=\"1\" class=\"dataframe\">\n",
              "  <thead>\n",
              "    <tr style=\"text-align: right;\">\n",
              "      <th></th>\n",
              "      <th>id</th>\n",
              "      <th>title</th>\n",
              "      <th>author</th>\n",
              "      <th>text</th>\n",
              "      <th>label</th>\n",
              "    </tr>\n",
              "  </thead>\n",
              "  <tbody>\n",
              "    <tr>\n",
              "      <th>9</th>\n",
              "      <td>9</td>\n",
              "      <td>A Back-Channel Plan for Ukraine and Russia, Co...</td>\n",
              "      <td>Megan Twohey and Scott Shane</td>\n",
              "      <td>A week before Michael T. Flynn resigned as nat...</td>\n",
              "      <td>0</td>\n",
              "    </tr>\n",
              "    <tr>\n",
              "      <th>11</th>\n",
              "      <td>11</td>\n",
              "      <td>BBC Comedy Sketch \"Real Housewives of ISIS\" Ca...</td>\n",
              "      <td>Chris Tomlinson</td>\n",
              "      <td>The BBC produced spoof on the “Real Housewives...</td>\n",
              "      <td>0</td>\n",
              "    </tr>\n",
              "    <tr>\n",
              "      <th>14</th>\n",
              "      <td>14</td>\n",
              "      <td>Re: Yes, There Are Paid Government Trolls On S...</td>\n",
              "      <td>AnotherAnnie</td>\n",
              "      <td>Yes, There Are Paid Government Trolls On Socia...</td>\n",
              "      <td>1</td>\n",
              "    </tr>\n",
              "    <tr>\n",
              "      <th>15</th>\n",
              "      <td>15</td>\n",
              "      <td>In Major League Soccer, Argentines Find a Home...</td>\n",
              "      <td>Jack Williams</td>\n",
              "      <td>Guillermo Barros Schelotto was not the first A...</td>\n",
              "      <td>0</td>\n",
              "    </tr>\n",
              "    <tr>\n",
              "      <th>21</th>\n",
              "      <td>21</td>\n",
              "      <td>Monica Lewinsky, Clinton Sex Scandal Set for ’...</td>\n",
              "      <td>Jerome Hudson</td>\n",
              "      <td>Screenwriter Ryan Murphy, who has produced the...</td>\n",
              "      <td>0</td>\n",
              "    </tr>\n",
              "    <tr>\n",
              "      <th>...</th>\n",
              "      <td>...</td>\n",
              "      <td>...</td>\n",
              "      <td>...</td>\n",
              "      <td>...</td>\n",
              "      <td>...</td>\n",
              "    </tr>\n",
              "    <tr>\n",
              "      <th>20758</th>\n",
              "      <td>20758</td>\n",
              "      <td>Trump’s Opponents See Normal Americans as Depl...</td>\n",
              "      <td>pcr3</td>\n",
              "      <td>Trump’s Opponents See Normal Americans as Depl...</td>\n",
              "      <td>1</td>\n",
              "    </tr>\n",
              "    <tr>\n",
              "      <th>20765</th>\n",
              "      <td>20765</td>\n",
              "      <td>NFL Preview: Championship Match-Ups Prove Team...</td>\n",
              "      <td>Daniel Leberfeld</td>\n",
              "      <td>The NFL is a   league, so it should come as no...</td>\n",
              "      <td>0</td>\n",
              "    </tr>\n",
              "    <tr>\n",
              "      <th>20773</th>\n",
              "      <td>20773</td>\n",
              "      <td>Australia to hunt down anti-vax nurses and pro...</td>\n",
              "      <td>Vicki Batts</td>\n",
              "      <td>Australia to hunt down anti-vax nurses and pro...</td>\n",
              "      <td>1</td>\n",
              "    </tr>\n",
              "    <tr>\n",
              "      <th>20784</th>\n",
              "      <td>20784</td>\n",
              "      <td>Comment on World Heaves Sigh of Relief after T...</td>\n",
              "      <td>Debbie Menon</td>\n",
              "      <td>Finian Cunningham has written extensively on...</td>\n",
              "      <td>1</td>\n",
              "    </tr>\n",
              "    <tr>\n",
              "      <th>20793</th>\n",
              "      <td>20793</td>\n",
              "      <td>Idiot Who Destroyed Trump Hollywood Star Gets ...</td>\n",
              "      <td>Robert Rich</td>\n",
              "      <td>Share This \\nAlthough the vandal who thought i...</td>\n",
              "      <td>1</td>\n",
              "    </tr>\n",
              "  </tbody>\n",
              "</table>\n",
              "<p>3937 rows × 5 columns</p>\n",
              "</div>\n",
              "      <button class=\"colab-df-convert\" onclick=\"convertToInteractive('df-cc214272-e4dc-4cda-b177-4ac2263dad35')\"\n",
              "              title=\"Convert this dataframe to an interactive table.\"\n",
              "              style=\"display:none;\">\n",
              "        \n",
              "  <svg xmlns=\"http://www.w3.org/2000/svg\" height=\"24px\"viewBox=\"0 0 24 24\"\n",
              "       width=\"24px\">\n",
              "    <path d=\"M0 0h24v24H0V0z\" fill=\"none\"/>\n",
              "    <path d=\"M18.56 5.44l.94 2.06.94-2.06 2.06-.94-2.06-.94-.94-2.06-.94 2.06-2.06.94zm-11 1L8.5 8.5l.94-2.06 2.06-.94-2.06-.94L8.5 2.5l-.94 2.06-2.06.94zm10 10l.94 2.06.94-2.06 2.06-.94-2.06-.94-.94-2.06-.94 2.06-2.06.94z\"/><path d=\"M17.41 7.96l-1.37-1.37c-.4-.4-.92-.59-1.43-.59-.52 0-1.04.2-1.43.59L10.3 9.45l-7.72 7.72c-.78.78-.78 2.05 0 2.83L4 21.41c.39.39.9.59 1.41.59.51 0 1.02-.2 1.41-.59l7.78-7.78 2.81-2.81c.8-.78.8-2.07 0-2.86zM5.41 20L4 18.59l7.72-7.72 1.47 1.35L5.41 20z\"/>\n",
              "  </svg>\n",
              "      </button>\n",
              "      \n",
              "  <style>\n",
              "    .colab-df-container {\n",
              "      display:flex;\n",
              "      flex-wrap:wrap;\n",
              "      gap: 12px;\n",
              "    }\n",
              "\n",
              "    .colab-df-convert {\n",
              "      background-color: #E8F0FE;\n",
              "      border: none;\n",
              "      border-radius: 50%;\n",
              "      cursor: pointer;\n",
              "      display: none;\n",
              "      fill: #1967D2;\n",
              "      height: 32px;\n",
              "      padding: 0 0 0 0;\n",
              "      width: 32px;\n",
              "    }\n",
              "\n",
              "    .colab-df-convert:hover {\n",
              "      background-color: #E2EBFA;\n",
              "      box-shadow: 0px 1px 2px rgba(60, 64, 67, 0.3), 0px 1px 3px 1px rgba(60, 64, 67, 0.15);\n",
              "      fill: #174EA6;\n",
              "    }\n",
              "\n",
              "    [theme=dark] .colab-df-convert {\n",
              "      background-color: #3B4455;\n",
              "      fill: #D2E3FC;\n",
              "    }\n",
              "\n",
              "    [theme=dark] .colab-df-convert:hover {\n",
              "      background-color: #434B5C;\n",
              "      box-shadow: 0px 1px 3px 1px rgba(0, 0, 0, 0.15);\n",
              "      filter: drop-shadow(0px 1px 2px rgba(0, 0, 0, 0.3));\n",
              "      fill: #FFFFFF;\n",
              "    }\n",
              "  </style>\n",
              "\n",
              "      <script>\n",
              "        const buttonEl =\n",
              "          document.querySelector('#df-cc214272-e4dc-4cda-b177-4ac2263dad35 button.colab-df-convert');\n",
              "        buttonEl.style.display =\n",
              "          google.colab.kernel.accessAllowed ? 'block' : 'none';\n",
              "\n",
              "        async function convertToInteractive(key) {\n",
              "          const element = document.querySelector('#df-cc214272-e4dc-4cda-b177-4ac2263dad35');\n",
              "          const dataTable =\n",
              "            await google.colab.kernel.invokeFunction('convertToInteractive',\n",
              "                                                     [key], {});\n",
              "          if (!dataTable) return;\n",
              "\n",
              "          const docLinkHtml = 'Like what you see? Visit the ' +\n",
              "            '<a target=\"_blank\" href=https://colab.research.google.com/notebooks/data_table.ipynb>data table notebook</a>'\n",
              "            + ' to learn more about interactive tables.';\n",
              "          element.innerHTML = '';\n",
              "          dataTable['output_type'] = 'display_data';\n",
              "          await google.colab.output.renderOutput(dataTable, element);\n",
              "          const docLink = document.createElement('div');\n",
              "          docLink.innerHTML = docLinkHtml;\n",
              "          element.appendChild(docLink);\n",
              "        }\n",
              "      </script>\n",
              "    </div>\n",
              "  </div>\n",
              "  "
            ]
          },
          "metadata": {},
          "execution_count": 22
        }
      ]
    },
    {
      "cell_type": "markdown",
      "source": [
        "No occurence of the adverb \"really\" in the modified dataframe."
      ],
      "metadata": {
        "id": "sLL1L8NJCS4h"
      }
    },
    {
      "cell_type": "code",
      "source": [
        "df_new[ids_new]"
      ],
      "metadata": {
        "colab": {
          "base_uri": "https://localhost:8080/",
          "height": 49
        },
        "id": "UC0zqpbOtpw2",
        "outputId": "623a7d4b-eea7-4436-975b-6b5038fe0dec"
      },
      "execution_count": 23,
      "outputs": [
        {
          "output_type": "execute_result",
          "data": {
            "text/plain": [
              "Empty DataFrame\n",
              "Columns: [id, title, author, text, label]\n",
              "Index: []"
            ],
            "text/html": [
              "\n",
              "  <div id=\"df-0b399506-c2ac-48e1-95a7-9f4f36ebf669\">\n",
              "    <div class=\"colab-df-container\">\n",
              "      <div>\n",
              "<style scoped>\n",
              "    .dataframe tbody tr th:only-of-type {\n",
              "        vertical-align: middle;\n",
              "    }\n",
              "\n",
              "    .dataframe tbody tr th {\n",
              "        vertical-align: top;\n",
              "    }\n",
              "\n",
              "    .dataframe thead th {\n",
              "        text-align: right;\n",
              "    }\n",
              "</style>\n",
              "<table border=\"1\" class=\"dataframe\">\n",
              "  <thead>\n",
              "    <tr style=\"text-align: right;\">\n",
              "      <th></th>\n",
              "      <th>id</th>\n",
              "      <th>title</th>\n",
              "      <th>author</th>\n",
              "      <th>text</th>\n",
              "      <th>label</th>\n",
              "    </tr>\n",
              "  </thead>\n",
              "  <tbody>\n",
              "  </tbody>\n",
              "</table>\n",
              "</div>\n",
              "      <button class=\"colab-df-convert\" onclick=\"convertToInteractive('df-0b399506-c2ac-48e1-95a7-9f4f36ebf669')\"\n",
              "              title=\"Convert this dataframe to an interactive table.\"\n",
              "              style=\"display:none;\">\n",
              "        \n",
              "  <svg xmlns=\"http://www.w3.org/2000/svg\" height=\"24px\"viewBox=\"0 0 24 24\"\n",
              "       width=\"24px\">\n",
              "    <path d=\"M0 0h24v24H0V0z\" fill=\"none\"/>\n",
              "    <path d=\"M18.56 5.44l.94 2.06.94-2.06 2.06-.94-2.06-.94-.94-2.06-.94 2.06-2.06.94zm-11 1L8.5 8.5l.94-2.06 2.06-.94-2.06-.94L8.5 2.5l-.94 2.06-2.06.94zm10 10l.94 2.06.94-2.06 2.06-.94-2.06-.94-.94-2.06-.94 2.06-2.06.94z\"/><path d=\"M17.41 7.96l-1.37-1.37c-.4-.4-.92-.59-1.43-.59-.52 0-1.04.2-1.43.59L10.3 9.45l-7.72 7.72c-.78.78-.78 2.05 0 2.83L4 21.41c.39.39.9.59 1.41.59.51 0 1.02-.2 1.41-.59l7.78-7.78 2.81-2.81c.8-.78.8-2.07 0-2.86zM5.41 20L4 18.59l7.72-7.72 1.47 1.35L5.41 20z\"/>\n",
              "  </svg>\n",
              "      </button>\n",
              "      \n",
              "  <style>\n",
              "    .colab-df-container {\n",
              "      display:flex;\n",
              "      flex-wrap:wrap;\n",
              "      gap: 12px;\n",
              "    }\n",
              "\n",
              "    .colab-df-convert {\n",
              "      background-color: #E8F0FE;\n",
              "      border: none;\n",
              "      border-radius: 50%;\n",
              "      cursor: pointer;\n",
              "      display: none;\n",
              "      fill: #1967D2;\n",
              "      height: 32px;\n",
              "      padding: 0 0 0 0;\n",
              "      width: 32px;\n",
              "    }\n",
              "\n",
              "    .colab-df-convert:hover {\n",
              "      background-color: #E2EBFA;\n",
              "      box-shadow: 0px 1px 2px rgba(60, 64, 67, 0.3), 0px 1px 3px 1px rgba(60, 64, 67, 0.15);\n",
              "      fill: #174EA6;\n",
              "    }\n",
              "\n",
              "    [theme=dark] .colab-df-convert {\n",
              "      background-color: #3B4455;\n",
              "      fill: #D2E3FC;\n",
              "    }\n",
              "\n",
              "    [theme=dark] .colab-df-convert:hover {\n",
              "      background-color: #434B5C;\n",
              "      box-shadow: 0px 1px 3px 1px rgba(0, 0, 0, 0.15);\n",
              "      filter: drop-shadow(0px 1px 2px rgba(0, 0, 0, 0.3));\n",
              "      fill: #FFFFFF;\n",
              "    }\n",
              "  </style>\n",
              "\n",
              "      <script>\n",
              "        const buttonEl =\n",
              "          document.querySelector('#df-0b399506-c2ac-48e1-95a7-9f4f36ebf669 button.colab-df-convert');\n",
              "        buttonEl.style.display =\n",
              "          google.colab.kernel.accessAllowed ? 'block' : 'none';\n",
              "\n",
              "        async function convertToInteractive(key) {\n",
              "          const element = document.querySelector('#df-0b399506-c2ac-48e1-95a7-9f4f36ebf669');\n",
              "          const dataTable =\n",
              "            await google.colab.kernel.invokeFunction('convertToInteractive',\n",
              "                                                     [key], {});\n",
              "          if (!dataTable) return;\n",
              "\n",
              "          const docLinkHtml = 'Like what you see? Visit the ' +\n",
              "            '<a target=\"_blank\" href=https://colab.research.google.com/notebooks/data_table.ipynb>data table notebook</a>'\n",
              "            + ' to learn more about interactive tables.';\n",
              "          element.innerHTML = '';\n",
              "          dataTable['output_type'] = 'display_data';\n",
              "          await google.colab.output.renderOutput(dataTable, element);\n",
              "          const docLink = document.createElement('div');\n",
              "          docLink.innerHTML = docLinkHtml;\n",
              "          element.appendChild(docLink);\n",
              "        }\n",
              "      </script>\n",
              "    </div>\n",
              "  </div>\n",
              "  "
            ]
          },
          "metadata": {},
          "execution_count": 23
        }
      ]
    }
  ]
}