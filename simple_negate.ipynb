{
  "nbformat": 4,
  "nbformat_minor": 0,
  "metadata": {
    "colab": {
      "provenance": []
    },
    "kernelspec": {
      "name": "python3",
      "display_name": "Python 3"
    },
    "language_info": {
      "name": "python"
    },
    "accelerator": "GPU",
    "gpuClass": "standard"
  },
  "cells": [
    {
      "cell_type": "code",
      "execution_count": 2,
      "metadata": {
        "colab": {
          "base_uri": "https://localhost:8080/"
        },
        "id": "gJSM8Z6ghvIx",
        "outputId": "70446dde-d85a-4cb7-d665-215d1c874304"
      },
      "outputs": [
        {
          "output_type": "stream",
          "name": "stdout",
          "text": [
            "Mounted at /content/drive\n"
          ]
        }
      ],
      "source": [
        "from google.colab import drive\n",
        "drive.mount('/content/drive')\n",
        "!cp \"/content/drive/My Drive/CS-198-199/filipino-fake-news/full.csv\" \"tl-full.csv\""
      ]
    },
    {
      "cell_type": "code",
      "source": [
        "import pandas as pd\n",
        "import itertools\n",
        "import string\n",
        "import re"
      ],
      "metadata": {
        "id": "R0F6hUTFijqa"
      },
      "execution_count": 2,
      "outputs": []
    },
    {
      "cell_type": "code",
      "source": [
        "df = pd.read_csv('tl-full.csv', nrows=100) # first 100 rows only for testing\n",
        "#print(df['article'])"
      ],
      "metadata": {
        "id": "Fj1wme5Ri0T6"
      },
      "execution_count": null,
      "outputs": []
    },
    {
      "cell_type": "markdown",
      "source": [
        "##Simple Negate Rule #1:\n",
        "####sa -> sa hindi\n",
        "####sa mga -> sa mga hindi"
      ],
      "metadata": {
        "id": "yJaxiEfuoH-i"
      }
    },
    {
      "cell_type": "code",
      "source": [
        "def SimpleNegateSA(article):\n",
        "  split_string = re.split(r'((?<!hindi)(?<!wala)\\s+sa mga\\s+(?!hindi|wala|walang|may)|(?<!hindi)(?<!wala)\\s+sa\\s+(?!mga|hindi|wala|walang|may))', article)\n",
        "  print(split_string)\n",
        "\n",
        "  new_string = \"\"\n",
        "  for i in range(0, len(split_string)-1, 2):\n",
        "    if i+2 == len(split_string)-1:\n",
        "      new_string = new_string + split_string[i] + split_string[i+1] + \"hindi \" + split_string[i+2]\n",
        "    else:\n",
        "      new_string = new_string + split_string[i] + split_string[i+1] + \"hindi \"\n",
        "  return new_string\n",
        "\n",
        "test_string = \"Sinabi ni Cielo Villaluna, tagapagsalita ng PAL, ang bayarin sa mga terminal para sa international flights ay bahagi ng gastos sa mga tiket bilang pagsunod sa memorandum Agreement na nilagdaan ng Manila International Airport Authority (MIAA) at ng mga kumpanya ng airline sa bansa.\"\n",
        "test_new = SimpleNegateSA(test_string)\n",
        "print(test_new)"
      ],
      "metadata": {
        "id": "MNL4bWeajcOR",
        "colab": {
          "base_uri": "https://localhost:8080/"
        },
        "outputId": "24261bbc-2774-40c6-9f01-192c1f81756e"
      },
      "execution_count": 12,
      "outputs": [
        {
          "output_type": "stream",
          "name": "stdout",
          "text": [
            "['Sinabi ni Cielo Villaluna, tagapagsalita ng PAL, ang bayarin', ' sa mga ', 'terminal para', ' sa ', 'international flights ay bahagi ng gastos', ' sa mga ', 'tiket bilang pagsunod', ' sa ', 'memorandum Agreement na nilagdaan ng Manila International Airport Authority (MIAA) at ng mga kumpanya ng airline', ' sa ', 'bansa.']\n",
            "Sinabi ni Cielo Villaluna, tagapagsalita ng PAL, ang bayarin sa mga hindi terminal para sa hindi international flights ay bahagi ng gastos sa mga hindi tiket bilang pagsunod sa hindi memorandum Agreement na nilagdaan ng Manila International Airport Authority (MIAA) at ng mga kumpanya ng airline sa hindi bansa.\n"
          ]
        }
      ]
    },
    {
      "cell_type": "markdown",
      "source": [
        "##Simple Negate Rule #2:\n",
        "####ay/ay ang -> ay hindi\n",
        "####ay mga/ay ang mga -> ay hindi mga"
      ],
      "metadata": {
        "id": "1zwB9cxfQa88"
      }
    },
    {
      "cell_type": "code",
      "source": [
        "def SimpleNegateAY(article):\n",
        "  split_string = re.split(r'(\\s+ay ang mga\\s+(?!hindi|wala|walang|nasa|may)|\\s+ay mga\\s+(?!hindi|wala|walang|nasa|may)|\\s+ay ang\\s+(?!mga|hindi|wala|walang|nasa|may)|\\s+ay\\s+(?!ang mga|mga|hindi|wala|walang|nasa|sa|may))', article)\n",
        "  print(split_string)\n",
        "\n",
        "  new_string = \"\"\n",
        "  for i in range(0, len(split_string)-1, 2):\n",
        "    if i+2 == len(split_string)-1:\n",
        "      if (split_string[i+1] == ' ay ') or (split_string[i+1] == ' ay ang '):\n",
        "        new_string = new_string + split_string[i] + \" ay hindi \" + split_string[i+2]\n",
        "      elif (split_string[i+1] == ' ay mga ') or (split_string[i+1] == ' ay ang mga '):\n",
        "        new_string = new_string + split_string[i] + \" ay hindi mga \" + split_string[i+2]\n",
        "    else:\n",
        "      if (split_string[i+1] == ' ay ') or (split_string[i+1] == ' ay ang '):\n",
        "        new_string = new_string + split_string[i] + \" ay hindi \"\n",
        "      elif (split_string[i+1] == ' ay mga ') or (split_string[i+1] == ' ay ang mga '):\n",
        "        new_string = new_string + split_string[i] + \" ay hindi mga \"\n",
        "  return new_string\n",
        "\n",
        "test_string = \"Kalahati nito ay mga ini-release na para sa mga paghahanda at pagsasaayos ng mga pasilidad para sa naturang Palaro. Ayon kay Albay Gov. Joey Salceda, ang pamahalaang panlalawigan nila ay magtatalaga rin ng P150 million bilang karagdagan budget sa inaprubahan ng Pangulo. Ito ay ang nagsisilbing gabay para sa ating lahat. Ang nakitang nabasag ay ang mga baso.\"\n",
        "test_new = SimpleNegateAY(test_string)\n",
        "print(test_new)"
      ],
      "metadata": {
        "colab": {
          "base_uri": "https://localhost:8080/"
        },
        "id": "SHdNOKWUQbX6",
        "outputId": "33064908-381f-4e1b-bf71-40eacce2152f"
      },
      "execution_count": 11,
      "outputs": [
        {
          "output_type": "stream",
          "name": "stdout",
          "text": [
            "['Kalahati nito', ' ay mga ', 'ini-release na para sa mga paghahanda at pagsasaayos ng mga pasilidad para sa naturang Palaro. Ayon kay Albay Gov. Joey Salceda, ang pamahalaang panlalawigan nila', ' ay ', 'magtatalaga rin ng P150 million bilang karagdagan budget sa i.aprubahan ng Pangulo. Ito', ' ay ang ', 'nagsisilbing gabay para sa ating lahat. Ang nakitang nabasag', ' ay ang mga ', 'baso.']\n",
            "Kalahati nito ay hindi mga ini-release na para sa mga paghahanda at pagsasaayos ng mga pasilidad para sa naturang Palaro. Ayon kay Albay Gov. Joey Salceda, ang pamahalaang panlalawigan nila ay hindi magtatalaga rin ng P150 million bilang karagdagan budget sa i.aprubahan ng Pangulo. Ito ay hindi nagsisilbing gabay para sa ating lahat. Ang nakitang nabasag ay hindi mga baso.\n"
          ]
        }
      ]
    },
    {
      "cell_type": "markdown",
      "source": [
        "##Simple Negate Rule #3:\n",
        "####may/ay may -> walang\n",
        "####mayroon -> wala\n",
        "####mayroong -> walang"
      ],
      "metadata": {
        "id": "3xghGw48hGSb"
      }
    },
    {
      "cell_type": "code",
      "source": [],
      "metadata": {
        "id": "Mop9DZ31hGqy"
      },
      "execution_count": null,
      "outputs": []
    }
  ]
}