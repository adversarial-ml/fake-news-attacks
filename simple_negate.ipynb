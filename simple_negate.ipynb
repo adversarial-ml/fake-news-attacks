{
  "nbformat": 4,
  "nbformat_minor": 0,
  "metadata": {
    "colab": {
      "provenance": []
    },
    "kernelspec": {
      "name": "python3",
      "display_name": "Python 3"
    },
    "language_info": {
      "name": "python"
    },
    "accelerator": "GPU",
    "gpuClass": "standard"
  },
  "cells": [
    {
      "cell_type": "code",
      "execution_count": 23,
      "metadata": {
        "colab": {
          "base_uri": "https://localhost:8080/"
        },
        "id": "gJSM8Z6ghvIx",
        "outputId": "83e40fb4-5278-4d22-8933-6e5f7b9e3944"
      },
      "outputs": [
        {
          "output_type": "stream",
          "name": "stdout",
          "text": [
            "Mounted at /content/drive\n"
          ]
        }
      ],
      "source": [
        "from google.colab import drive\n",
        "drive.mount('/content/drive')\n",
        "!cp \"/content/drive/My Drive/CS-198-199/filipino-fake-news/full.csv\" \"tl-full.csv\""
      ]
    },
    {
      "cell_type": "code",
      "source": [
        "import pandas as pd\n",
        "import itertools\n",
        "import string\n",
        "import re"
      ],
      "metadata": {
        "id": "R0F6hUTFijqa"
      },
      "execution_count": 1,
      "outputs": []
    },
    {
      "cell_type": "code",
      "source": [
        "df = pd.read_csv('tl-full.csv')\n",
        "#print(df['article'])"
      ],
      "metadata": {
        "id": "Fj1wme5Ri0T6"
      },
      "execution_count": 46,
      "outputs": []
    },
    {
      "cell_type": "markdown",
      "source": [
        "## Simple Negate Rule #1:\n",
        "#### sa -> sa hindi\n",
        "#### sa mga -> sa mga hindi"
      ],
      "metadata": {
        "id": "yJaxiEfuoH-i"
      }
    },
    {
      "cell_type": "code",
      "source": [
        "def SimpleNegateSA(article):\n",
        "  split_string = re.split(r'(?i)((?<!hindi)(?<!wala)(?<!para)\\s+sa mga\\s+(?!hindi|wala|walang|may)|(?<!hindi)(?<!wala)(?<!para)\\s+sa\\s+(?!mga|hindi|wala|walang|may))', article)\n",
        "\n",
        "  for i in range(len(split_string)):\n",
        "    if (split_string[i].casefold() == ' sa ') or (split_string[i].casefold() == ' sa mga '):\n",
        "      split_string[i] = split_string[i] + \"hindi \"\n",
        "  return \"\". join(split_string)\n",
        "\n",
        "\n",
        "#test_string = \"Sinabi ni Cielo Villaluna, tagapagsalita ng PAL, ang bayarin sa mga terminal para sa international flights ay bahagi ng gastos sa mga tiket bilang pagsunod sa memorandum Agreement na nilagdaan ng Manila International Airport Authority (MIAA) at ng mga kumpanya ng airline sa bansa.\"\n",
        "#test_new = SimpleNegateSA(test_string)\n",
        "#print(test_new)"
      ],
      "metadata": {
        "id": "MNL4bWeajcOR"
      },
      "execution_count": 47,
      "outputs": []
    },
    {
      "cell_type": "markdown",
      "source": [
        "## Simple Negate Rule #2:\n",
        "#### ay/ay ang -> ay hindi\n",
        "#### ay mga/ay ang mga -> ay hindi mga\n",
        "#### ay nasa -> ay wala sa"
      ],
      "metadata": {
        "id": "1zwB9cxfQa88"
      }
    },
    {
      "cell_type": "code",
      "source": [
        "def SimpleNegateAY(article):\n",
        "  split_string = re.split(r'(?i)(\\s+ay ang mga\\s+(?!hindi|wala|walang|nasa|may)|\\s+ay nasa\\s+(?!hindi|wala|walang)|\\s+ay mga\\s+(?!hindi|wala|walang|nasa|may)|\\s+ay ang\\s+(?!mga|hindi|wala|walang|nasa|may)|\\s+ay\\s+(?!ang mga|mga|hindi|wala|walang|nasa|may))', article)\n",
        "\n",
        "  for i in range(len(split_string)):\n",
        "    if (split_string[i].casefold() == ' ay ') or (split_string[i].casefold() == ' ay ang '):\n",
        "        split_string[i] = \" ay hindi \"\n",
        "    elif (split_string[i].casefold() == ' ay mga ') or (split_string[i].casefold() == ' ay ang mga '):\n",
        "      split_string[i] = \" ay hindi mga \"\n",
        "    elif (split_string[i].casefold() == ' ay nasa '):\n",
        "      split_string[i] = \" ay wala sa \"\n",
        "  return \"\". join(split_string)\n",
        "\n",
        "#test_string = \"Ang suklay ay nasa bag niya. Ang concert ay sa Sabado na gaganapin. Kalahati nito ay mga ini-release na para sa mga paghahanda at pagsasaayos ng mga pasilidad para sa naturang Palaro. Ito ay ang nagsisilbing gabay para sa ating lahat. Ang nakitang nabasag ay ang mga baso.\"\n",
        "#test_new = SimpleNegateAY(test_string)\n",
        "#print(test_new)"
      ],
      "metadata": {
        "id": "SHdNOKWUQbX6"
      },
      "execution_count": 48,
      "outputs": []
    },
    {
      "cell_type": "markdown",
      "source": [
        "## Simple Negate Rule #3:\n",
        "#### may -> walang\n",
        "#### mayroon -> wala\n",
        "#### mayroong -> walang"
      ],
      "metadata": {
        "id": "3xghGw48hGSb"
      }
    },
    {
      "cell_type": "code",
      "source": [
        "def SimpleNegateMAY(article):\n",
        "  split_string = re.split(r'(?i)(\\s+mayroong\\s+(?!hindi|wala|walang)|\\s+mayroon\\s+|\\s+may\\s+(?!hindi|wala|walang))', article)\n",
        "\n",
        "  for i in range(len(split_string)):\n",
        "    if (split_string[i].casefold() == ' may ') or (split_string[i].casefold() == ' mayroong '):\n",
        "      split_string[i] = \" walang \"\n",
        "    elif (split_string[i].casefold() == ' mayroon '):\n",
        "      split_string[i] = \" wala \"\n",
        "  return \"\". join(split_string)\n",
        "\n",
        "#test_string = \"Siya ay may gustong sabihin. Mayroon bang nakapagdala ng pagkain? Ang kanilang grupo ay mayroong ipepresenta ngayon. Sila ay may hindi pagkakaunawaan.\"\n",
        "#test_new = SimpleNegateMAY(test_string)\n",
        "#print(test_new)"
      ],
      "metadata": {
        "id": "Mop9DZ31hGqy"
      },
      "execution_count": 49,
      "outputs": []
    },
    {
      "cell_type": "markdown",
      "source": [
        "## Simple Negate Rule #4:\n",
        "#### upang -> upang hindi\n",
        "#### para -> para hindi\n",
        "#### para sa -> hindi para sa"
      ],
      "metadata": {
        "id": "G2Cu3-ycfJ4N"
      }
    },
    {
      "cell_type": "code",
      "source": [
        "def SimpleNegateUPANG(article):\n",
        "  split_string = re.split(r'(?i)((?<!hindi)\\s+para sa\\s+(?!hindi|wala|walang)|(?<!hindi)\\s+upang\\s+(?!sa|hindi|wala|walang)|(?<!hindi)\\s+para\\s+(?!hindi|wala|walang))', article)\n",
        "\n",
        "  for i in range(len(split_string)):\n",
        "    if (split_string[i].casefold() == ' upang ') or (split_string[i].casefold() == ' para '):\n",
        "      split_string[i] = split_string[i] + \"hindi \"\n",
        "    elif (split_string[i].casefold() == ' para sa '):\n",
        "      split_string[i] = \" hindi\" + split_string[i]\n",
        "  return \"\". join(split_string)\n",
        "\n",
        "#test_string = \"Isinasagawa ang survey upang mapabuti pa ang pagpapatakbo ng mga events sa susunod na pagkakataon. Ang biniling pagkain ay para sa inyo. Kailangan ito para matapos ang mga gawain. Para hindi mapagalitan, sila ay natulog nalang.\"\n",
        "#test_new = SimpleNegateUPANG(test_string)\n",
        "#print(test_new)"
      ],
      "metadata": {
        "id": "WWRSIbVsfKaj"
      },
      "execution_count": 50,
      "outputs": []
    },
    {
      "cell_type": "markdown",
      "source": [
        "## Simple Negate Rule #5:\n",
        "#### nang -> nang hindi"
      ],
      "metadata": {
        "id": "r6_em6mtpvwk"
      }
    },
    {
      "cell_type": "code",
      "source": [
        "def SimpleNegateNANG(article):\n",
        "  split_string = re.split(r'(?i)((?<!hindi)(?<!wala)\\s+nang\\s+(?!hindi|wala|walang|sa|may))', article)\n",
        "\n",
        "  for i in range(len(split_string)):\n",
        "    if (split_string[i].casefold() == ' nang '):\n",
        "      if ((i > 0) and (i < len(split_string)-1)) and (split_string[i-1].casefold().split()[-1] == split_string[i+1].casefold().split()[0]):\n",
        "        continue\n",
        "      else:\n",
        "        split_string[i] = split_string[i] + \"hindi \"\n",
        "  return \"\". join(split_string)\n",
        "\n",
        "#test_string = \"Kailangan nating pangalagaan ang kalikasan nang sa gayon ay hindi tayo nito parusahan. Nilagay niya nang paunti-unti ang mantika upang hindi ito tumalsik. Iyak nang iyak ang sanggol. \"\n",
        "#test_new = SimpleNegateNANG(test_string)\n",
        "#print(test_new)"
      ],
      "metadata": {
        "id": "oaj9bQHBpwE2"
      },
      "execution_count": 51,
      "outputs": []
    },
    {
      "cell_type": "markdown",
      "source": [
        "## Simple Negate Rule #6:\n",
        "#### kung saan -> kung saan hindi"
      ],
      "metadata": {
        "id": "uW7OIBs-vpIh"
      }
    },
    {
      "cell_type": "code",
      "source": [
        "def SimpleNegateKUNGSAAN(article):\n",
        "  split_string = re.split(r'(?i)((?<!hindi)(?<!wala)\\s+kung saan\\s+(?!hindi|wala|walang|may))', article)\n",
        "\n",
        "  for i in range(len(split_string)):\n",
        "    if (split_string[i].casefold() == ' kung saan '):\n",
        "      split_string[i] = split_string[i] + \"hindi \"\n",
        "  return \"\". join(split_string)\n",
        "\n",
        "#test_string = \"Pinuntahan ng pulisya ang lokasyon kung saan natagpuan ang bangkay. Sayang ang kanilang oras sa pagpunta sa tindahan kung saan wala naman ang bibilhin nila.\"\n",
        "#test_new = SimpleNegateKUNGSAAN(test_string)\n",
        "#print(test_new)"
      ],
      "metadata": {
        "id": "URlrtKVhvqAW"
      },
      "execution_count": 52,
      "outputs": []
    },
    {
      "cell_type": "markdown",
      "source": [
        "Apply attacks to Fake News Filipino dataset:"
      ],
      "metadata": {
        "id": "wyKj6I4jh2Au"
      }
    },
    {
      "cell_type": "code",
      "source": [
        "def ApplySimpleNegate(article, label):\n",
        "  modified_article = SimpleNegateMAY(article)\n",
        "  modified_article = SimpleNegateUPANG(modified_article)\n",
        "  modified_article = SimpleNegateNANG(modified_article)\n",
        "  modified_article = SimpleNegateKUNGSAAN(modified_article)\n",
        "  modified_article = SimpleNegateAY(modified_article)\n",
        "  modified_article = SimpleNegateSA(modified_article)\n",
        "\n",
        "  if article != modified_article:\n",
        "    if label == 0:\n",
        "      label = 1\n",
        "\n",
        "  return modified_article, label\n",
        "\n",
        "#test_string = df['article'][70]\n",
        "#new_string, new_label = ApplySimpleNegate(test_string, 0)\n",
        "#print(new_string)\n",
        "#print(new_label)\n",
        "\n",
        "df[['article_new','label_new']] = df.apply(lambda col: ApplySimpleNegate(col['article'], col['label']), axis=1, result_type='expand')\n",
        "df_old = df[['label', 'article']]\n",
        "df_new  = df[['label_new', 'article_new']].rename(columns={'label_new':'label', 'article_new':'article'})"
      ],
      "metadata": {
        "id": "_1m9_6kbh5R-"
      },
      "execution_count": 53,
      "outputs": []
    },
    {
      "cell_type": "code",
      "source": [
        "df.to_csv('/content/drive/My Drive/CS-198-199/filipino-fake-news/full_compare.csv', index=False)\n",
        "\n",
        "#df_old.to_csv('/content/drive/My Drive/CS-198-199/filipino-fake-news/full_test_old.csv', index=False)\n",
        "#df_new.to_csv('/content/drive/My Drive/CS-198-199/filipino-fake-news/full_test_new.csv', index=False)"
      ],
      "metadata": {
        "id": "wYA8Jo6dDN1K"
      },
      "execution_count": 54,
      "outputs": []
    }
  ]
}